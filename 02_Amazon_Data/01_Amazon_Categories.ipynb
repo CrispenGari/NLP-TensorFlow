{
 "cells": [
  {
   "cell_type": "markdown",
   "id": "connected-listening",
   "metadata": {},
   "source": [
    "### Amazon Categories (Custom data)\n",
    "\n",
    "Predicting which category does the review belongs to.\n"
   ]
  },
  {
   "cell_type": "code",
   "execution_count": 1,
   "id": "instructional-cycle",
   "metadata": {},
   "outputs": [],
   "source": [
    "import tensorflow as tf\n",
    "import numpy as np\n",
    "import tensorflow.keras as keras\n",
    "import os\n",
    "import json\n",
    "import re"
   ]
  },
  {
   "cell_type": "code",
   "execution_count": 2,
   "id": "aggregate-style",
   "metadata": {},
   "outputs": [
    {
     "data": {
      "text/plain": [
       "{'reviewerID': 'A2FNUUCH6I6U2S',\n",
       " 'asin': '1455554332',\n",
       " 'reviewerName': 'Louise Jolly \"Bookaholic\"',\n",
       " 'helpful': [0, 0],\n",
       " 'reviewText': \"MY REVIEW:Grand Central Publishing|May 6, 2014|Trade Paperback|ISBN: 978-1-4555-5433-1Still grieving the death of her prematurely delivered infant, Lila finds a welcome distraction in renovating a country house she's recently inherited.  Surrounded by blueprints and plaster dust, though, she finds herself drawn into the story of a group of idealistic university grads from thirty years before, who'd thrown off the shackles of bourgeois city life to claim the cottage and rely only on each other on the land.  But utopia-building can be fraught with unexpected peril, and when the fate of the group is left eerily unclear, Lila turns her attention to untangling a web of secrets to uncover the shocking truth of what happened that fateful year, in order to come to terms with her own loss and build a new future for herself.I was literally glued to the pages of this book.  I just couldn't take my eyes off the pages for even a second.  The story was solid, the characters well fleshed out and original and the surprises just kept coming.  I was literally rocked off my feet by the ending and had no idea what was coming as I was nearing the end.  I think shock is even a mild word to describe the end, I didn't see, nor even considered this ending.  What a powerful punch this story delivered.  Hannah Richell has certainly penned a winner with THE SHADOW YEAR!\",\n",
       " 'overall': 5.0,\n",
       " 'summary': 'Powerful Reading!',\n",
       " 'unixReviewTime': 1403049600,\n",
       " 'reviewTime': '06 18, 2014'}"
      ]
     },
     "execution_count": 2,
     "metadata": {},
     "output_type": "execute_result"
    }
   ],
   "source": [
    "{\"reviewerID\": \"A2FNUUCH6I6U2S\", \"asin\": \"1455554332\", \n",
    " \"reviewerName\": \"Louise Jolly \\\"Bookaholic\\\"\", \"helpful\": [0, 0],\n",
    " \"reviewText\": \"MY REVIEW:Grand Central Publishing|May 6, 2014|Trade Paperback|ISBN: 978-1-4555-5433-1Still grieving the death of her prematurely delivered infant, Lila finds a welcome distraction in renovating a country house she's recently inherited.  Surrounded by blueprints and plaster dust, though, she finds herself drawn into the story of a group of idealistic university grads from thirty years before, who'd thrown off the shackles of bourgeois city life to claim the cottage and rely only on each other on the land.  But utopia-building can be fraught with unexpected peril, and when the fate of the group is left eerily unclear, Lila turns her attention to untangling a web of secrets to uncover the shocking truth of what happened that fateful year, in order to come to terms with her own loss and build a new future for herself.I was literally glued to the pages of this book.  I just couldn't take my eyes off the pages for even a second.  The story was solid, the characters well fleshed out and original and the surprises just kept coming.  I was literally rocked off my feet by the ending and had no idea what was coming as I was nearing the end.  I think shock is even a mild word to describe the end, I didn't see, nor even considered this ending.  What a powerful punch this story delivered.  Hannah Richell has certainly penned a winner with THE SHADOW YEAR!\", \"overall\": 5.0, \"summary\": \"Powerful Reading!\", \n",
    " \"unixReviewTime\": 1403049600, \"reviewTime\": \"06 18, 2014\"}"
   ]
  },
  {
   "cell_type": "code",
   "execution_count": 3,
   "id": "motivated-leader",
   "metadata": {},
   "outputs": [],
   "source": [
    "base = \"./files/category/\""
   ]
  },
  {
   "cell_type": "markdown",
   "id": "facial-retail",
   "metadata": {},
   "source": [
    "### Data preparation.\n",
    "We have 5 categories and each categories which are:\n",
    "\n",
    "    * Books\n",
    "    * Clothing\n",
    "    * Grocery\n",
    "    * Patio\n",
    " \n",
    "Based on the review we want to be able to predict which category does the review belongs to.\n",
    "\n",
    "### File structure\n",
    "\n",
    "```\n",
    "files\n",
    "    category\n",
    "        Books_small.json\n",
    "        Clothing_small.json\n",
    "        Electronics_small.json\n",
    "        Grocery_small.json\n",
    "        Patio_small.json\n",
    "```\n",
    "Each json file has the following structure\n",
    "\n",
    "```json\n",
    "{\n",
    "     \"reviewerID\": \"..\", \n",
    "     \"asin\": \"..\", \n",
    "     \"reviewerName\": \"..\"\",\n",
    "     \"helpful\": [..],\n",
    "     \"reviewText\": \"...\",\n",
    "     \"overall\": .., \n",
    "     \"summary\": \"..\", \n",
    "     \"unixReviewTime\": ..., \n",
    "     \"reviewTime\": \"..\"\n",
    " }\n",
    "```"
   ]
  },
  {
   "cell_type": "code",
   "execution_count": 4,
   "id": "renewable-economics",
   "metadata": {},
   "outputs": [
    {
     "data": {
      "text/plain": [
       "['Books_small.json',\n",
       " 'Clothing_small.json',\n",
       " 'Electronics_small.json',\n",
       " 'Grocery_small.json',\n",
       " 'Patio_small.json']"
      ]
     },
     "execution_count": 4,
     "metadata": {},
     "output_type": "execute_result"
    }
   ],
   "source": [
    "os.listdir(base)"
   ]
  },
  {
   "cell_type": "code",
   "execution_count": 5,
   "id": "foreign-synthesis",
   "metadata": {},
   "outputs": [],
   "source": [
    "class CategoryObject:\n",
    "    def __init__(self, obj):\n",
    "        self.name = obj.get('string')\n",
    "        self.id   = obj.get('id')\n",
    "\n",
    "class Label:\n",
    "    BOOKS        = CategoryObject({\"string\": \"BOOKS\", 'id': 0 })\n",
    "    CLOTHING     = CategoryObject({\"string\": \"CLOTHING\", 'id': 1 })\n",
    "    ELECTRONICS  = CategoryObject({\"string\": \"ELECTRONICS\", 'id': 2 })\n",
    "    GROCERY      = CategoryObject({\"string\": \"GROCERY\", 'id': 3 })\n",
    "    PATIO        = CategoryObject({\"string\": \"PATIO\", 'id': 4 })\n",
    "    \n",
    "class Categories:\n",
    "    def __init__(self, cate, review):\n",
    "        self.category = cate\n",
    "        self.review = review\n",
    " \n",
    "\n",
    "\n",
    "classes = [Label.BOOKS, Label.CLOTHING,  Label.ELECTRONICS, Label.GROCERY, Label.PATIO,]"
   ]
  },
  {
   "cell_type": "code",
   "execution_count": 6,
   "id": "floating-artist",
   "metadata": {},
   "outputs": [
    {
     "data": {
      "text/plain": [
       "0"
      ]
     },
     "execution_count": 6,
     "metadata": {},
     "output_type": "execute_result"
    }
   ],
   "source": [
    "Label.BOOKS.id"
   ]
  },
  {
   "cell_type": "code",
   "execution_count": 64,
   "id": "abstract-arbor",
   "metadata": {},
   "outputs": [],
   "source": [
    "test_text_reviews = []"
   ]
  },
  {
   "cell_type": "code",
   "execution_count": 65,
   "id": "stylish-lunch",
   "metadata": {},
   "outputs": [],
   "source": [
    "categories = []\n",
    "for index, category in enumerate(os.listdir(base)):\n",
    "    with open(os.path.join(base, category), 'r') as f:\n",
    "        for index, line in enumerate(f):\n",
    "            category_json = json.loads(line)\n",
    "            if index == 0:\n",
    "                cate = Label.BOOKS\n",
    "            elif index == 1:\n",
    "                cate = Label.CLOTHING\n",
    "            elif index == 2:\n",
    "                cate = Label.ELECTRONICS\n",
    "            elif index == 3:\n",
    "                cate = Label.GROCERY\n",
    "            else:\n",
    "                cate = Label.PATIO\n",
    "                \n",
    "            if index == 10:\n",
    "                test_text_reviews.append(category_json[\"reviewText\"]) \n",
    "            cate_object = Categories(cate, category_json[\"reviewText\"])\n",
    "            categories.append(cate_object)"
   ]
  },
  {
   "cell_type": "code",
   "execution_count": 66,
   "id": "optional-wallet",
   "metadata": {},
   "outputs": [
    {
     "data": {
      "text/plain": [
       "5"
      ]
     },
     "execution_count": 66,
     "metadata": {},
     "output_type": "execute_result"
    }
   ],
   "source": [
    "len(test_text_reviews)"
   ]
  },
  {
   "cell_type": "code",
   "execution_count": 8,
   "id": "instant-silicon",
   "metadata": {},
   "outputs": [],
   "source": [
    "from collections import Counter"
   ]
  },
  {
   "cell_type": "code",
   "execution_count": 9,
   "id": "caroline-italic",
   "metadata": {},
   "outputs": [],
   "source": [
    "reviews = [i.review for i in categories]\n",
    "labels = [i.category.id for i in categories]"
   ]
  },
  {
   "cell_type": "code",
   "execution_count": 10,
   "id": "psychological-entry",
   "metadata": {},
   "outputs": [
    {
     "data": {
      "text/plain": [
       "(Counter({0: 1000, 1: 1000, 2: 1000, 3: 1000, 4: 1000}), 5000)"
      ]
     },
     "execution_count": 10,
     "metadata": {},
     "output_type": "execute_result"
    }
   ],
   "source": [
    "Counter(labels), len(reviews)"
   ]
  },
  {
   "cell_type": "markdown",
   "id": "graphic-valentine",
   "metadata": {},
   "source": [
    "### Removing numbers."
   ]
  },
  {
   "cell_type": "code",
   "execution_count": 11,
   "id": "amended-kitchen",
   "metadata": {},
   "outputs": [
    {
     "data": {
      "text/plain": [
       "'Da Silva takes the divine by storm with this unique new novel.  She develops a world unlike any others while keeping it firmly in the real world.  This is a very well written and entertaining novel.  I was quite impressed and intrigued by the way that this solid storyline was developed, bringing the readers right into the world of the story.  I was engaged throughout and definitely enjoyed my time spent reading it.I loved the character development in this novel.  Da Silva creates a cast of high school students who actually act like high school students.  I really appreciated the fact that none of them were thrown into situations far beyond their years, nor did they deal with events as if they had decades of life experience under their belts.  It was very refreshing and added to the realism and impact of the novel.  The friendships between the characters in this novel were also truly touching.Overall, this novel was fantastic.  I can&#8217;t wait to read more and to find out what happens next in the series.  I&#8217;d definitely recommend this debut novel by Da Silva to those who want a little YA fun with a completely unique & shocking storyline.Please note that I received a complimentary copy of this work in exchange for an honest review.'"
      ]
     },
     "execution_count": 11,
     "metadata": {},
     "output_type": "execute_result"
    }
   ],
   "source": [
    "text_test = reviews[0]\n",
    "text_test"
   ]
  },
  {
   "cell_type": "code",
   "execution_count": 12,
   "id": "demanding-bennett",
   "metadata": {},
   "outputs": [],
   "source": [
    "def clean_text(sent):\n",
    "    a = re.sub(r'\\d', ' ', sent)\n",
    "    b = re.sub(r'\\s+', ' ', a)\n",
    "    return b"
   ]
  },
  {
   "cell_type": "code",
   "execution_count": 13,
   "id": "narrative-saskatchewan",
   "metadata": {},
   "outputs": [
    {
     "data": {
      "text/plain": [
       "'Da Silva takes the divine by storm with this unique new novel. She develops a world unlike any others while keeping it firmly in the real world. This is a very well written and entertaining novel. I was quite impressed and intrigued by the way that this solid storyline was developed, bringing the readers right into the world of the story. I was engaged throughout and definitely enjoyed my time spent reading it.I loved the character development in this novel. Da Silva creates a cast of high school students who actually act like high school students. I really appreciated the fact that none of them were thrown into situations far beyond their years, nor did they deal with events as if they had decades of life experience under their belts. It was very refreshing and added to the realism and impact of the novel. The friendships between the characters in this novel were also truly touching.Overall, this novel was fantastic. I can&# ;t wait to read more and to find out what happens next in the series. I&# ;d definitely recommend this debut novel by Da Silva to those who want a little YA fun with a completely unique & shocking storyline.Please note that I received a complimentary copy of this work in exchange for an honest review.'"
      ]
     },
     "execution_count": 13,
     "metadata": {},
     "output_type": "execute_result"
    }
   ],
   "source": [
    "clean_reviews = list(map(clean_text, reviews))\n",
    "clean_reviews[0]"
   ]
  },
  {
   "cell_type": "markdown",
   "id": "increasing-delay",
   "metadata": {},
   "source": [
    "### Vocabulary size `aka` number of unique words."
   ]
  },
  {
   "cell_type": "code",
   "execution_count": 14,
   "id": "developing-discrimination",
   "metadata": {},
   "outputs": [],
   "source": [
    "from nltk.tokenize import word_tokenize\n",
    "from sklearn.model_selection import train_test_split"
   ]
  },
  {
   "cell_type": "code",
   "execution_count": 15,
   "id": "chief-solid",
   "metadata": {},
   "outputs": [],
   "source": [
    "counter = Counter()\n",
    "for sent in clean_reviews:\n",
    "    words = word_tokenize(sent)\n",
    "    for word in words:\n",
    "        counter[word] +=1"
   ]
  },
  {
   "cell_type": "code",
   "execution_count": 16,
   "id": "adaptive-anatomy",
   "metadata": {},
   "outputs": [
    {
     "data": {
      "text/plain": [
       "[('.', 24101),\n",
       " ('the', 19797),\n",
       " (',', 16566),\n",
       " ('I', 14429),\n",
       " ('and', 13071),\n",
       " ('to', 12032),\n",
       " ('a', 12019),\n",
       " ('it', 8522),\n",
       " ('of', 7690),\n",
       " ('is', 7673)]"
      ]
     },
     "execution_count": 16,
     "metadata": {},
     "output_type": "execute_result"
    }
   ],
   "source": [
    "counter.most_common(10)"
   ]
  },
  {
   "cell_type": "code",
   "execution_count": 17,
   "id": "bored-assignment",
   "metadata": {},
   "outputs": [
    {
     "data": {
      "text/plain": [
       "27770"
      ]
     },
     "execution_count": 17,
     "metadata": {},
     "output_type": "execute_result"
    }
   ],
   "source": [
    "vocabulary_size = len(counter)\n",
    "vocabulary_size "
   ]
  },
  {
   "cell_type": "markdown",
   "id": "severe-heart",
   "metadata": {},
   "source": [
    "We have `~28k` unique words in the corpus."
   ]
  },
  {
   "cell_type": "markdown",
   "id": "active-pollution",
   "metadata": {},
   "source": [
    "### Creating `word vectors`."
   ]
  },
  {
   "cell_type": "code",
   "execution_count": 18,
   "id": "understood-beatles",
   "metadata": {},
   "outputs": [],
   "source": [
    "from tensorflow.keras.preprocessing.text import Tokenizer"
   ]
  },
  {
   "cell_type": "code",
   "execution_count": 19,
   "id": "fatty-agenda",
   "metadata": {},
   "outputs": [],
   "source": [
    "tokenizer = Tokenizer(num_words=vocabulary_size)\n",
    "tokenizer.fit_on_texts(clean_reviews)"
   ]
  },
  {
   "cell_type": "code",
   "execution_count": 20,
   "id": "double-neutral",
   "metadata": {},
   "outputs": [],
   "source": [
    "word_indices = tokenizer.word_index\n",
    "reversed_tokens = dict([(v, k) for (k, v) in word_indices.items()])"
   ]
  },
  {
   "cell_type": "markdown",
   "id": "living-comedy",
   "metadata": {},
   "source": [
    "### Loading pretrainned weights `glove.6B`.\n",
    "\n",
    "We are going to use this weights in our `embedding` layer which is the first layer in the `net`."
   ]
  },
  {
   "cell_type": "code",
   "execution_count": 50,
   "id": "subsequent-subdivision",
   "metadata": {},
   "outputs": [],
   "source": [
    "embeddings_dictionary = dict()\n",
    "with open(r\"C:\\Users\\crisp\\Downloads\\glove.6B\\glove.6B.100d.txt\", encoding='utf8') as glove_file:\n",
    "    for line in glove_file:\n",
    "        records = line.split()\n",
    "        word  = records[0]\n",
    "        vectors = np.asarray(records[1:], dtype='float32')\n",
    "        embeddings_dictionary[word] = vectors"
   ]
  },
  {
   "cell_type": "markdown",
   "id": "agreed-healthcare",
   "metadata": {},
   "source": [
    "> Creating an `embedding matrix` that suits our data."
   ]
  },
  {
   "cell_type": "code",
   "execution_count": 54,
   "id": "electronic-threshold",
   "metadata": {},
   "outputs": [],
   "source": [
    "embedding_matrix = np.zeros((vocabulary_size, 100))\n",
    "for word, index in tokenizer.word_index.items():\n",
    "    vector = embeddings_dictionary.get(word)\n",
    "    if vector is not None:\n",
    "        embedding_matrix[index] = vector"
   ]
  },
  {
   "cell_type": "markdown",
   "id": "identified-crystal",
   "metadata": {},
   "source": [
    "### Sequence to text function\n",
    "* This function returns a sentence from sequences."
   ]
  },
  {
   "cell_type": "code",
   "execution_count": 21,
   "id": "intensive-studio",
   "metadata": {},
   "outputs": [],
   "source": [
    "def sequence_to_text(sequences):\n",
    "    return \" \".join(reversed_tokens[i] for i in sequences)"
   ]
  },
  {
   "cell_type": "code",
   "execution_count": 22,
   "id": "hundred-witness",
   "metadata": {},
   "outputs": [],
   "source": [
    "sequence_tokens = tokenizer.texts_to_sequences(clean_reviews)"
   ]
  },
  {
   "cell_type": "code",
   "execution_count": 23,
   "id": "given-dispatch",
   "metadata": {},
   "outputs": [
    {
     "name": "stdout",
     "output_type": "stream",
     "text": [
      "[5840, 6775, 374, 1, 6776, 74, 2636, 13, 9, 1136, 151, 444, 78, 5155, 4, 500, 981, 88, 357, 130, 724, 6, 3355, 10, 1, 363, 500, 9, 8, 4, 27, 47, 431, 3, 2033, 444, 2, 20, 216, 775, 3, 2637, 74, 1, 90, 12, 9, 476, 1256, 20, 1704, 3591, 1, 927, 141, 91, 1, 500, 7, 1, 100, 2, 20, 3592, 1198, 3, 230, 355, 14, 68, 1061, 226, 6, 2, 237, 1, 566, 2118, 10, 9, 444, 5840, 6775, 3593, 4, 2034, 7, 218, 904, 3139, 122, 241, 2795, 26, 218, 904, 3139, 2, 57, 2514, 1, 411, 12, 1315, 7, 35, 83, 2388, 91, 2119, 196, 1257, 109, 162, 999, 99, 24, 460, 13, 1890, 22, 30, 24, 46, 3594, 7, 203, 501, 351, 109, 4208, 6, 20, 27, 2291, 3, 545, 5, 1, 11053, 3, 2638, 7, 1, 444, 1, 3873, 318, 1, 214, 10, 9, 444, 83, 72, 795, 2958, 292, 9, 444, 20, 776, 2, 36, 238, 428, 5, 80, 39, 3, 5, 143, 43, 58, 951, 251, 10, 1, 194, 2, 384, 230, 124, 9, 5156, 444, 74, 5840, 6775, 5, 197, 122, 114, 4, 70, 2959, 487, 13, 4, 609, 1136, 3595, 1256, 894, 610, 12, 2, 368, 4, 4209, 1164, 7, 9, 98, 10, 1081, 11, 51, 599, 211]\n"
     ]
    },
    {
     "data": {
      "text/plain": [
       "(None,\n",
       " 'da silva takes the divine by storm with this unique new novel she develops a world unlike any others while keeping it firmly in the real world this is a very well written and entertaining novel i was quite impressed and intrigued by the way that this solid storyline was developed bringing the readers right into the world of the story i was engaged throughout and definitely enjoyed my time spent reading it i loved the character development in this novel da silva creates a cast of high school students who actually act like high school students i really appreciated the fact that none of them were thrown into situations far beyond their years nor did they deal with events as if they had decades of life experience under their belts it was very refreshing and added to the realism and impact of the novel the friendships between the characters in this novel were also truly touching overall this novel was fantastic i can t wait to read more and to find out what happens next in the series i d definitely recommend this debut novel by da silva to those who want a little ya fun with a completely unique shocking storyline please note that i received a complimentary copy of this work in exchange for an honest review')"
      ]
     },
     "execution_count": 23,
     "metadata": {},
     "output_type": "execute_result"
    }
   ],
   "source": [
    "print(sequence_tokens[0]), sequence_to_text(sequence_tokens[0])"
   ]
  },
  {
   "cell_type": "markdown",
   "id": "rational-gathering",
   "metadata": {},
   "source": [
    "### Padding `sequences`."
   ]
  },
  {
   "cell_type": "code",
   "execution_count": 24,
   "id": "smart-configuration",
   "metadata": {},
   "outputs": [],
   "source": [
    "from tensorflow.keras.preprocessing.sequence import pad_sequences"
   ]
  },
  {
   "cell_type": "code",
   "execution_count": 39,
   "id": "nonprofit-bench",
   "metadata": {},
   "outputs": [],
   "source": [
    "max_words = 100\n",
    "tokens_sequence_padded = pad_sequences(sequence_tokens, maxlen=max_words, padding=\"post\", truncating=\"post\")"
   ]
  },
  {
   "cell_type": "markdown",
   "id": "suspected-customs",
   "metadata": {},
   "source": [
    "### Creating a model.\n",
    "\n",
    "### Model `Achitecture`\n",
    "\n",
    "```\n",
    "                [ Embedding Layer]\n",
    "                        |\n",
    "                        |\n",
    "[ LSTM ] <---- [Bidirectional Layer] ----> [GRU] (forward_layer)\n",
    " (backward_layer)       |\n",
    "                        |\n",
    "                 [ Flatten Layer]\n",
    "                        |\n",
    "                        |\n",
    "                 [Dense Layer 1]\n",
    "                        |\n",
    "                        |    \n",
    "                 [Dense Layer 2]\n",
    "                        |\n",
    "                        |\n",
    "                 [Dense Layer 3] (output [5 classes])\n",
    "```"
   ]
  },
  {
   "cell_type": "code",
   "execution_count": 55,
   "id": "appointed-assets",
   "metadata": {},
   "outputs": [
    {
     "name": "stdout",
     "output_type": "stream",
     "text": [
      "Model: \"amazon_category_classifier\"\n",
      "_________________________________________________________________\n",
      "Layer (type)                 Output Shape              Param #   \n",
      "=================================================================\n",
      "embedding_4 (Embedding)      (None, 100, 100)          2777000   \n",
      "_________________________________________________________________\n",
      "bidirectional_4 (Bidirection (None, 100, 128)          74112     \n",
      "_________________________________________________________________\n",
      "flatten_4 (Flatten)          (None, 12800)             0         \n",
      "_________________________________________________________________\n",
      "dense_12 (Dense)             (None, 64)                819264    \n",
      "_________________________________________________________________\n",
      "dense_13 (Dense)             (None, 512)               33280     \n",
      "_________________________________________________________________\n",
      "dense_14 (Dense)             (None, 5)                 2565      \n",
      "=================================================================\n",
      "Total params: 3,706,221\n",
      "Trainable params: 929,221\n",
      "Non-trainable params: 2,777,000\n",
      "_________________________________________________________________\n"
     ]
    }
   ],
   "source": [
    "forward_layer = keras.layers.GRU(64, return_sequences=True, )\n",
    "backward_layer = keras.layers.LSTM(64, activation='relu', return_sequences=True,\n",
    "                       go_backwards=True)\n",
    "\n",
    "model = keras.Sequential([\n",
    "    keras.layers.Embedding(\n",
    "        vocabulary_size, 100, input_length=max_words, weights=[embedding_matrix], trainable=False\n",
    "    ),\n",
    "    keras.layers.Bidirectional(\n",
    "        forward_layer,\n",
    "        backward_layer = backward_layer\n",
    "    ),\n",
    "    keras.layers.Flatten(),\n",
    "    keras.layers.Dense(64, activation='relu'),\n",
    "    keras.layers.Dense(512, activation='relu'),\n",
    "    keras.layers.Dense(5, activation='sigmoid')\n",
    "    \n",
    "], name=\"amazon_category_classifier\")\n",
    "\n",
    "model.summary()"
   ]
  },
  {
   "cell_type": "code",
   "execution_count": 56,
   "id": "generic-graphic",
   "metadata": {},
   "outputs": [],
   "source": [
    "early_stoping = keras.callbacks.EarlyStopping(\n",
    "    monitor='val_loss',\n",
    "    min_delta=0,\n",
    "    patience=3,\n",
    "    verbose=1,\n",
    "    mode='auto',\n",
    "    baseline=None,\n",
    "    restore_best_weights=False,\n",
    ")"
   ]
  },
  {
   "cell_type": "code",
   "execution_count": 57,
   "id": "intimate-glasgow",
   "metadata": {},
   "outputs": [],
   "source": [
    "y = tf.one_hot(labels, depth=5).numpy()\n",
    "x = tf.constant(tokens_sequence_padded).numpy()"
   ]
  },
  {
   "cell_type": "markdown",
   "id": "upset-manor",
   "metadata": {},
   "source": [
    "### Shuffling the data using `sklearn` train_test_split.\n",
    "\n",
    "It is very important to shuffle the dataset before training the model."
   ]
  },
  {
   "cell_type": "code",
   "execution_count": 58,
   "id": "sticky-bicycle",
   "metadata": {},
   "outputs": [
    {
     "data": {
      "text/plain": [
       "((3750, 100), (3750, 5), (1250, 100))"
      ]
     },
     "execution_count": 58,
     "metadata": {},
     "output_type": "execute_result"
    }
   ],
   "source": [
    "X_train, X_test, y_train, y_test = train_test_split(x, y, random_state=42)\n",
    "X_train.shape, y_train.shape, X_test.shape"
   ]
  },
  {
   "cell_type": "code",
   "execution_count": 59,
   "id": "southeast-sunset",
   "metadata": {},
   "outputs": [
    {
     "name": "stdout",
     "output_type": "stream",
     "text": [
      "Epoch 1/10\n",
      "94/94 [==============================] - 40s 127ms/step - loss: 5007.5540 - accuracy: 0.4866 - val_loss: 0.3244 - val_accuracy: 0.8880\n",
      "Epoch 2/10\n",
      "94/94 [==============================] - 11s 112ms/step - loss: 0.2867 - accuracy: 0.9092 - val_loss: 0.2588 - val_accuracy: 0.9053\n",
      "Epoch 3/10\n",
      "94/94 [==============================] - 10s 111ms/step - loss: 0.1256 - accuracy: 0.9569 - val_loss: 0.2694 - val_accuracy: 0.9147\n",
      "Epoch 4/10\n",
      "94/94 [==============================] - 11s 116ms/step - loss: 0.0587 - accuracy: 0.9849 - val_loss: 0.3178 - val_accuracy: 0.8933\n",
      "Epoch 5/10\n",
      "94/94 [==============================] - 11s 119ms/step - loss: 0.0270 - accuracy: 0.9920 - val_loss: 0.3086 - val_accuracy: 0.9133\n",
      "Epoch 00005: early stopping\n"
     ]
    }
   ],
   "source": [
    "model.compile(\n",
    "    loss = keras.losses.CategoricalCrossentropy(from_logits=False),\n",
    "    metrics= ['accuracy'],\n",
    "    optimizer = keras.optimizers.Adam(clipnorm=1)\n",
    ")\n",
    "history = model.fit(\n",
    "    X_train, y_train,\n",
    "    epochs = 10,\n",
    "    verbose = 1,\n",
    "    validation_split = .2,\n",
    "    shuffle=True,\n",
    "    batch_size= 32,\n",
    "    validation_batch_size = 16,\n",
    "    callbacks = [early_stoping]\n",
    ")"
   ]
  },
  {
   "cell_type": "markdown",
   "id": "environmental-school",
   "metadata": {},
   "source": [
    "### Evaluating the model."
   ]
  },
  {
   "cell_type": "code",
   "execution_count": 61,
   "id": "moved-grain",
   "metadata": {},
   "outputs": [
    {
     "name": "stdout",
     "output_type": "stream",
     "text": [
      "10/10 [==============================] - 1s 113ms/step - loss: 0.4663 - accuracy: 0.9168\n"
     ]
    },
    {
     "data": {
      "text/plain": [
       "[0.46632152795791626, 0.9168000221252441]"
      ]
     },
     "execution_count": 61,
     "metadata": {},
     "output_type": "execute_result"
    }
   ],
   "source": [
    "model.evaluate(X_test, y_test, verbose=1, batch_size=128)"
   ]
  },
  {
   "cell_type": "markdown",
   "id": "reported-purse",
   "metadata": {},
   "source": [
    "### Visualizing the model trainning history."
   ]
  },
  {
   "cell_type": "code",
   "execution_count": 45,
   "id": "detected-champagne",
   "metadata": {},
   "outputs": [],
   "source": [
    "import pandas as pd\n",
    "import matplotlib.pyplot as plt"
   ]
  },
  {
   "cell_type": "code",
   "execution_count": 72,
   "id": "necessary-breakdown",
   "metadata": {},
   "outputs": [
    {
     "data": {
      "image/png": "[encoded data removed]",
      "text/plain": [
       "<Figure size 432x288 with 1 Axes>"
      ]
     },
     "metadata": {
      "needs_background": "light"
     },
     "output_type": "display_data"
    }
   ],
   "source": [
    "epochs = np.arange(1, 6)\n",
    "\n",
    "plt.plot(epochs, history.history[\"accuracy\"], label=\"accuracy\")\n",
    "plt.plot(epochs, history.history[\"val_accuracy\"], label=\"val_accuracy\")\n",
    "\n",
    "plt.plot(epochs, history.history[\"loss\"], label=\"loss\")\n",
    "plt.plot(epochs, history.history[\"val_loss\"], label=\"val_loss\")\n",
    "\n",
    "plt.legend()\n",
    "plt.title(\"Training History\", fontsize=16)\n",
    "plt.show()"
   ]
  },
  {
   "cell_type": "markdown",
   "id": "animal-broadcasting",
   "metadata": {},
   "source": [
    "### Inference."
   ]
  },
  {
   "cell_type": "code",
   "execution_count": 62,
   "id": "blocked-walter",
   "metadata": {},
   "outputs": [],
   "source": [
    "def predict(sent):\n",
    "    words = word_tokenize(sent.lower())\n",
    "    tokens = []\n",
    "    for word in words:\n",
    "        try:\n",
    "            tokens.append(word_indices[word])\n",
    "        except KeyError:\n",
    "            tokens.append(0)\n",
    "    \n",
    "    padded_tokens = pad_sequences([tokens], maxlen=max_words, padding=\"post\", truncating=\"post\")\n",
    "    \n",
    "    prediction = tf.argmax(model(padded_tokens), axis=1).numpy()[0]\n",
    "    \n",
    "    class_name = classes[prediction]\n",
    "    \n",
    "    print(f'Predicted Class:\\t {class_name.id}\\nPredicted Category:\\t{class_name.name}')\n"
   ]
  },
  {
   "cell_type": "markdown",
   "id": "double-macintosh",
   "metadata": {},
   "source": [
    "### Books Category."
   ]
  },
  {
   "cell_type": "code",
   "execution_count": 67,
   "id": "french-salon",
   "metadata": {},
   "outputs": [
    {
     "name": "stdout",
     "output_type": "stream",
     "text": [
      "Predicted Class:\t 0\n",
      "Predicted Category:\tBOOKS\n"
     ]
    }
   ],
   "source": [
    "predict(test_text_reviews[0])"
   ]
  },
  {
   "cell_type": "markdown",
   "id": "about-superior",
   "metadata": {},
   "source": [
    "### Clothing Category"
   ]
  },
  {
   "cell_type": "code",
   "execution_count": 68,
   "id": "demographic-creature",
   "metadata": {},
   "outputs": [
    {
     "name": "stdout",
     "output_type": "stream",
     "text": [
      "Predicted Class:\t 1\n",
      "Predicted Category:\tCLOTHING\n"
     ]
    }
   ],
   "source": [
    "predict(test_text_reviews[1])"
   ]
  },
  {
   "cell_type": "markdown",
   "id": "norwegian-oracle",
   "metadata": {},
   "source": [
    "### Electronics Category"
   ]
  },
  {
   "cell_type": "code",
   "execution_count": 69,
   "id": "reported-casting",
   "metadata": {},
   "outputs": [
    {
     "name": "stdout",
     "output_type": "stream",
     "text": [
      "Predicted Class:\t 2\n",
      "Predicted Category:\tELECTRONICS\n"
     ]
    }
   ],
   "source": [
    "predict(test_text_reviews[2])"
   ]
  },
  {
   "cell_type": "markdown",
   "id": "spiritual-aquatic",
   "metadata": {},
   "source": [
    "### Grocery Category"
   ]
  },
  {
   "cell_type": "code",
   "execution_count": 70,
   "id": "starting-precipitation",
   "metadata": {},
   "outputs": [
    {
     "name": "stdout",
     "output_type": "stream",
     "text": [
      "Predicted Class:\t 3\n",
      "Predicted Category:\tGROCERY\n"
     ]
    }
   ],
   "source": [
    "predict(test_text_reviews[3])"
   ]
  },
  {
   "cell_type": "markdown",
   "id": "restricted-international",
   "metadata": {},
   "source": [
    "### Patio Category"
   ]
  },
  {
   "cell_type": "code",
   "execution_count": 71,
   "id": "adaptive-exhaust",
   "metadata": {},
   "outputs": [
    {
     "name": "stdout",
     "output_type": "stream",
     "text": [
      "Predicted Class:\t 4\n",
      "Predicted Category:\tPATIO\n"
     ]
    }
   ],
   "source": [
    "predict(test_text_reviews[4])"
   ]
  },
  {
   "cell_type": "code",
   "execution_count": null,
   "id": "varied-subcommittee",
   "metadata": {},
   "outputs": [],
   "source": []
  }
 ],
 "metadata": {
  "kernelspec": {
   "display_name": "Python 3",
   "language": "python",
   "name": "python3"
  },
  "language_info": {
   "codemirror_mode": {
    "name": "ipython",
    "version": 3
   },
   "file_extension": ".py",
   "mimetype": "text/x-python",
   "name": "python",
   "nbconvert_exporter": "python",
   "pygments_lexer": "ipython3",
   "version": "3.8.5"
  }
 },
 "nbformat": 4,
 "nbformat_minor": 5
}
