{
 "cells": [
  {
   "cell_type": "code",
   "execution_count": null,
   "id": "downtown-pasta",
   "metadata": {},
   "outputs": [],
   "source": []
  },
  {
   "cell_type": "code",
   "execution_count": null,
   "id": "wanted-great",
   "metadata": {},
   "outputs": [],
   "source": []
  },
  {
   "cell_type": "code",
   "execution_count": 1,
   "id": "tamil-secretary",
   "metadata": {},
   "outputs": [],
   "source": [
    "import pandas as pd\n",
    "import matplotlib.pyplot as plt\n",
    "import numpy as np\n",
    "import tensorflow as tf\n",
    "from tensorflow import keras\n",
    "import seaborn as sns\n",
    "from sklearn.metrics import confusion_matrix\n",
    "from sklearn.model_selection import train_test_split"
   ]
  },
  {
   "cell_type": "code",
   "execution_count": 2,
   "id": "understood-batch",
   "metadata": {},
   "outputs": [],
   "source": [
    "path = \"data/sms_spam.csv\""
   ]
  },
  {
   "cell_type": "code",
   "execution_count": 3,
   "id": "destroyed-juvenile",
   "metadata": {},
   "outputs": [
    {
     "data": {
      "text/html": [
       "<div>\n",
       "<style scoped>\n",
       "    .dataframe tbody tr th:only-of-type {\n",
       "        vertical-align: middle;\n",
       "    }\n",
       "\n",
       "    .dataframe tbody tr th {\n",
       "        vertical-align: top;\n",
       "    }\n",
       "\n",
       "    .dataframe thead th {\n",
       "        text-align: right;\n",
       "    }\n",
       "</style>\n",
       "<table border=\"1\" class=\"dataframe\">\n",
       "  <thead>\n",
       "    <tr style=\"text-align: right;\">\n",
       "      <th></th>\n",
       "      <th>type</th>\n",
       "      <th>text</th>\n",
       "    </tr>\n",
       "  </thead>\n",
       "  <tbody>\n",
       "    <tr>\n",
       "      <th>0</th>\n",
       "      <td>ham</td>\n",
       "      <td>Go until jurong point, crazy.. Available only ...</td>\n",
       "    </tr>\n",
       "    <tr>\n",
       "      <th>1</th>\n",
       "      <td>ham</td>\n",
       "      <td>Ok lar... Joking wif u oni...</td>\n",
       "    </tr>\n",
       "    <tr>\n",
       "      <th>2</th>\n",
       "      <td>spam</td>\n",
       "      <td>Free entry in 2 a wkly comp to win FA Cup fina...</td>\n",
       "    </tr>\n",
       "    <tr>\n",
       "      <th>3</th>\n",
       "      <td>ham</td>\n",
       "      <td>U dun say so early hor... U c already then say...</td>\n",
       "    </tr>\n",
       "    <tr>\n",
       "      <th>4</th>\n",
       "      <td>ham</td>\n",
       "      <td>Nah I don't think he goes to usf, he lives aro...</td>\n",
       "    </tr>\n",
       "    <tr>\n",
       "      <th>...</th>\n",
       "      <td>...</td>\n",
       "      <td>...</td>\n",
       "    </tr>\n",
       "    <tr>\n",
       "      <th>5569</th>\n",
       "      <td>spam</td>\n",
       "      <td>This is the 2nd time we have tried 2 contact u...</td>\n",
       "    </tr>\n",
       "    <tr>\n",
       "      <th>5570</th>\n",
       "      <td>ham</td>\n",
       "      <td>Will ü b going to esplanade fr home?</td>\n",
       "    </tr>\n",
       "    <tr>\n",
       "      <th>5571</th>\n",
       "      <td>ham</td>\n",
       "      <td>Pity, * was in mood for that. So...any other s...</td>\n",
       "    </tr>\n",
       "    <tr>\n",
       "      <th>5572</th>\n",
       "      <td>ham</td>\n",
       "      <td>The guy did some bitching but I acted like i'd...</td>\n",
       "    </tr>\n",
       "    <tr>\n",
       "      <th>5573</th>\n",
       "      <td>ham</td>\n",
       "      <td>Rofl. Its true to its name</td>\n",
       "    </tr>\n",
       "  </tbody>\n",
       "</table>\n",
       "<p>5574 rows × 2 columns</p>\n",
       "</div>"
      ],
      "text/plain": [
       "      type                                               text\n",
       "0      ham  Go until jurong point, crazy.. Available only ...\n",
       "1      ham                      Ok lar... Joking wif u oni...\n",
       "2     spam  Free entry in 2 a wkly comp to win FA Cup fina...\n",
       "3      ham  U dun say so early hor... U c already then say...\n",
       "4      ham  Nah I don't think he goes to usf, he lives aro...\n",
       "...    ...                                                ...\n",
       "5569  spam  This is the 2nd time we have tried 2 contact u...\n",
       "5570   ham               Will ü b going to esplanade fr home?\n",
       "5571   ham  Pity, * was in mood for that. So...any other s...\n",
       "5572   ham  The guy did some bitching but I acted like i'd...\n",
       "5573   ham                         Rofl. Its true to its name\n",
       "\n",
       "[5574 rows x 2 columns]"
      ]
     },
     "execution_count": 3,
     "metadata": {},
     "output_type": "execute_result"
    }
   ],
   "source": [
    "sms_spam = pd.read_csv(path)\n",
    "sms_spam"
   ]
  },
  {
   "cell_type": "code",
   "execution_count": 4,
   "id": "preceding-width",
   "metadata": {},
   "outputs": [
    {
     "data": {
      "image/png": "[encoded data removed]",
      "text/plain": [
       "<Figure size 432x288 with 1 Axes>"
      ]
     },
     "metadata": {
      "needs_background": "light"
     },
     "output_type": "display_data"
    }
   ],
   "source": [
    "sns.countplot(data=sms_spam, x = \"type\")\n",
    "plt.title(\"SMS spam Count\")\n",
    "plt.show()"
   ]
  },
  {
   "cell_type": "markdown",
   "id": "victorian-mineral",
   "metadata": {},
   "source": [
    "> There's a huge inbalance of data in this dataset."
   ]
  },
  {
   "cell_type": "code",
   "execution_count": 5,
   "id": "surprised-factory",
   "metadata": {},
   "outputs": [],
   "source": [
    "from collections import Counter"
   ]
  },
  {
   "cell_type": "code",
   "execution_count": 6,
   "id": "filled-college",
   "metadata": {},
   "outputs": [
    {
     "data": {
      "text/plain": [
       "Counter({'ham': 4827, 'spam': 747})"
      ]
     },
     "execution_count": 6,
     "metadata": {},
     "output_type": "execute_result"
    }
   ],
   "source": [
    "Counter(sms_spam.type.values)"
   ]
  },
  {
   "cell_type": "markdown",
   "id": "vocal-proposal",
   "metadata": {},
   "source": [
    "### Data preparation\n",
    "* Remove numbers, punctuation and symbols from the copra."
   ]
  },
  {
   "cell_type": "code",
   "execution_count": 84,
   "id": "distributed-meaning",
   "metadata": {},
   "outputs": [],
   "source": [
    "labels = np.array([0 if i == \"ham\" else 1 for i in sms_spam.type.values ])"
   ]
  },
  {
   "cell_type": "code",
   "execution_count": 85,
   "id": "addressed-binary",
   "metadata": {},
   "outputs": [
    {
     "data": {
      "text/plain": [
       "array([0, 0, 1, ..., 0, 0, 0])"
      ]
     },
     "execution_count": 85,
     "metadata": {},
     "output_type": "execute_result"
    }
   ],
   "source": [
    "labels"
   ]
  },
  {
   "cell_type": "code",
   "execution_count": 7,
   "id": "closing-portland",
   "metadata": {},
   "outputs": [
    {
     "data": {
      "text/plain": [
       "array(['Go until jurong point, crazy.. Available only in bugis n great world la e buffet... Cine there got amore wat...',\n",
       "       'Ok lar... Joking wif u oni...',\n",
       "       \"Free entry in 2 a wkly comp to win FA Cup final tkts 21st May 2005. Text FA to 87121 to receive entry question(std txt rate)T&C's apply 08452810075over18's\",\n",
       "       ..., 'Pity, * was in mood for that. So...any other suggestions?',\n",
       "       \"The guy did some bitching but I acted like i'd be interested in buying something else next week and he gave it to us for free\",\n",
       "       'Rofl. Its true to its name'], dtype=object)"
      ]
     },
     "execution_count": 7,
     "metadata": {},
     "output_type": "execute_result"
    }
   ],
   "source": [
    "texts = sms_spam.text.values\n",
    "texts"
   ]
  },
  {
   "cell_type": "code",
   "execution_count": 8,
   "id": "improved-peeing",
   "metadata": {},
   "outputs": [
    {
     "data": {
      "text/plain": [
       "\"Free entry in 2 a wkly comp to win FA Cup final tkts 21st May 2005. Text FA to 87121 to receive entry question(std txt rate)T&C's apply 08452810075over18's\""
      ]
     },
     "execution_count": 8,
     "metadata": {},
     "output_type": "execute_result"
    }
   ],
   "source": [
    "test = texts[2]\n",
    "test"
   ]
  },
  {
   "cell_type": "code",
   "execution_count": 9,
   "id": "registered-coverage",
   "metadata": {},
   "outputs": [],
   "source": [
    "import re"
   ]
  },
  {
   "cell_type": "code",
   "execution_count": 42,
   "id": "historic-defendant",
   "metadata": {},
   "outputs": [],
   "source": [
    "def clean_text(sent):\n",
    "    a = re.sub(r'\\d\\d?\\w+', ' ', sent)\n",
    "    b = re.sub(r'\\d|\\W', ' ', a)\n",
    "    c = re.sub(r'\\s+', ' ', b)\n",
    "    c = c.lower()\n",
    "    d = re.sub(r'\\b[^a]{1}\\b',' ', c)\n",
    "    return re.sub(r'\\s+', ' ', d).strip()"
   ]
  },
  {
   "cell_type": "code",
   "execution_count": 45,
   "id": "protected-uzbekistan",
   "metadata": {},
   "outputs": [],
   "source": [
    "cleaned_text = np.array(list(map(clean_text, texts)))"
   ]
  },
  {
   "cell_type": "markdown",
   "id": "universal-imperial",
   "metadata": {},
   "source": [
    "### Vocabulary ``size`` aka number of unique words"
   ]
  },
  {
   "cell_type": "code",
   "execution_count": 53,
   "id": "worth-liberal",
   "metadata": {},
   "outputs": [],
   "source": [
    "from sklearn.model_selection import train_test_split\n",
    "from collections import Counter\n",
    "from nltk.tokenize import word_tokenize"
   ]
  },
  {
   "cell_type": "code",
   "execution_count": 54,
   "id": "champion-sound",
   "metadata": {},
   "outputs": [],
   "source": [
    "counter = Counter()\n",
    "for sent in cleaned_text:\n",
    "    words = word_tokenize(sent)\n",
    "    for word in words:\n",
    "        counter[word] += 1"
   ]
  },
  {
   "cell_type": "code",
   "execution_count": 56,
   "id": "introductory-applicant",
   "metadata": {},
   "outputs": [
    {
     "data": {
      "text/plain": [
       "[('to', 2253), ('you', 2245)]"
      ]
     },
     "execution_count": 56,
     "metadata": {},
     "output_type": "execute_result"
    }
   ],
   "source": [
    "counter.most_common(2)"
   ]
  },
  {
   "cell_type": "code",
   "execution_count": 57,
   "id": "registered-spectrum",
   "metadata": {},
   "outputs": [
    {
     "data": {
      "text/plain": [
       "7651"
      ]
     },
     "execution_count": 57,
     "metadata": {},
     "output_type": "execute_result"
    }
   ],
   "source": [
    "vocab_size = len(counter)\n",
    "vocab_size"
   ]
  },
  {
   "cell_type": "markdown",
   "id": "encouraging-experiment",
   "metadata": {},
   "source": [
    "> We have **`7651`** unique words in our data."
   ]
  },
  {
   "cell_type": "markdown",
   "id": "saving-hollywood",
   "metadata": {},
   "source": [
    "### Creating **`word vectors`**."
   ]
  },
  {
   "cell_type": "code",
   "execution_count": 60,
   "id": "alternate-chicken",
   "metadata": {},
   "outputs": [],
   "source": [
    "from tensorflow.keras.preprocessing.text import Tokenizer"
   ]
  },
  {
   "cell_type": "code",
   "execution_count": 62,
   "id": "designed-klein",
   "metadata": {},
   "outputs": [],
   "source": [
    "tokenizer = Tokenizer(num_words=vocab_size)\n",
    "tokenizer.fit_on_texts(cleaned_text)"
   ]
  },
  {
   "cell_type": "code",
   "execution_count": 65,
   "id": "convenient-stations",
   "metadata": {},
   "outputs": [],
   "source": [
    "word_indices = tokenizer.word_index\n",
    "reversed_word_indices = dict([(v, k) for (k, v) in word_indices.items()])"
   ]
  },
  {
   "cell_type": "code",
   "execution_count": 70,
   "id": "banner-london",
   "metadata": {},
   "outputs": [],
   "source": [
    "def sequence_texts(sequence):\n",
    "    \n",
    "    return \" \".join([reversed_word_indices[i] for i in sequence])"
   ]
  },
  {
   "cell_type": "code",
   "execution_count": 67,
   "id": "essential-messenger",
   "metadata": {},
   "outputs": [],
   "source": [
    "tokens_sequences = tokenizer.texts_to_sequences(cleaned_text)"
   ]
  },
  {
   "cell_type": "code",
   "execution_count": 69,
   "id": "optional-helmet",
   "metadata": {},
   "outputs": [
    {
     "name": "stdout",
     "output_type": "stream",
     "text": [
      "[[44, 430, 3845, 768, 691, 606, 63, 6, 1216, 115, 310, 934, 2659, 1217, 55, 54, 3846, 126], [42, 311, 1367, 431, 1771]]\n"
     ]
    }
   ],
   "source": [
    "print(tokens_sequences[:2])"
   ]
  },
  {
   "cell_type": "code",
   "execution_count": 78,
   "id": "formed-ferry",
   "metadata": {},
   "outputs": [
    {
     "data": {
      "text/plain": [
       "'go until jurong point crazy available only in bugis great world la buffet cine there got amore wat'"
      ]
     },
     "execution_count": 78,
     "metadata": {},
     "output_type": "execute_result"
    }
   ],
   "source": [
    "sequence_texts(tokens_sequences[0])"
   ]
  },
  {
   "cell_type": "markdown",
   "id": "vocational-stomach",
   "metadata": {},
   "source": [
    "### Padiing the `sequences`."
   ]
  },
  {
   "cell_type": "code",
   "execution_count": 79,
   "id": "pressed-understanding",
   "metadata": {},
   "outputs": [],
   "source": [
    "from tensorflow.keras.preprocessing.sequence import pad_sequences"
   ]
  },
  {
   "cell_type": "code",
   "execution_count": 81,
   "id": "unlike-machinery",
   "metadata": {},
   "outputs": [],
   "source": [
    "max_words = 100\n",
    "tokens_sequence_padded = pad_sequences(tokens_sequences, maxlen=max_words, padding=\"post\", truncating=\"post\")"
   ]
  },
  {
   "cell_type": "markdown",
   "id": "reliable-bahrain",
   "metadata": {},
   "source": [
    "### Creating a `NN` for classification."
   ]
  },
  {
   "cell_type": "markdown",
   "id": "difficult-award",
   "metadata": {},
   "source": [
    "### Model ``Achitecture``\n",
    "\n",
    "```py\n",
    "        \n",
    "                [ Embedding Layer]\n",
    "                        |\n",
    "                        |\n",
    "[ LSTM ] <---- [Bidirectional Layer] ----> [GRU] (forward_layer)\n",
    " (backward_layer)       |\n",
    "                        |\n",
    "                 [ Flatten Layer]\n",
    "                        |\n",
    "                        |\n",
    "                 [Dense Layer 1]\n",
    "                        |\n",
    "                        |    \n",
    "                 [Dense Layer 2]\n",
    "                        |\n",
    "                        |\n",
    "                 [Dense Layer 3] (output)\n",
    "\n",
    "```"
   ]
  },
  {
   "cell_type": "code",
   "execution_count": 104,
   "id": "labeled-bennett",
   "metadata": {},
   "outputs": [
    {
     "data": {
      "text/plain": [
       "((5574, 100), (5574,))"
      ]
     },
     "execution_count": 104,
     "metadata": {},
     "output_type": "execute_result"
    }
   ],
   "source": [
    "tokens_sequence_padded.shape,labels.shape"
   ]
  },
  {
   "cell_type": "code",
   "execution_count": 106,
   "id": "prostate-electricity",
   "metadata": {},
   "outputs": [
    {
     "data": {
      "text/plain": [
       "array([  44,  430, 3845,  768,  691,  606,   63,    6, 1216,  115,  310,\n",
       "        934, 2659, 1217,   55,   54, 3846,  126,    0,    0,    0,    0,\n",
       "          0,    0,    0,    0,    0,    0,    0,    0,    0,    0,    0,\n",
       "          0,    0,    0,    0,    0,    0,    0,    0,    0,    0,    0,\n",
       "          0,    0,    0,    0,    0,    0,    0,    0,    0,    0,    0,\n",
       "          0,    0,    0,    0,    0,    0,    0,    0,    0,    0,    0,\n",
       "          0,    0,    0,    0,    0,    0,    0,    0,    0,    0,    0,\n",
       "          0,    0,    0,    0,    0,    0,    0,    0,    0,    0,    0,\n",
       "          0,    0,    0,    0,    0,    0,    0,    0,    0,    0,    0,\n",
       "          0])"
      ]
     },
     "execution_count": 106,
     "metadata": {},
     "output_type": "execute_result"
    }
   ],
   "source": [
    "tokens_sequence_padded[0]"
   ]
  },
  {
   "cell_type": "code",
   "execution_count": 109,
   "id": "optional-fleece",
   "metadata": {},
   "outputs": [
    {
     "name": "stdout",
     "output_type": "stream",
     "text": [
      "Epoch 1/5\n",
      "140/140 [==============================] - 21s 108ms/step - loss: 0.3349 - accuracy: 0.8592 - val_loss: 0.0448 - val_accuracy: 0.9848\n",
      "Epoch 2/5\n",
      "140/140 [==============================] - 14s 100ms/step - loss: 367759489910.0399 - accuracy: 0.9907 - val_loss: 0.0520 - val_accuracy: 0.9857\n",
      "Epoch 3/5\n",
      "140/140 [==============================] - 14s 101ms/step - loss: 0.0219 - accuracy: 0.9935 - val_loss: 0.0543 - val_accuracy: 0.9812\n",
      "Epoch 4/5\n",
      "140/140 [==============================] - 15s 107ms/step - loss: 0.0073 - accuracy: 0.9988 - val_loss: 0.0602 - val_accuracy: 0.9803\n",
      "Epoch 5/5\n",
      "140/140 [==============================] - 14s 101ms/step - loss: 0.0034 - accuracy: 0.9987 - val_loss: 0.0795 - val_accuracy: 0.9857\n"
     ]
    }
   ],
   "source": [
    "forward_layer = keras.layers.GRU(64, return_sequences=True)\n",
    "backward_layer = keras.layers.LSTM(64, activation='relu', return_sequences=True,\n",
    "                       go_backwards=True)\n",
    "model = keras.Sequential([\n",
    "    keras.layers.Embedding(vocab_size, 32, input_length=max_words),\n",
    "    keras.layers.Bidirectional(\n",
    "        forward_layer,\n",
    "        backward_layer=backward_layer\n",
    "    ),\n",
    "    keras.layers.Flatten(),\n",
    "    keras.layers.Dense(64, activation='relu'),\n",
    "    keras.layers.Dense(16, activation='relu'),\n",
    "    keras.layers.Dense(1, activation='sigmoid')\n",
    "])\n",
    "model.compile(\n",
    "    loss = keras.losses.BinaryCrossentropy(from_logits=False),\n",
    "    metrics= ['accuracy'],\n",
    "    optimizer = keras.optimizers.Adam()\n",
    ")\n",
    "\n",
    "history = model.fit(\n",
    "    x = tokens_sequence_padded,\n",
    "    y =labels,\n",
    "    epochs = 5,\n",
    "    verbose = 1,\n",
    "    validation_split = .2,\n",
    "    shuffle=True,\n",
    "    batch_size= 32,\n",
    "    validation_batch_size = 16,\n",
    ")"
   ]
  },
  {
   "cell_type": "markdown",
   "id": "intimate-motor",
   "metadata": {},
   "source": [
    "### Model Training history."
   ]
  },
  {
   "cell_type": "code",
   "execution_count": 92,
   "id": "apart-impact",
   "metadata": {},
   "outputs": [],
   "source": [
    "import pandas as pd\n",
    "import matplotlib.pyplot as plt\n",
    "import numpy as np"
   ]
  },
  {
   "cell_type": "code",
   "execution_count": 110,
   "id": "executive-looking",
   "metadata": {},
   "outputs": [
    {
     "data": {
      "image/png": "[encoded data removed]",
      "text/plain": [
       "<Figure size 432x288 with 1 Axes>"
      ]
     },
     "metadata": {
      "needs_background": "light"
     },
     "output_type": "display_data"
    }
   ],
   "source": [
    "epochs = np.arange(1, 6)\n",
    "\n",
    "plt.plot(epochs, history.history[\"accuracy\"], label=\"accuracy\")\n",
    "plt.plot(epochs, history.history[\"val_accuracy\"], label=\"val_accuracy\")\n",
    "\n",
    "plt.plot(epochs, history.history[\"loss\"], label=\"loss\")\n",
    "plt.plot(epochs, history.history[\"val_loss\"], label=\"val_loss\")\n",
    "\n",
    "plt.legend()\n",
    "plt.title(\"Training History\", fontsize=16)\n",
    "plt.show()"
   ]
  },
  {
   "cell_type": "markdown",
   "id": "apart-niger",
   "metadata": {},
   "source": [
    "### Making predictions."
   ]
  },
  {
   "cell_type": "code",
   "execution_count": 116,
   "id": "ideal-principle",
   "metadata": {},
   "outputs": [
    {
     "data": {
      "text/plain": [
       "(array([[0., 0., 1., 0., 0., 1., 0., 0., 1., 1.]], dtype=float32),\n",
       " array([0, 0, 1, 0, 0, 1, 0, 0, 1, 1]))"
      ]
     },
     "execution_count": 116,
     "metadata": {},
     "output_type": "execute_result"
    }
   ],
   "source": [
    "predictions = np.round(model.predict(tokens_sequence_padded[:10]), 1).reshape(1, -1)\n",
    "predictions, labels[:10]"
   ]
  },
  {
   "cell_type": "code",
   "execution_count": null,
   "id": "strategic-packing",
   "metadata": {},
   "outputs": [],
   "source": []
  }
 ],
 "metadata": {
  "kernelspec": {
   "display_name": "Python 3",
   "language": "python",
   "name": "python3"
  },
  "language_info": {
   "codemirror_mode": {
    "name": "ipython",
    "version": 3
   },
   "file_extension": ".py",
   "mimetype": "text/x-python",
   "name": "python",
   "nbconvert_exporter": "python",
   "pygments_lexer": "ipython3",
   "version": "3.8.5"
  }
 },
 "nbformat": 4,
 "nbformat_minor": 5
}
