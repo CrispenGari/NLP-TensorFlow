{
  "nbformat": 4,
  "nbformat_minor": 0,
  "metadata": {
    "colab": {
      "name": "01_Questions_Pairs_RNN.ipynb",
      "provenance": [],
      "collapsed_sections": []
    },
    "kernelspec": {
      "name": "python3",
      "display_name": "Python 3"
    },
    "language_info": {
      "name": "python"
    },
    "accelerator": "GPU"
  },
  "cells": [
    {
      "cell_type": "markdown",
      "metadata": {
        "id": "GQdMCuw_7n9c"
      },
      "source": [
        "### Questions pairs.\n",
        "\n",
        "In this notebook we are going to use this [dataset](https://www.kaggle.com/quora/question-pairs-dataset) from kaggle to perform question pair classification to detemine weather the questions are duplicates or not.\n",
        "\n",
        "\n",
        "I've already downloaded the dataset and uploaded it on my google drive so that i can easly load it here in google colab.\n"
      ]
    },
    {
      "cell_type": "markdown",
      "metadata": {
        "id": "kWfE6YK-8vJ0"
      },
      "source": [
        "### Imports"
      ]
    },
    {
      "cell_type": "code",
      "metadata": {
        "colab": {
          "base_uri": "https://localhost:8080/",
          "height": 35
        },
        "id": "Tba-zWww7lCj",
        "outputId": "da564f23-d7fc-439c-b595-f89d8d5f573e"
      },
      "source": [
        "import os\n",
        "import numpy as np\n",
        "import tensorflow as tf\n",
        "from tensorflow import keras\n",
        "import csv, json, time\n",
        "import pandas as pd\n",
        "\n",
        "from sklearn.model_selection import train_test_split\n",
        "from sklearn.preprocessing import LabelEncoder\n",
        "\n",
        "tf.__version__"
      ],
      "execution_count": 1,
      "outputs": [
        {
          "output_type": "execute_result",
          "data": {
            "application/vnd.google.colaboratory.intrinsic+json": {
              "type": "string"
            },
            "text/plain": [
              "'2.5.0'"
            ]
          },
          "metadata": {
            "tags": []
          },
          "execution_count": 1
        }
      ]
    },
    {
      "cell_type": "markdown",
      "metadata": {
        "id": "04w51ddo9eZ6"
      },
      "source": [
        "### GPU"
      ]
    },
    {
      "cell_type": "code",
      "metadata": {
        "colab": {
          "base_uri": "https://localhost:8080/"
        },
        "id": "En6QPjhE9idy",
        "outputId": "9e06c0bb-3fa7-461e-a3d9-6a5d31e4a2c0"
      },
      "source": [
        "devices = tf.config.list_physical_devices(\"GPU\")\n",
        "try:\n",
        "  tf.config.experimental.set_visible_devices(devices[0], \"GPU\")\n",
        "  print(\"GPU set\")\n",
        "except RuntimeError as e:\n",
        "  print(e)"
      ],
      "execution_count": 2,
      "outputs": [
        {
          "output_type": "stream",
          "text": [
            "GPU set\n"
          ],
          "name": "stdout"
        }
      ]
    },
    {
      "cell_type": "markdown",
      "metadata": {
        "id": "nJKnDsrA-DIa"
      },
      "source": [
        "### SEED"
      ]
    },
    {
      "cell_type": "code",
      "metadata": {
        "id": "qFNUg7KM7otT"
      },
      "source": [
        "SEED = 42\n",
        "tf.random.set_seed(\n",
        "    SEED\n",
        ")\n",
        "np.random.seed(SEED)"
      ],
      "execution_count": 3,
      "outputs": []
    },
    {
      "cell_type": "markdown",
      "metadata": {
        "id": "d1yJUQ93-mP5"
      },
      "source": [
        "### Mounting the google drive"
      ]
    },
    {
      "cell_type": "code",
      "metadata": {
        "id": "KB2TgepR7oqk",
        "colab": {
          "base_uri": "https://localhost:8080/"
        },
        "outputId": "0b169b15-f292-446f-e434-e7378314c841"
      },
      "source": [
        "from google.colab import drive\n",
        "drive.mount('/content/drive')"
      ],
      "execution_count": 4,
      "outputs": [
        {
          "output_type": "stream",
          "text": [
            "Drive already mounted at /content/drive; to attempt to forcibly remount, call drive.mount(\"/content/drive\", force_remount=True).\n"
          ],
          "name": "stdout"
        }
      ]
    },
    {
      "cell_type": "markdown",
      "metadata": {
        "id": "NhLek2KV--EB"
      },
      "source": [
        "### Data\n",
        "\n",
        "We will load the data from a single csv file. We are going to split that csv file into three file, the:\n",
        "```\n",
        "train.csv\n",
        "test.csv\n",
        "val.csv\n",
        "```\n",
        "And then save these files"
      ]
    },
    {
      "cell_type": "code",
      "metadata": {
        "id": "Cr2ecIEx_hDA",
        "colab": {
          "base_uri": "https://localhost:8080/"
        },
        "outputId": "7b7f9d23-4c08-42fd-a4d6-4a9bef80c341"
      },
      "source": [
        "base_path = '/content/drive/MyDrive/NLP Data/duplicates-questions'\n",
        "os.listdir(base_path)"
      ],
      "execution_count": 5,
      "outputs": [
        {
          "output_type": "execute_result",
          "data": {
            "text/plain": [
              "['questions.csv', 'val.csv', 'test.csv', 'train.csv']"
            ]
          },
          "metadata": {
            "tags": []
          },
          "execution_count": 5
        }
      ]
    },
    {
      "cell_type": "code",
      "metadata": {
        "id": "XHITeXiK7okV"
      },
      "source": [
        "file_path = os.path.join(base_path, \"questions.csv\")"
      ],
      "execution_count": 6,
      "outputs": []
    },
    {
      "cell_type": "markdown",
      "metadata": {
        "id": "sp20laPZAAm9"
      },
      "source": [
        "### Read the data into a dataframe"
      ]
    },
    {
      "cell_type": "code",
      "metadata": {
        "colab": {
          "base_uri": "https://localhost:8080/",
          "height": 204
        },
        "id": "CsNKN0to7ohD",
        "outputId": "024649e1-c635-4409-d4da-eb0aacb721e9"
      },
      "source": [
        "dataframe = pd.read_csv(file_path)\n",
        "dataframe.head()"
      ],
      "execution_count": 7,
      "outputs": [
        {
          "output_type": "execute_result",
          "data": {
            "text/html": [
              "<div>\n",
              "<style scoped>\n",
              "    .dataframe tbody tr th:only-of-type {\n",
              "        vertical-align: middle;\n",
              "    }\n",
              "\n",
              "    .dataframe tbody tr th {\n",
              "        vertical-align: top;\n",
              "    }\n",
              "\n",
              "    .dataframe thead th {\n",
              "        text-align: right;\n",
              "    }\n",
              "</style>\n",
              "<table border=\"1\" class=\"dataframe\">\n",
              "  <thead>\n",
              "    <tr style=\"text-align: right;\">\n",
              "      <th></th>\n",
              "      <th>id</th>\n",
              "      <th>qid1</th>\n",
              "      <th>qid2</th>\n",
              "      <th>question1</th>\n",
              "      <th>question2</th>\n",
              "      <th>is_duplicate</th>\n",
              "    </tr>\n",
              "  </thead>\n",
              "  <tbody>\n",
              "    <tr>\n",
              "      <th>0</th>\n",
              "      <td>0</td>\n",
              "      <td>1</td>\n",
              "      <td>2</td>\n",
              "      <td>What is the step by step guide to invest in sh...</td>\n",
              "      <td>What is the step by step guide to invest in sh...</td>\n",
              "      <td>0</td>\n",
              "    </tr>\n",
              "    <tr>\n",
              "      <th>1</th>\n",
              "      <td>1</td>\n",
              "      <td>3</td>\n",
              "      <td>4</td>\n",
              "      <td>What is the story of Kohinoor (Koh-i-Noor) Dia...</td>\n",
              "      <td>What would happen if the Indian government sto...</td>\n",
              "      <td>0</td>\n",
              "    </tr>\n",
              "    <tr>\n",
              "      <th>2</th>\n",
              "      <td>2</td>\n",
              "      <td>5</td>\n",
              "      <td>6</td>\n",
              "      <td>How can I increase the speed of my internet co...</td>\n",
              "      <td>How can Internet speed be increased by hacking...</td>\n",
              "      <td>0</td>\n",
              "    </tr>\n",
              "    <tr>\n",
              "      <th>3</th>\n",
              "      <td>3</td>\n",
              "      <td>7</td>\n",
              "      <td>8</td>\n",
              "      <td>Why am I mentally very lonely? How can I solve...</td>\n",
              "      <td>Find the remainder when [math]23^{24}[/math] i...</td>\n",
              "      <td>0</td>\n",
              "    </tr>\n",
              "    <tr>\n",
              "      <th>4</th>\n",
              "      <td>4</td>\n",
              "      <td>9</td>\n",
              "      <td>10</td>\n",
              "      <td>Which one dissolve in water quikly sugar, salt...</td>\n",
              "      <td>Which fish would survive in salt water?</td>\n",
              "      <td>0</td>\n",
              "    </tr>\n",
              "  </tbody>\n",
              "</table>\n",
              "</div>"
            ],
            "text/plain": [
              "   id  qid1  ...                                          question2 is_duplicate\n",
              "0   0     1  ...  What is the step by step guide to invest in sh...            0\n",
              "1   1     3  ...  What would happen if the Indian government sto...            0\n",
              "2   2     5  ...  How can Internet speed be increased by hacking...            0\n",
              "3   3     7  ...  Find the remainder when [math]23^{24}[/math] i...            0\n",
              "4   4     9  ...            Which fish would survive in salt water?            0\n",
              "\n",
              "[5 rows x 6 columns]"
            ]
          },
          "metadata": {
            "tags": []
          },
          "execution_count": 7
        }
      ]
    },
    {
      "cell_type": "markdown",
      "metadata": {
        "id": "jKEGuDP8AfmB"
      },
      "source": [
        "### Checking for null values"
      ]
    },
    {
      "cell_type": "code",
      "metadata": {
        "colab": {
          "base_uri": "https://localhost:8080/"
        },
        "id": "7Nmv3alM8PN1",
        "outputId": "5a2af696-e1b7-4c57-98a8-8116d8c13bed"
      },
      "source": [
        "len(dataframe)"
      ],
      "execution_count": 8,
      "outputs": [
        {
          "output_type": "execute_result",
          "data": {
            "text/plain": [
              "404351"
            ]
          },
          "metadata": {
            "tags": []
          },
          "execution_count": 8
        }
      ]
    },
    {
      "cell_type": "code",
      "metadata": {
        "colab": {
          "base_uri": "https://localhost:8080/"
        },
        "id": "HvBrTAUy7oeL",
        "outputId": "778c27ec-fab7-4f66-aa33-587799948139"
      },
      "source": [
        "dataframe.isnull().any()"
      ],
      "execution_count": 9,
      "outputs": [
        {
          "output_type": "execute_result",
          "data": {
            "text/plain": [
              "id              False\n",
              "qid1            False\n",
              "qid2            False\n",
              "question1        True\n",
              "question2        True\n",
              "is_duplicate    False\n",
              "dtype: bool"
            ]
          },
          "metadata": {
            "tags": []
          },
          "execution_count": 9
        }
      ]
    },
    {
      "cell_type": "markdown",
      "metadata": {
        "id": "NVK3ntVt7z-Y"
      },
      "source": [
        "Since we have null values we are going to drop all the rows that have null columns, meaning the rows that have columns with no data."
      ]
    },
    {
      "cell_type": "code",
      "metadata": {
        "colab": {
          "base_uri": "https://localhost:8080/"
        },
        "id": "p0QvblN68SvW",
        "outputId": "8dd4e0bd-87e2-4859-8811-3aac4ad69826"
      },
      "source": [
        "len(dataframe.dropna())"
      ],
      "execution_count": 10,
      "outputs": [
        {
          "output_type": "execute_result",
          "data": {
            "text/plain": [
              "404348"
            ]
          },
          "metadata": {
            "tags": []
          },
          "execution_count": 10
        }
      ]
    },
    {
      "cell_type": "markdown",
      "metadata": {
        "id": "G9tB4LgVApsQ"
      },
      "source": [
        "### Splitting the sets"
      ]
    },
    {
      "cell_type": "code",
      "metadata": {
        "id": "WDbXw4oN7obN"
      },
      "source": [
        "train, valid = train_test_split(dataframe, test_size=.005)\n",
        "train, test = train_test_split(train, test_size=.005)"
      ],
      "execution_count": 11,
      "outputs": []
    },
    {
      "cell_type": "code",
      "metadata": {
        "colab": {
          "base_uri": "https://localhost:8080/"
        },
        "id": "2cPxaCy_BRcg",
        "outputId": "9cca5159-ee9f-4b04-c3c2-3246fdc34d52"
      },
      "source": [
        "len(train), len(test), len(valid)"
      ],
      "execution_count": 12,
      "outputs": [
        {
          "output_type": "execute_result",
          "data": {
            "text/plain": [
              "(400317, 2012, 2022)"
            ]
          },
          "metadata": {
            "tags": []
          },
          "execution_count": 12
        }
      ]
    },
    {
      "cell_type": "markdown",
      "metadata": {
        "id": "xLODHfsnBbGT"
      },
      "source": [
        "Now we have `~40K` train data, `~2k` test data and `~2K` validation data, Let's save this in separate files."
      ]
    },
    {
      "cell_type": "code",
      "metadata": {
        "colab": {
          "base_uri": "https://localhost:8080/"
        },
        "id": "IkYlg-2nBRaA",
        "outputId": "8a382996-0fd2-4259-a923-816ffd630fd5"
      },
      "source": [
        "val_path = \"val.csv\"\n",
        "test_path = \"test.csv\"\n",
        "train_path = \"train.csv\"\n",
        "\n",
        "valid.to_csv(os.path.join(base_path, val_path), index=False)\n",
        "test.to_csv(os.path.join(base_path, test_path), index=False)\n",
        "train.to_csv(os.path.join(base_path, train_path), index=False)\n",
        "\n",
        "print(\"files saved\")"
      ],
      "execution_count": 13,
      "outputs": [
        {
          "output_type": "stream",
          "text": [
            "files saved\n"
          ],
          "name": "stdout"
        }
      ]
    },
    {
      "cell_type": "markdown",
      "metadata": {
        "id": "BkMpy0smDE74"
      },
      "source": [
        "### Loading the files"
      ]
    },
    {
      "cell_type": "code",
      "metadata": {
        "id": "zJW7hRlFBRW_"
      },
      "source": [
        "train_dataframe = pd.read_csv(\n",
        "    os.path.join(base_path, train_path)\n",
        ")\n",
        "val_dataframe = pd.read_csv(\n",
        "    os.path.join(base_path, val_path)\n",
        ")\n",
        "test_dataframe = pd.read_csv(\n",
        "    os.path.join(base_path, test_path)\n",
        ")"
      ],
      "execution_count": 14,
      "outputs": []
    },
    {
      "cell_type": "code",
      "metadata": {
        "colab": {
          "base_uri": "https://localhost:8080/"
        },
        "id": "CYfiIfwxBRUJ",
        "outputId": "7031e47e-af39-4e25-8637-e6cb45e9571a"
      },
      "source": [
        "train_dataframe.iloc[0]"
      ],
      "execution_count": 15,
      "outputs": [
        {
          "output_type": "execute_result",
          "data": {
            "text/plain": [
              "id                                                199670\n",
              "qid1                                              394042\n",
              "qid2                                              394043\n",
              "question1                     Do animals commit suicide?\n",
              "question2       Can animals think of committing suicide?\n",
              "is_duplicate                                           1\n",
              "Name: 0, dtype: object"
            ]
          },
          "metadata": {
            "tags": []
          },
          "execution_count": 15
        }
      ]
    },
    {
      "cell_type": "markdown",
      "metadata": {
        "id": "bHW6hdTtEoIs"
      },
      "source": [
        "### Question Classes\n",
        "\n",
        "We only have two classes, It's either the question are duplicates or not. So this is a binary classification.\n",
        "\n",
        "```\n",
        "0 -> not duplicates\n",
        "1 -> duplicates\n",
        "```"
      ]
    },
    {
      "cell_type": "markdown",
      "metadata": {
        "id": "d5CaCmfZAf4D"
      },
      "source": [
        "### Extracting the labels"
      ]
    },
    {
      "cell_type": "code",
      "metadata": {
        "colab": {
          "base_uri": "https://localhost:8080/"
        },
        "id": "N70ykjDWErrI",
        "outputId": "8a62a1dd-1cf3-49f9-ad3e-4a2318a2c1fd"
      },
      "source": [
        "train_labels = train_dataframe.is_duplicate.values.astype(np.float32)\n",
        "val_labels = val_dataframe.is_duplicate.values.astype(np.float32)\n",
        "test_labels = test_dataframe.is_duplicate.values.astype(np.float32)\n",
        "\n",
        "train_labels[:7]"
      ],
      "execution_count": 16,
      "outputs": [
        {
          "output_type": "execute_result",
          "data": {
            "text/plain": [
              "array([1., 0., 0., 1., 1., 0., 0.], dtype=float32)"
            ]
          },
          "metadata": {
            "tags": []
          },
          "execution_count": 16
        }
      ]
    },
    {
      "cell_type": "markdown",
      "metadata": {
        "id": "kJ6KS05QAuc6"
      },
      "source": [
        "For now we can say we are done with the labels."
      ]
    },
    {
      "cell_type": "markdown",
      "metadata": {
        "id": "j9VDpFIUHYve"
      },
      "source": [
        "### Features\n",
        "\n",
        "Our model is going to accept two inputs, `question1` and `question2` and predict if the questions are duplicates or not. We are going to have two features in our for each set.\n",
        "\n",
        "For the text we are only going to convert them to lower case using the `lambda` function `to_lower`."
      ]
    },
    {
      "cell_type": "code",
      "metadata": {
        "id": "lepgcaB0Ej-m"
      },
      "source": [
        "to_lower = lambda sent: str(sent).lower()"
      ],
      "execution_count": 17,
      "outputs": []
    },
    {
      "cell_type": "code",
      "metadata": {
        "id": "F9TwFIXrH5DW"
      },
      "source": [
        "train_questions1 = np.array(list(map(to_lower, train_dataframe.question1.values)))\n",
        "train_questions2 = np.array(list(map(to_lower, train_dataframe.question2.values)))\n",
        "assert all([(len(train_questions1) == len(train_labels)), (len(train_questions2) == len(train_labels))]), \"train features and labels must have the same length\"\n",
        "\n",
        "val_questions1 = np.array(list(map(to_lower, val_dataframe.question1.values)))\n",
        "val_questions2 = np.array(list(map(to_lower, val_dataframe.question2.values)))\n",
        "assert all([(len(val_questions1) == len(val_labels)), (len(val_questions2) == len(val_labels))]), \"val features and labels must have the same length\"\n",
        "\n",
        "test_questions1 = np.array(list(map(to_lower, test_dataframe.question1.values)))\n",
        "test_questions2 = np.array(list(map(to_lower, test_dataframe.question2.values)))\n",
        "assert all([(len(test_questions1) == len(test_labels)), (len(test_questions2) == len(test_labels))]), \"test features and labels must have the same length\"\n"
      ],
      "execution_count": 18,
      "outputs": []
    },
    {
      "cell_type": "code",
      "metadata": {
        "colab": {
          "base_uri": "https://localhost:8080/"
        },
        "id": "uIQMuC2RDd-F",
        "outputId": "230de23c-4c89-4fe3-beec-837361f7ba61"
      },
      "source": [
        "test_questions1[:7]"
      ],
      "execution_count": 19,
      "outputs": [
        {
          "output_type": "execute_result",
          "data": {
            "text/plain": [
              "array(['what would be the impact of quora getting hacked and all anonymous identities exposed?',\n",
              "       'why is kneeling on rice used as a punishment?',\n",
              "       'what are the most interesting products and innovations that federated investors is coming out with in 2016?',\n",
              "       'what does it feel like to study psychology?',\n",
              "       'how can you determine the valence electrons in calcium?',\n",
              "       \"where is jk rowling's house?\",\n",
              "       'who was the first human to go the moon?'], dtype='<U273')"
            ]
          },
          "metadata": {
            "tags": []
          },
          "execution_count": 19
        }
      ]
    },
    {
      "cell_type": "markdown",
      "metadata": {
        "id": "URlFb83DIjR-"
      },
      "source": [
        "### Preprocessing Features(Questions)\n",
        "\n",
        "Each feature will be processed as follows:\n",
        "\n",
        "1. Create a vocabulary\n",
        "2. Create a `stoi` from each sentencs\n",
        "3. pad the sentences to have the same size\n",
        "\n",
        "**Note** - During creation of the vocabulary we are going to use the `train` set. The model should not have an idea about the validation set, because we want the validation set to represent the test set as mush as possible."
      ]
    },
    {
      "cell_type": "markdown",
      "metadata": {
        "id": "OeafBB2NJtKv"
      },
      "source": [
        "### Vocab size, (aka) the number of unique words."
      ]
    },
    {
      "cell_type": "code",
      "metadata": {
        "id": "MhSvXYM3H484"
      },
      "source": [
        "from collections import Counter\n",
        "from nltk.tokenize import word_tokenize"
      ],
      "execution_count": 20,
      "outputs": []
    },
    {
      "cell_type": "code",
      "metadata": {
        "id": "-iw1bCFuahxd",
        "colab": {
          "base_uri": "https://localhost:8080/"
        },
        "outputId": "be6001bb-3966-4c58-a954-d01e35970d30"
      },
      "source": [
        "import nltk\n",
        "nltk.download('punkt')"
      ],
      "execution_count": 21,
      "outputs": [
        {
          "output_type": "stream",
          "text": [
            "[nltk_data] Downloading package punkt to /root/nltk_data...\n",
            "[nltk_data]   Package punkt is already up-to-date!\n"
          ],
          "name": "stdout"
        },
        {
          "output_type": "execute_result",
          "data": {
            "text/plain": [
              "True"
            ]
          },
          "metadata": {
            "tags": []
          },
          "execution_count": 21
        }
      ]
    },
    {
      "cell_type": "code",
      "metadata": {
        "colab": {
          "base_uri": "https://localhost:8080/"
        },
        "id": "KUs78gVCK3oc",
        "outputId": "adc9b728-95be-4962-aace-d3cbf244548f"
      },
      "source": [
        "train_questions1[1], train_questions2[1], train_labels[1]"
      ],
      "execution_count": 22,
      "outputs": [
        {
          "output_type": "execute_result",
          "data": {
            "text/plain": [
              "('what does abc mean?', 'what is abc?', 0.0)"
            ]
          },
          "metadata": {
            "tags": []
          },
          "execution_count": 22
        }
      ]
    },
    {
      "cell_type": "code",
      "metadata": {
        "id": "OsGjWD5fH45o"
      },
      "source": [
        "question_1_counter = Counter()\n",
        "question_2_counter = Counter()\n",
        "for sent in train_questions1:\n",
        "  question_1_counter.update(word_tokenize(sent))\n",
        "\n",
        "for sent in train_questions2:\n",
        "  question_2_counter.update(word_tokenize(sent))"
      ],
      "execution_count": 23,
      "outputs": []
    },
    {
      "cell_type": "code",
      "metadata": {
        "colab": {
          "base_uri": "https://localhost:8080/"
        },
        "id": "_QasvHrNH439",
        "outputId": "39e49e06-4a73-4113-9620-672baac9f946"
      },
      "source": [
        "print(question_1_counter.most_common(3))\n",
        "print(question_2_counter.most_common(3))"
      ],
      "execution_count": 24,
      "outputs": [
        {
          "output_type": "stream",
          "text": [
            "[('?', 420704), ('the', 186932), ('what', 161680)]\n",
            "[('?', 423357), ('the', 186596), ('what', 159317)]\n"
          ],
          "name": "stdout"
        }
      ]
    },
    {
      "cell_type": "code",
      "metadata": {
        "colab": {
          "base_uri": "https://localhost:8080/"
        },
        "id": "QM4YTLRLFAn4",
        "outputId": "fc0d3843-dc60-43a3-9a66-73c8edf7f249"
      },
      "source": [
        "question_1_vocab = len(question_1_counter)\n",
        "question_2_vocab = len(question_2_counter)\n",
        "question_1_vocab, question_2_vocab"
      ],
      "execution_count": 25,
      "outputs": [
        {
          "output_type": "execute_result",
          "data": {
            "text/plain": [
              "(83402, 78695)"
            ]
          },
          "metadata": {
            "tags": []
          },
          "execution_count": 25
        }
      ]
    },
    {
      "cell_type": "markdown",
      "metadata": {
        "id": "3Wt1l8iRNax1"
      },
      "source": [
        "We have `~83K` unique words in the first questions set and `~80K` unique words in the second questions.\n",
        "\n",
        "### Word vectors\n",
        "\n",
        "We are going to have 1 tokenizer for all these two sets of questions and we are going to call `fit_on_texts()` on th `first questions` since it is the one that has more unique words. \n",
        "\n",
        "We could also use the `second questions` as well. For the vocabulary size ofcause we should use the `first questions` vocab_size if we choose to go with `first questions`."
      ]
    },
    {
      "cell_type": "code",
      "metadata": {
        "id": "tBRz0Zy9NaUy"
      },
      "source": [
        "from tensorflow.keras.preprocessing.text import Tokenizer\n",
        "from tensorflow.keras.preprocessing.sequence import pad_sequences"
      ],
      "execution_count": 26,
      "outputs": []
    },
    {
      "cell_type": "code",
      "metadata": {
        "id": "VJQHeRXGH4wt"
      },
      "source": [
        "tokenizer = Tokenizer(num_words=question_1_vocab)\n",
        "tokenizer.fit_on_texts(train_questions1)"
      ],
      "execution_count": 27,
      "outputs": []
    },
    {
      "cell_type": "code",
      "metadata": {
        "id": "IROMgVyOOLx2"
      },
      "source": [
        "word_indices = tokenizer.word_index\n",
        "word_indices_reversed = dict([\n",
        "    (v, k) for (k, v) in word_indices.items()\n",
        "])"
      ],
      "execution_count": 28,
      "outputs": []
    },
    {
      "cell_type": "markdown",
      "metadata": {
        "id": "HrWXjlGBOq3K"
      },
      "source": [
        "### Helper functions\n",
        "\n",
        "We will create some helper function that converts sequences to text and text to sequences. These function will be used for inference later on."
      ]
    },
    {
      "cell_type": "code",
      "metadata": {
        "id": "nnvyz4D8OLv3"
      },
      "source": [
        "def seq_to_text(sequences):\n",
        "  return \" \".join(word_indices_reversed[i] for i in sequences )\n",
        "\n",
        "def text_to_seq(sent):\n",
        "  words = word_tokenize(sent.lower())\n",
        "  sequences = []\n",
        "  for word in words:\n",
        "    try:\n",
        "      sequences.append(word_indices[word])\n",
        "    except:\n",
        "      sequences.append(0)\n",
        "  return sequences"
      ],
      "execution_count": 29,
      "outputs": []
    },
    {
      "cell_type": "markdown",
      "metadata": {
        "id": "sCSLlCFUP6yN"
      },
      "source": [
        "### Pretrained embeding weights\n",
        "\n",
        "Since this model is using RNN's we are going to use the `pretrained glove.6B` word embeddings. I've already uploaded these word embedding on my google colab so that we can load them as follows:"
      ]
    },
    {
      "cell_type": "code",
      "metadata": {
        "id": "4HD8kSN8OLrI"
      },
      "source": [
        "embedding_path = \"/content/drive/MyDrive/NLP Data/glove.6B/glove.6B.100d.txt\"\n"
      ],
      "execution_count": 30,
      "outputs": []
    },
    {
      "cell_type": "code",
      "metadata": {
        "id": "KhdEwrHqOLoP"
      },
      "source": [
        "embedding_dict = dict()\n",
        "with open(embedding_path, encoding=\"utf8\") as glove:\n",
        "  for line in glove:\n",
        "    records = line.split();\n",
        "    word = records[0]\n",
        "    vectors = np.asarray(records[1: ], dtype=np.float32)\n",
        "    embedding_dict[word] = vectors"
      ],
      "execution_count": 31,
      "outputs": []
    },
    {
      "cell_type": "code",
      "metadata": {
        "colab": {
          "base_uri": "https://localhost:8080/"
        },
        "id": "l0AtapypRfPo",
        "outputId": "97901f62-9324-4cfe-afc3-9f24fef9b1bb"
      },
      "source": [
        "print(len(embedding_dict))\n",
        "embedding_dict[\"what\"].shape"
      ],
      "execution_count": 32,
      "outputs": [
        {
          "output_type": "stream",
          "text": [
            "400000\n"
          ],
          "name": "stdout"
        },
        {
          "output_type": "execute_result",
          "data": {
            "text/plain": [
              "(100,)"
            ]
          },
          "metadata": {
            "tags": []
          },
          "execution_count": 32
        }
      ]
    },
    {
      "cell_type": "markdown",
      "metadata": {
        "id": "RcLVeXuIRRJk"
      },
      "source": [
        "### Embedding matrix\n",
        "We will then create an embedding matrix that will suit our data."
      ]
    },
    {
      "cell_type": "code",
      "metadata": {
        "id": "lFtPge6SOLlh"
      },
      "source": [
        "embedding_matrix = np.zeros((question_1_vocab, 100))\n",
        "\n",
        "for word, index in word_indices.items():\n",
        "  vector = embedding_dict.get(word)\n",
        "  if vector is not None:\n",
        "    try:\n",
        "      embedding_matrix[index] = vector\n",
        "    except IndexError or Exception:\n",
        "      pass"
      ],
      "execution_count": 33,
      "outputs": []
    },
    {
      "cell_type": "code",
      "metadata": {
        "id": "xKXJINrqH4ss",
        "colab": {
          "base_uri": "https://localhost:8080/"
        },
        "outputId": "5f8e8b48-3b2a-44fd-ac5a-6894432092f1"
      },
      "source": [
        "len(embedding_matrix)"
      ],
      "execution_count": 34,
      "outputs": [
        {
          "output_type": "execute_result",
          "data": {
            "text/plain": [
              "83402"
            ]
          },
          "metadata": {
            "tags": []
          },
          "execution_count": 34
        }
      ]
    },
    {
      "cell_type": "markdown",
      "metadata": {
        "id": "IqimwH32S958"
      },
      "source": [
        "### Creating Sequences"
      ]
    },
    {
      "cell_type": "code",
      "metadata": {
        "id": "D3lV_wdAH4pu"
      },
      "source": [
        "train_sequences_1 = tokenizer.texts_to_sequences(train_questions1)\n",
        "train_sequences_2 = tokenizer.texts_to_sequences(train_questions2)\n",
        "\n",
        "val_sequences_1 = tokenizer.texts_to_sequences(val_questions1)\n",
        "val_sequences_2 = tokenizer.texts_to_sequences(val_questions2)"
      ],
      "execution_count": 35,
      "outputs": []
    },
    {
      "cell_type": "code",
      "metadata": {
        "colab": {
          "base_uri": "https://localhost:8080/"
        },
        "id": "6tLt3TE5TUBI",
        "outputId": "4c272de4-5af6-4d00-ec85-70c464b80ca3"
      },
      "source": [
        "val_sequences_1[0], val_questions1[0]"
      ],
      "execution_count": 36,
      "outputs": [
        {
          "output_type": "execute_result",
          "data": {
            "text/plain": [
              "([4, 21, 1, 68036, 84], 'how does the boggart work?')"
            ]
          },
          "metadata": {
            "tags": []
          },
          "execution_count": 36
        }
      ]
    },
    {
      "cell_type": "markdown",
      "metadata": {
        "id": "2Yhc5-uHTgMx"
      },
      "source": [
        "### Testing our helper functions"
      ]
    },
    {
      "cell_type": "code",
      "metadata": {
        "colab": {
          "base_uri": "https://localhost:8080/",
          "height": 35
        },
        "id": "6rqtbAGmTT8o",
        "outputId": "2c7b6455-4452-4268-8e7b-c21fe49595cb"
      },
      "source": [
        "seq_to_text(val_sequences_1[0])"
      ],
      "execution_count": 37,
      "outputs": [
        {
          "output_type": "execute_result",
          "data": {
            "application/vnd.google.colaboratory.intrinsic+json": {
              "type": "string"
            },
            "text/plain": [
              "'how does the boggart work'"
            ]
          },
          "metadata": {
            "tags": []
          },
          "execution_count": 37
        }
      ]
    },
    {
      "cell_type": "code",
      "metadata": {
        "colab": {
          "base_uri": "https://localhost:8080/"
        },
        "id": "5p2BcCG7TkzY",
        "outputId": "e9dbfdc0-45b4-4711-8aca-520ab0a477c5"
      },
      "source": [
        "text_to_seq(\"this is why the unknownnnn word ?\")"
      ],
      "execution_count": 38,
      "outputs": [
        {
          "output_type": "execute_result",
          "data": {
            "text/plain": [
              "[68, 3, 16, 1, 0, 243, 0]"
            ]
          },
          "metadata": {
            "tags": []
          },
          "execution_count": 38
        }
      ]
    },
    {
      "cell_type": "markdown",
      "metadata": {
        "id": "8ZR5TZsrTkHh"
      },
      "source": [
        "### Pad sequences\n",
        "\n",
        "Our final step is to pad our suquences to have the same length. We are going to do this on the train and validation sets only."
      ]
    },
    {
      "cell_type": "code",
      "metadata": {
        "id": "oBLPnTTQTT4g"
      },
      "source": [
        "max_words = 100\n",
        "\n",
        "train_tokens_padded_1 = pad_sequences(\n",
        "    train_sequences_1, \n",
        "    maxlen=max_words, \n",
        "    padding=\"post\", \n",
        "    truncating=\"post\"\n",
        ")\n",
        "\n",
        "train_tokens_padded_2 = pad_sequences(\n",
        "    train_sequences_2, \n",
        "    maxlen=max_words, \n",
        "    padding=\"post\", \n",
        "    truncating=\"post\"\n",
        ")\n",
        "\n",
        "val_tokens_padded_1 = pad_sequences(\n",
        "    val_sequences_1, \n",
        "    maxlen=max_words, \n",
        "    padding=\"post\", \n",
        "    truncating=\"post\"\n",
        ")\n",
        "val_tokens_padded_2 = pad_sequences(\n",
        "    val_sequences_2, \n",
        "    maxlen=max_words, \n",
        "    padding=\"post\", \n",
        "    truncating=\"post\"\n",
        ")"
      ],
      "execution_count": 39,
      "outputs": []
    },
    {
      "cell_type": "code",
      "metadata": {
        "id": "vhlDiv_gINiv"
      },
      "source": [
        "assert len(val_tokens_padded_1[0]) == len(val_tokens_padded_1[1]), \"The tokens are not padded\""
      ],
      "execution_count": 40,
      "outputs": []
    },
    {
      "cell_type": "markdown",
      "metadata": {
        "id": "g72XFW_vUz-C"
      },
      "source": [
        "### Building the model.\n",
        "\n",
        "Our model will be using the `Functional` API instead of the `Subclassing` or the `Sequential` API. This is a toy model that will have the following inputs and output structures.\n",
        "\n",
        "```\n",
        "  question1 ------->\n",
        "                    | Concatenate layer |-------> output [0, 1]\n",
        "  question2 ------->\n",
        "```\n"
      ]
    },
    {
      "cell_type": "code",
      "metadata": {
        "colab": {
          "base_uri": "https://localhost:8080/"
        },
        "id": "XoUqu_AzJEQ2",
        "outputId": "cb4269fe-c864-4137-8a0e-f683ad6d588f"
      },
      "source": [
        "forward_layer = keras.layers.GRU(\n",
        "   128, return_sequences=True, dropout=.5,\n",
        "   name=\"gru_forward_layer\"\n",
        ")\n",
        "backward_layer = keras.layers.LSTM(\n",
        "   128, return_sequences=True, dropout=.5,\n",
        "   go_backwards=True, name=\"lstm_backward_layer\"\n",
        ")\n",
        "\n",
        "\n",
        "question_1_input = keras.layers.Input(shape=(100, ), name=\"question_1_input\")\n",
        "question_2_input = keras.layers.Input(shape=(100, ), name=\"question_2_input\")\n",
        "\n",
        "question_1_embedding =  keras.layers.Embedding(\n",
        "          question_1_vocab, 100, \n",
        "          input_length=max_words,\n",
        "          weights=[embedding_matrix], \n",
        "          trainable=True,\n",
        "          name = \"embedding_layer_1\"\n",
        "      )(question_1_input)\n",
        "\n",
        "question_2_embedding =  keras.layers.Embedding(\n",
        "          question_1_vocab, 100, \n",
        "          input_length=max_words,\n",
        "          weights=[embedding_matrix], \n",
        "          trainable=True,\n",
        "          name = \"embedding_layer_2\"\n",
        "      )(question_2_input)\n",
        "\n",
        "question_1_bidirectional =  keras.layers.Bidirectional(\n",
        "        forward_layer,\n",
        "        backward_layer = backward_layer,\n",
        "        name= \"bidirectional_layer_1\"\n",
        "        )(question_1_embedding)\n",
        "\n",
        "question_2_bidirectional =  keras.layers.Bidirectional(\n",
        "        forward_layer,\n",
        "        backward_layer = backward_layer,\n",
        "        name= \"bidirectional_layer_2\"\n",
        "        )(question_2_embedding)\n",
        "\n",
        "concatenate_layer = keras.layers.Concatenate(name=\"concatenate_layer_layer\")([question_1_bidirectional, question_2_bidirectional])\n",
        "\n",
        "gru_layer = keras.layers.GRU(\n",
        "          512, return_sequences=True,\n",
        "          dropout=.5,\n",
        "          name= \"gru_layer\"\n",
        "  )(concatenate_layer)\n",
        "lstm_layer = keras.layers.LSTM(\n",
        "          512, return_sequences=True,\n",
        "          dropout=.5,\n",
        "          name=\"lstm_layer\"\n",
        "  )(gru_layer)\n",
        "\n",
        "pooling_layer = keras.layers.GlobalAveragePooling1D(\n",
        "          name=\"average_pooling_layer\"\n",
        "      )(lstm_layer)\n",
        "\n",
        "dense_1 = keras.layers.Dense(64, activation='relu', name=\"dense_1\")(pooling_layer)\n",
        "dropout_1 = keras.layers.Dropout(rate= .5, name=\"dropout_layer_0\")(dense_1)\n",
        "dense_2 = keras.layers.Dense(512, activation='relu', name=\"dense_2\")(dropout_1)\n",
        "dropout_2 =  keras.layers.Dropout(rate= .5, name=\"dropout_layer_1\")(dense_2)\n",
        "dense_3 = keras.layers.Dense(128, activation='relu', name=\"dense_3\")(dropout_2)\n",
        "dropout_3 = keras.layers.Dropout(rate= .5, name=\"dropout_layer_2\")(dense_3)\n",
        "output_layer = keras.layers.Dense(1, activation='sigmoid', name=\"output_layer\")(dropout_3)\n",
        "\n",
        "\n",
        "model = keras.Model(inputs=[question_1_input, question_2_input], outputs=[output_layer])\n",
        "model.summary()"
      ],
      "execution_count": 41,
      "outputs": [
        {
          "output_type": "stream",
          "text": [
            "Model: \"model\"\n",
            "__________________________________________________________________________________________________\n",
            "Layer (type)                    Output Shape         Param #     Connected to                     \n",
            "==================================================================================================\n",
            "question_1_input (InputLayer)   [(None, 100)]        0                                            \n",
            "__________________________________________________________________________________________________\n",
            "question_2_input (InputLayer)   [(None, 100)]        0                                            \n",
            "__________________________________________________________________________________________________\n",
            "embedding_layer_1 (Embedding)   (None, 100, 100)     8340200     question_1_input[0][0]           \n",
            "__________________________________________________________________________________________________\n",
            "embedding_layer_2 (Embedding)   (None, 100, 100)     8340200     question_2_input[0][0]           \n",
            "__________________________________________________________________________________________________\n",
            "bidirectional_layer_1 (Bidirect (None, 100, 256)     205568      embedding_layer_1[0][0]          \n",
            "__________________________________________________________________________________________________\n",
            "bidirectional_layer_2 (Bidirect (None, 100, 256)     205568      embedding_layer_2[0][0]          \n",
            "__________________________________________________________________________________________________\n",
            "concatenate_layer_layer (Concat (None, 100, 512)     0           bidirectional_layer_1[0][0]      \n",
            "                                                                 bidirectional_layer_2[0][0]      \n",
            "__________________________________________________________________________________________________\n",
            "gru_layer (GRU)                 (None, 100, 512)     1575936     concatenate_layer_layer[0][0]    \n",
            "__________________________________________________________________________________________________\n",
            "lstm_layer (LSTM)               (None, 100, 512)     2099200     gru_layer[0][0]                  \n",
            "__________________________________________________________________________________________________\n",
            "average_pooling_layer (GlobalAv (None, 512)          0           lstm_layer[0][0]                 \n",
            "__________________________________________________________________________________________________\n",
            "dense_1 (Dense)                 (None, 64)           32832       average_pooling_layer[0][0]      \n",
            "__________________________________________________________________________________________________\n",
            "dropout_layer_0 (Dropout)       (None, 64)           0           dense_1[0][0]                    \n",
            "__________________________________________________________________________________________________\n",
            "dense_2 (Dense)                 (None, 512)          33280       dropout_layer_0[0][0]            \n",
            "__________________________________________________________________________________________________\n",
            "dropout_layer_1 (Dropout)       (None, 512)          0           dense_2[0][0]                    \n",
            "__________________________________________________________________________________________________\n",
            "dense_3 (Dense)                 (None, 128)          65664       dropout_layer_1[0][0]            \n",
            "__________________________________________________________________________________________________\n",
            "dropout_layer_2 (Dropout)       (None, 128)          0           dense_3[0][0]                    \n",
            "__________________________________________________________________________________________________\n",
            "output_layer (Dense)            (None, 1)            129         dropout_layer_2[0][0]            \n",
            "==================================================================================================\n",
            "Total params: 20,781,329\n",
            "Trainable params: 20,781,329\n",
            "Non-trainable params: 0\n",
            "__________________________________________________________________________________________________\n"
          ],
          "name": "stdout"
        }
      ]
    },
    {
      "cell_type": "markdown",
      "metadata": {
        "id": "1FGRNIrlMYY9"
      },
      "source": [
        "Our model has `~20M` trainable parameters, Let's visualize how the model looks."
      ]
    },
    {
      "cell_type": "code",
      "metadata": {
        "colab": {
          "base_uri": "https://localhost:8080/",
          "height": 1000
        },
        "id": "Yn5Zkp_OMi-g",
        "outputId": "44e24558-1e4c-4dab-fb50-3e32154f9954"
      },
      "source": [
        "keras.utils.plot_model(model, dpi=64, show_shapes=True)"
      ],
      "execution_count": 42,
      "outputs": [
        {
          "output_type": "execute_result",
          "data": {
            "image/png": "[encoded data removed]",
            "text/plain": [
              "<IPython.core.display.Image object>"
            ]
          },
          "metadata": {
            "tags": []
          },
          "execution_count": 42
        }
      ]
    },
    {
      "cell_type": "markdown",
      "metadata": {
        "id": "II8o2G6ka_YH"
      },
      "source": [
        "### Compiling the model\n",
        "\n",
        "Again we are going to compile our model and we will use the `EalyStopping` call back."
      ]
    },
    {
      "cell_type": "code",
      "metadata": {
        "id": "k51Yua1vTTw4"
      },
      "source": [
        "early_stopping = keras.callbacks.EarlyStopping(\n",
        "    monitor='val_loss',\n",
        "    min_delta=0,\n",
        "    patience=2,\n",
        "    verbose=1,\n",
        "    mode='auto',\n",
        "    baseline=None,\n",
        "    restore_best_weights=False,\n",
        ")\n",
        "\n",
        "model.compile(\n",
        "    loss = keras.losses.BinaryCrossentropy(from_logits=False),\n",
        "    optimizer = keras.optimizers.Adam(1e-3, 0.5),\n",
        "    metrics = [\"accuracy\"]\n",
        ")"
      ],
      "execution_count": 43,
      "outputs": []
    },
    {
      "cell_type": "markdown",
      "metadata": {
        "id": "nufxR3sjh0ZI"
      },
      "source": [
        "### How long should we train the model?\n",
        "We are going to train the model for more epochs, as soon as the model loss stop decreasing we will stop."
      ]
    },
    {
      "cell_type": "code",
      "metadata": {
        "id": "JEvAF2NFTTtt",
        "colab": {
          "base_uri": "https://localhost:8080/"
        },
        "outputId": "0b92b2c8-cfc6-4eb9-b410-bdfd46d027c3"
      },
      "source": [
        "EPOCHS = 20\n",
        "\n",
        "history = model.fit(\n",
        "    x =[\n",
        "      train_tokens_padded_1, train_tokens_padded_2              \n",
        "    ], y=train_labels,\n",
        "    validation_data = (\n",
        "        [val_tokens_padded_1, val_tokens_padded_2  ], val_labels\n",
        "    ),\n",
        "    verbose = 1,\n",
        "    epochs = EPOCHS,\n",
        "    batch_size = 128,\n",
        "    shuffle = True,\n",
        "    validation_batch_size = 16,\n",
        "    callbacks = [early_stopping]\n",
        ")\n"
      ],
      "execution_count": 44,
      "outputs": [
        {
          "output_type": "stream",
          "text": [
            "Epoch 1/20\n",
            "3128/3128 [==============================] - 873s 276ms/step - loss: 0.5256 - accuracy: 0.7348 - val_loss: 0.4908 - val_accuracy: 0.7789\n",
            "Epoch 2/20\n",
            "3128/3128 [==============================] - 857s 274ms/step - loss: 0.4500 - accuracy: 0.7824 - val_loss: 0.4554 - val_accuracy: 0.7913\n",
            "Epoch 3/20\n",
            "3128/3128 [==============================] - 854s 273ms/step - loss: 0.4112 - accuracy: 0.8046 - val_loss: 0.4399 - val_accuracy: 0.8046\n",
            "Epoch 4/20\n",
            "3128/3128 [==============================] - 854s 273ms/step - loss: 0.3839 - accuracy: 0.8193 - val_loss: 0.4178 - val_accuracy: 0.8150\n",
            "Epoch 5/20\n",
            "3128/3128 [==============================] - 854s 273ms/step - loss: 0.3621 - accuracy: 0.8315 - val_loss: 0.4122 - val_accuracy: 0.8136\n",
            "Epoch 6/20\n",
            "3128/3128 [==============================] - 853s 273ms/step - loss: 0.3433 - accuracy: 0.8411 - val_loss: 0.4256 - val_accuracy: 0.8042\n",
            "Epoch 7/20\n",
            "3128/3128 [==============================] - 852s 272ms/step - loss: 0.3288 - accuracy: 0.8488 - val_loss: 0.4145 - val_accuracy: 0.8071\n",
            "Epoch 00007: early stopping\n"
          ],
          "name": "stdout"
        }
      ]
    },
    {
      "cell_type": "markdown",
      "metadata": {
        "id": "vfH5l0XGBQ4v"
      },
      "source": [
        "### Evaluating the model.\n",
        "\n",
        "We are going to evaluate the model on the test data. Remeber in the evaluate method we need to pass the data in the same shape we trained on so the test features and labels need to be processed."
      ]
    },
    {
      "cell_type": "markdown",
      "metadata": {
        "id": "gROvNEuzdRU6"
      },
      "source": [
        "### Converting test data to numeric and then pad it."
      ]
    },
    {
      "cell_type": "code",
      "metadata": {
        "colab": {
          "base_uri": "https://localhost:8080/"
        },
        "id": "sJVm515sdYW0",
        "outputId": "52742669-1cbf-4cc1-ca02-d9e383057fa6"
      },
      "source": [
        "def text_to_padded_sequences(sent):\n",
        "  tokens = text_to_seq(sent)\n",
        "  padded_tokens = pad_sequences([tokens], maxlen=max_words, padding=\"post\", truncating=\"post\")\n",
        "  return tf.squeeze(padded_tokens)\n",
        "\n",
        "test_question1_padded =  np.array(list(map(text_to_padded_sequences, test_questions1)))\n",
        "test_question2_padded =  np.array(list(map(text_to_padded_sequences, test_questions2)))\n",
        "\n",
        "model.evaluate(\n",
        "    [\n",
        "     test_question1_padded, test_question2_padded\n",
        "    ],\n",
        "    test_labels,\n",
        "    verbose = 1,\n",
        "    batch_size = 32\n",
        ")"
      ],
      "execution_count": 45,
      "outputs": [
        {
          "output_type": "stream",
          "text": [
            "63/63 [==============================] - 2s 24ms/step - loss: 0.4300 - accuracy: 0.7932\n"
          ],
          "name": "stdout"
        },
        {
          "output_type": "execute_result",
          "data": {
            "text/plain": [
              "[0.4299863278865814, 0.7932405471801758]"
            ]
          },
          "metadata": {
            "tags": []
          },
          "execution_count": 45
        }
      ]
    },
    {
      "cell_type": "markdown",
      "metadata": {
        "id": "RjPIx00ngxrr"
      },
      "source": [
        "As we can seee we are able to get an accuracy of `~80%` on the test data. Which can be improved "
      ]
    },
    {
      "cell_type": "markdown",
      "metadata": {
        "id": "kNWSIUk1eDU8"
      },
      "source": [
        "### Model inference (making predictions)"
      ]
    },
    {
      "cell_type": "code",
      "metadata": {
        "id": "ToEw318Pdd6k"
      },
      "source": [
        "from prettytable import PrettyTable"
      ],
      "execution_count": 46,
      "outputs": []
    },
    {
      "cell_type": "code",
      "metadata": {
        "id": "hiOn7Dlkdd3K"
      },
      "source": [
        "def tabulate(column_names, data, max_characters:int, title:str):\n",
        "  table = PrettyTable(column_names)\n",
        "  table.align[column_names[0]] = \"l\"\n",
        "  table.align[column_names[1]] = \"l\"\n",
        "  table.title = title\n",
        "  table._max_width = {column_names[0] :max_characters, column_names[1] :max_characters}\n",
        "  for row in data:\n",
        "    table.add_row(row)\n",
        "  print(table)"
      ],
      "execution_count": 63,
      "outputs": []
    },
    {
      "cell_type": "code",
      "metadata": {
        "id": "Z8SxstX6ekHD",
        "colab": {
          "base_uri": "https://localhost:8080/"
        },
        "outputId": "b04cfefd-5a2e-4270-e032-1f9d6d1fefaa"
      },
      "source": [
        "def predict(model, qn1, qn2, real_label=None):\n",
        "  classes = [\"not duplicate\", \"duplicate\"]\n",
        "  qn1_tokens = text_to_seq(qn1)\n",
        "  qn2_tokens = text_to_seq(qn2)\n",
        "\n",
        "  qn1_padded_tokens = pad_sequences([qn1_tokens], maxlen=max_words, \n",
        "                                padding=\"post\", truncating=\"post\")\n",
        "  qn2_padded_tokens = pad_sequences([qn2_tokens], maxlen=max_words, \n",
        "                                padding=\"post\", truncating=\"post\")\n",
        "  probability = tf.squeeze(model.predict([qn1_padded_tokens, qn2_padded_tokens]), 0)[0]\n",
        "  classLabel = np.round(probability).astype('int32')\n",
        "\n",
        "  probability = probability if probability >= .5  else 1- probability\n",
        "  table_headers =[\"KEY\", \"VALUE\"]\n",
        "  table_data = [\n",
        "        [\"Question 1\", qn1],\n",
        "        [\"Question2\", qn2],\n",
        "        [\"PREDICTED CLASS\",  classLabel],\n",
        "        [\"PREDICTED CLASS NAME\",  classes[classLabel]],\n",
        "        [\"REAL CLASS\",  real_label],\n",
        "        [\"REAL CLASS NAME\",  classes[real_label]],\n",
        "        [\"CONFIDENCE OVER OTHER CLASSES\", f'{ probability * 100:.2f}%'],\n",
        "             \n",
        "    ]\n",
        "  title = \"Duplicate Questions\"\n",
        "  tabulate(table_headers, table_data, 50, title=title)\n",
        "predict(model, test_questions1[0], test_questions2[2], int(test_labels[0]))"
      ],
      "execution_count": 67,
      "outputs": [
        {
          "output_type": "stream",
          "text": [
            "+------------------------------------------------------------------------------------+\n",
            "|                                Duplicate Questions                                 |\n",
            "+-------------------------------+----------------------------------------------------+\n",
            "| KEY                           | VALUE                                              |\n",
            "+-------------------------------+----------------------------------------------------+\n",
            "| Question 1                    | what would be the impact of quora getting hacked   |\n",
            "|                               | and all anonymous identities exposed?              |\n",
            "| Question2                     | what are the most interesting products and         |\n",
            "|                               | innovations that federal signal is coming out with |\n",
            "|                               | in 2016?                                           |\n",
            "| PREDICTED CLASS               | 0                                                  |\n",
            "| PREDICTED CLASS NAME          | not duplicate                                      |\n",
            "| REAL CLASS                    | 1                                                  |\n",
            "| REAL CLASS NAME               | duplicate                                          |\n",
            "| CONFIDENCE OVER OTHER CLASSES | 97.12%                                             |\n",
            "+-------------------------------+----------------------------------------------------+\n"
          ],
          "name": "stdout"
        }
      ]
    },
    {
      "cell_type": "markdown",
      "metadata": {
        "id": "oGMjEW_lejc1"
      },
      "source": [
        "### Making predictions on the test data."
      ]
    },
    {
      "cell_type": "code",
      "metadata": {
        "colab": {
          "base_uri": "https://localhost:8080/"
        },
        "id": "zDBvpsJjjFKv",
        "outputId": "74971a65-dea4-469c-f7de-4c1042d4101b"
      },
      "source": [
        "for label, qn1, qn2 in zip(test_labels[:10], test_questions1, test_questions2):\n",
        "  predict(model, qn1, qn2, int(label))"
      ],
      "execution_count": 68,
      "outputs": [
        {
          "output_type": "stream",
          "text": [
            "+------------------------------------------------------------------------------------+\n",
            "|                                Duplicate Questions                                 |\n",
            "+-------------------------------+----------------------------------------------------+\n",
            "| KEY                           | VALUE                                              |\n",
            "+-------------------------------+----------------------------------------------------+\n",
            "| Question 1                    | what would be the impact of quora getting hacked   |\n",
            "|                               | and all anonymous identities exposed?              |\n",
            "| Question2                     | what would the consequences be if someone hacked   |\n",
            "|                               | the anonymity feature on quora and everyone who    |\n",
            "|                               | thought they were anonymous would be exposed?      |\n",
            "| PREDICTED CLASS               | 0                                                  |\n",
            "| PREDICTED CLASS NAME          | not duplicate                                      |\n",
            "| REAL CLASS                    | 1                                                  |\n",
            "| REAL CLASS NAME               | duplicate                                          |\n",
            "| CONFIDENCE OVER OTHER CLASSES | 61.91%                                             |\n",
            "+-------------------------------+----------------------------------------------------+\n",
            "+-------------------------------------------------------------------------------+\n",
            "|                              Duplicate Questions                              |\n",
            "+-------------------------------+-----------------------------------------------+\n",
            "| KEY                           | VALUE                                         |\n",
            "+-------------------------------+-----------------------------------------------+\n",
            "| Question 1                    | why is kneeling on rice used as a punishment? |\n",
            "| Question2                     | is kneeling on rice really a punishment?      |\n",
            "| PREDICTED CLASS               | 1                                             |\n",
            "| PREDICTED CLASS NAME          | duplicate                                     |\n",
            "| REAL CLASS                    | 1                                             |\n",
            "| REAL CLASS NAME               | duplicate                                     |\n",
            "| CONFIDENCE OVER OTHER CLASSES | 50.78%                                        |\n",
            "+-------------------------------+-----------------------------------------------+\n",
            "+------------------------------------------------------------------------------------+\n",
            "|                                Duplicate Questions                                 |\n",
            "+-------------------------------+----------------------------------------------------+\n",
            "| KEY                           | VALUE                                              |\n",
            "+-------------------------------+----------------------------------------------------+\n",
            "| Question 1                    | what are the most interesting products and         |\n",
            "|                               | innovations that federated investors is coming out |\n",
            "|                               | with in 2016?                                      |\n",
            "| Question2                     | what are the most interesting products and         |\n",
            "|                               | innovations that federal signal is coming out with |\n",
            "|                               | in 2016?                                           |\n",
            "| PREDICTED CLASS               | 0                                                  |\n",
            "| PREDICTED CLASS NAME          | not duplicate                                      |\n",
            "| REAL CLASS                    | 0                                                  |\n",
            "| REAL CLASS NAME               | not duplicate                                      |\n",
            "| CONFIDENCE OVER OTHER CLASSES | 98.44%                                             |\n",
            "+-------------------------------+----------------------------------------------------+\n",
            "+------------------------------------------------------------------------------------+\n",
            "|                                Duplicate Questions                                 |\n",
            "+-------------------------------+----------------------------------------------------+\n",
            "| KEY                           | VALUE                                              |\n",
            "+-------------------------------+----------------------------------------------------+\n",
            "| Question 1                    | what does it feel like to study psychology?        |\n",
            "| Question2                     | what is it like to study psychology at u           |\n",
            "|                               | washington?                                        |\n",
            "| PREDICTED CLASS               | 0                                                  |\n",
            "| PREDICTED CLASS NAME          | not duplicate                                      |\n",
            "| REAL CLASS                    | 0                                                  |\n",
            "| REAL CLASS NAME               | not duplicate                                      |\n",
            "| CONFIDENCE OVER OTHER CLASSES | 82.28%                                             |\n",
            "+-------------------------------+----------------------------------------------------+\n",
            "+------------------------------------------------------------------------------------+\n",
            "|                                Duplicate Questions                                 |\n",
            "+-------------------------------+----------------------------------------------------+\n",
            "| KEY                           | VALUE                                              |\n",
            "+-------------------------------+----------------------------------------------------+\n",
            "| Question 1                    | how can you determine the valence electrons in     |\n",
            "|                               | calcium?                                           |\n",
            "| Question2                     | how is the valence of calcium determined?          |\n",
            "| PREDICTED CLASS               | 0                                                  |\n",
            "| PREDICTED CLASS NAME          | not duplicate                                      |\n",
            "| REAL CLASS                    | 0                                                  |\n",
            "| REAL CLASS NAME               | not duplicate                                      |\n",
            "| CONFIDENCE OVER OTHER CLASSES | 97.41%                                             |\n",
            "+-------------------------------+----------------------------------------------------+\n",
            "+--------------------------------------------------------------+\n",
            "|                     Duplicate Questions                      |\n",
            "+-------------------------------+------------------------------+\n",
            "| KEY                           | VALUE                        |\n",
            "+-------------------------------+------------------------------+\n",
            "| Question 1                    | where is jk rowling's house? |\n",
            "| Question2                     | where does jk rowling work?  |\n",
            "| PREDICTED CLASS               | 0                            |\n",
            "| PREDICTED CLASS NAME          | not duplicate                |\n",
            "| REAL CLASS                    | 0                            |\n",
            "| REAL CLASS NAME               | not duplicate                |\n",
            "| CONFIDENCE OVER OTHER CLASSES | 81.64%                       |\n",
            "+-------------------------------+------------------------------+\n",
            "+----------------------------------------------------------------------------+\n",
            "|                            Duplicate Questions                             |\n",
            "+-------------------------------+--------------------------------------------+\n",
            "| KEY                           | VALUE                                      |\n",
            "+-------------------------------+--------------------------------------------+\n",
            "| Question 1                    | who was the first human to go the moon?    |\n",
            "| Question2                     | why doesn’t humanity go to the moon again? |\n",
            "| PREDICTED CLASS               | 0                                          |\n",
            "| PREDICTED CLASS NAME          | not duplicate                              |\n",
            "| REAL CLASS                    | 0                                          |\n",
            "| REAL CLASS NAME               | not duplicate                              |\n",
            "| CONFIDENCE OVER OTHER CLASSES | 68.64%                                     |\n",
            "+-------------------------------+--------------------------------------------+\n",
            "+------------------------------------------------------------------------------------+\n",
            "|                                Duplicate Questions                                 |\n",
            "+-------------------------------+----------------------------------------------------+\n",
            "| KEY                           | VALUE                                              |\n",
            "+-------------------------------+----------------------------------------------------+\n",
            "| Question 1                    | what are some unusual aspects about politics and   |\n",
            "|                               | government in syria?                               |\n",
            "| Question2                     | what are some unusual aspects about politics and   |\n",
            "|                               | government in mexico?                              |\n",
            "| PREDICTED CLASS               | 0                                                  |\n",
            "| PREDICTED CLASS NAME          | not duplicate                                      |\n",
            "| REAL CLASS                    | 0                                                  |\n",
            "| REAL CLASS NAME               | not duplicate                                      |\n",
            "| CONFIDENCE OVER OTHER CLASSES | 79.64%                                             |\n",
            "+-------------------------------+----------------------------------------------------+\n",
            "+------------------------------------------------------------------------------------+\n",
            "|                                Duplicate Questions                                 |\n",
            "+-------------------------------+----------------------------------------------------+\n",
            "| KEY                           | VALUE                                              |\n",
            "+-------------------------------+----------------------------------------------------+\n",
            "| Question 1                    | debate: should mothers stay at home and take care  |\n",
            "|                               | of their children?                                 |\n",
            "| Question2                     | one mother can take care of her 10 children until  |\n",
            "|                               | they grow up, but after she reaches old age, her   |\n",
            "|                               | 10 children quarrel amongst themselves over who    |\n",
            "|                               | will take care of her one and only mother. why?    |\n",
            "| PREDICTED CLASS               | 0                                                  |\n",
            "| PREDICTED CLASS NAME          | not duplicate                                      |\n",
            "| REAL CLASS                    | 0                                                  |\n",
            "| REAL CLASS NAME               | not duplicate                                      |\n",
            "| CONFIDENCE OVER OTHER CLASSES | 98.86%                                             |\n",
            "+-------------------------------+----------------------------------------------------+\n",
            "+------------------------------------------------------------------------------------+\n",
            "|                                Duplicate Questions                                 |\n",
            "+-------------------------------+----------------------------------------------------+\n",
            "| KEY                           | VALUE                                              |\n",
            "+-------------------------------+----------------------------------------------------+\n",
            "| Question 1                    | what is the effect of temperature on semiconductor |\n",
            "|                               | diode?                                             |\n",
            "| Question2                     | semiconductors: how are diodes manufactured?       |\n",
            "| PREDICTED CLASS               | 0                                                  |\n",
            "| PREDICTED CLASS NAME          | not duplicate                                      |\n",
            "| REAL CLASS                    | 0                                                  |\n",
            "| REAL CLASS NAME               | not duplicate                                      |\n",
            "| CONFIDENCE OVER OTHER CLASSES | 94.50%                                             |\n",
            "+-------------------------------+----------------------------------------------------+\n"
          ],
          "name": "stdout"
        }
      ]
    },
    {
      "cell_type": "markdown",
      "metadata": {
        "id": "3gdyDXWZA745"
      },
      "source": [
        "### Saving the model."
      ]
    },
    {
      "cell_type": "code",
      "metadata": {
        "colab": {
          "base_uri": "https://localhost:8080/"
        },
        "id": "kcQaq57pA-OH",
        "outputId": "d3d06969-14b5-4faf-a35c-a079f28d343a"
      },
      "source": [
        "model.save(\"questions_model.h5\")\n",
        "print(\"saved!!\")"
      ],
      "execution_count": 73,
      "outputs": [
        {
          "output_type": "stream",
          "text": [
            "WARNING:tensorflow:Found duplicated `Variable`s in Model's `weights`. This is usually caused by `Variable`s being shared by Layers in the Model. These `Variable`s will be treated as separate `Variable`s when the Model is restored. To avoid this, please save with `save_format=\"tf\"`.\n",
            "saved!!\n"
          ],
          "name": "stdout"
        }
      ]
    },
    {
      "cell_type": "code",
      "metadata": {
        "colab": {
          "base_uri": "https://localhost:8080/"
        },
        "id": "XvE-slOSB_p4",
        "outputId": "c13447a8-c964-443a-8cc2-21734ef50a98"
      },
      "source": [
        "loaded = keras.models.load_model(\"questions_model.h5\")"
      ],
      "execution_count": 74,
      "outputs": [
        {
          "output_type": "stream",
          "text": [
            "WARNING:tensorflow:Error in loading the saved optimizer state. As a result, your model is starting with a freshly initialized optimizer.\n"
          ],
          "name": "stdout"
        }
      ]
    },
    {
      "cell_type": "code",
      "metadata": {
        "colab": {
          "base_uri": "https://localhost:8080/"
        },
        "id": "P21RlY88CJj5",
        "outputId": "fcaf0fab-051d-482a-9390-d2b87e57fa5a"
      },
      "source": [
        "loaded.evaluate(\n",
        "        [\n",
        "     test_question1_padded, test_question2_padded\n",
        "    ],\n",
        "    test_labels,\n",
        "    verbose = 1,\n",
        "    batch_size = 32\n",
        ")"
      ],
      "execution_count": 75,
      "outputs": [
        {
          "output_type": "stream",
          "text": [
            "63/63 [==============================] - 3s 28ms/step - loss: 0.4300 - accuracy: 0.7932\n"
          ],
          "name": "stdout"
        },
        {
          "output_type": "execute_result",
          "data": {
            "text/plain": [
              "[0.4299863278865814, 0.7932405471801758]"
            ]
          },
          "metadata": {
            "tags": []
          },
          "execution_count": 75
        }
      ]
    },
    {
      "cell_type": "code",
      "metadata": {
        "id": "ItG5YIU_CTqb"
      },
      "source": [
        ""
      ],
      "execution_count": null,
      "outputs": []
    }
  ]
}