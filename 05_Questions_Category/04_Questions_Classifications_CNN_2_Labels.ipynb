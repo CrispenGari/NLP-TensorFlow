{
  "nbformat": 4,
  "nbformat_minor": 0,
  "metadata": {
    "colab": {
      "name": "04_Questions_Classifications_CNN_2_Labels.ipynb",
      "provenance": [],
      "collapsed_sections": []
    },
    "kernelspec": {
      "name": "python3",
      "display_name": "Python 3"
    },
    "language_info": {
      "name": "python"
    },
    "accelerator": "GPU"
  },
  "cells": [
    {
      "cell_type": "markdown",
      "metadata": {
        "id": "GQdMCuw_7n9c"
      },
      "source": [
        "### Questions Type Categories 2 Labels\n",
        "\n",
        "In this notebook we will have a look on how we can perform the previous task from the previous notebook using `CNN`. Also for the first time we are going to use the Functional API on `CNN`\n",
        "\n",
        "We are going to change from Sequential to Functional API, the most of the code cells remains unchanged same, where there's change i will highlight."
      ]
    },
    {
      "cell_type": "markdown",
      "metadata": {
        "id": "kWfE6YK-8vJ0"
      },
      "source": [
        "### Imports"
      ]
    },
    {
      "cell_type": "code",
      "metadata": {
        "colab": {
          "base_uri": "https://localhost:8080/",
          "height": 35
        },
        "id": "Tba-zWww7lCj",
        "outputId": "1a95660a-204e-4161-cac9-2bcdbdc0da8f"
      },
      "source": [
        "import os\n",
        "import numpy as np\n",
        "import tensorflow as tf\n",
        "from tensorflow import keras\n",
        "import csv, json, time\n",
        "import pandas as pd\n",
        "\n",
        "from sklearn.model_selection import train_test_split\n",
        "from sklearn.preprocessing import LabelEncoder\n",
        "\n",
        "tf.__version__"
      ],
      "execution_count": 1,
      "outputs": [
        {
          "output_type": "execute_result",
          "data": {
            "application/vnd.google.colaboratory.intrinsic+json": {
              "type": "string"
            },
            "text/plain": [
              "'2.5.0'"
            ]
          },
          "metadata": {
            "tags": []
          },
          "execution_count": 1
        }
      ]
    },
    {
      "cell_type": "markdown",
      "metadata": {
        "id": "04w51ddo9eZ6"
      },
      "source": [
        "### GPU"
      ]
    },
    {
      "cell_type": "code",
      "metadata": {
        "colab": {
          "base_uri": "https://localhost:8080/"
        },
        "id": "En6QPjhE9idy",
        "outputId": "6f91f9a1-6b44-4711-b5ad-ae40dbc69c2c"
      },
      "source": [
        "devices = tf.config.list_physical_devices(\"GPU\")\n",
        "try:\n",
        "  tf.config.experimental.set_visible_devices(devices[0], \"GPU\")\n",
        "  print(\"GPU set\")\n",
        "except RuntimeError as e:\n",
        "  print(e)"
      ],
      "execution_count": 2,
      "outputs": [
        {
          "output_type": "stream",
          "text": [
            "GPU set\n"
          ],
          "name": "stdout"
        }
      ]
    },
    {
      "cell_type": "markdown",
      "metadata": {
        "id": "nJKnDsrA-DIa"
      },
      "source": [
        "### SEED"
      ]
    },
    {
      "cell_type": "code",
      "metadata": {
        "id": "qFNUg7KM7otT"
      },
      "source": [
        "SEED = 42\n",
        "tf.random.set_seed(\n",
        "    SEED\n",
        ")\n",
        "np.random.seed(SEED)"
      ],
      "execution_count": 3,
      "outputs": []
    },
    {
      "cell_type": "markdown",
      "metadata": {
        "id": "d1yJUQ93-mP5"
      },
      "source": [
        "### Mounting the google drive"
      ]
    },
    {
      "cell_type": "code",
      "metadata": {
        "id": "KB2TgepR7oqk",
        "colab": {
          "base_uri": "https://localhost:8080/"
        },
        "outputId": "96b286d7-251e-43fc-8306-21894c25c3c6"
      },
      "source": [
        "from google.colab import drive\n",
        "drive.mount('/content/drive')"
      ],
      "execution_count": 4,
      "outputs": [
        {
          "output_type": "stream",
          "text": [
            "Mounted at /content/drive\n"
          ],
          "name": "stdout"
        }
      ]
    },
    {
      "cell_type": "markdown",
      "metadata": {
        "id": "NhLek2KV--EB"
      },
      "source": [
        "### Data\n",
        "\n",
        "Again we are not going to create files as we did in the last notebook, because all the data splits were done in the first notebook that's the reason we saved the csv files which have the following file names:\n",
        "\n",
        "```\n",
        "train.csv\n",
        "test.csv\n",
        "val.csv\n",
        "```"
      ]
    },
    {
      "cell_type": "code",
      "metadata": {
        "id": "Q2ev0OALkvi8"
      },
      "source": [
        "data_path = \"/content/drive/MyDrive/NLP Data/questions-classification\""
      ],
      "execution_count": 6,
      "outputs": []
    },
    {
      "cell_type": "markdown",
      "metadata": {
        "id": "BkMpy0smDE74"
      },
      "source": [
        "### Loading the files"
      ]
    },
    {
      "cell_type": "code",
      "metadata": {
        "id": "2v4w8zURk5Td"
      },
      "source": [
        "train_path = \"train.csv\"\n",
        "val_path = \"val.csv\"\n",
        "test_path = \"test.csv\""
      ],
      "execution_count": 7,
      "outputs": []
    },
    {
      "cell_type": "code",
      "metadata": {
        "id": "zJW7hRlFBRW_"
      },
      "source": [
        "train_dataframe = pd.read_csv(\n",
        "    os.path.join(data_path, train_path)\n",
        ")\n",
        "val_dataframe = pd.read_csv(\n",
        "    os.path.join(data_path, val_path)\n",
        ")\n",
        "test_dataframe = pd.read_csv(\n",
        "    os.path.join(data_path, test_path)\n",
        ")"
      ],
      "execution_count": 8,
      "outputs": []
    },
    {
      "cell_type": "markdown",
      "metadata": {
        "id": "C_JNRgZ7lIxL"
      },
      "source": [
        "As i said in this notebook we are going to predict two categories. So this means we are intrested in 3 columns for each set which are:\n",
        "\n",
        "```\n",
        "1. Questions  (feature)\n",
        "2. Category0  (label_1)  (6 classes)                                                \n",
        "3. Category2 (label_2) (47 classes)\n",
        "```"
      ]
    },
    {
      "cell_type": "code",
      "metadata": {
        "colab": {
          "base_uri": "https://localhost:8080/"
        },
        "id": "c4X5ln30lEP1",
        "outputId": "2187bf93-f500-4242-c8b2-0a5b98b7c7bf"
      },
      "source": [
        "train_dataframe.Category2.unique()"
      ],
      "execution_count": 9,
      "outputs": [
        {
          "output_type": "execute_result",
          "data": {
            "text/plain": [
              "array(['dismed', 'count', 'ind', 'food', 'date', 'other', 'money', 'dist',\n",
              "       'period', 'gr', 'perc', 'sport', 'country', 'city', 'desc', 'exp',\n",
              "       'word', 'abb', 'cremat', 'animal', 'body', 'reason', 'def',\n",
              "       'manner', 'letter', 'termeq', 'substance', 'state', 'color',\n",
              "       'event', 'product', 'symbol', 'volsize', 'mount', 'weight', 'veh',\n",
              "       'techmeth', 'plant', 'title', 'code', 'ord', 'speed', 'lang',\n",
              "       'temp', 'instru', 'currency', 'religion'], dtype=object)"
            ]
          },
          "metadata": {
            "tags": []
          },
          "execution_count": 9
        }
      ]
    },
    {
      "cell_type": "markdown",
      "metadata": {
        "id": "bHW6hdTtEoIs"
      },
      "source": [
        "### Question Classes"
      ]
    },
    {
      "cell_type": "code",
      "metadata": {
        "colab": {
          "base_uri": "https://localhost:8080/"
        },
        "id": "N70ykjDWErrI",
        "outputId": "e5ae38c4-da03-48d3-b6e3-20f20ce23a56"
      },
      "source": [
        "train_dataframe.Category0.unique()"
      ],
      "execution_count": 10,
      "outputs": [
        {
          "output_type": "execute_result",
          "data": {
            "text/plain": [
              "array(['ENTITY', 'NUMERIC', 'HUMAN', 'LOCATION', 'DESCRIPTION',\n",
              "       'ABBREVIATION'], dtype=object)"
            ]
          },
          "metadata": {
            "tags": []
          },
          "execution_count": 10
        }
      ]
    },
    {
      "cell_type": "markdown",
      "metadata": {
        "id": "kK-ZY6iTE0gf"
      },
      "source": [
        "We `6` different categories for these questions which are:\n",
        "```\n",
        "categories_0 = ['ENTITY', 'DESCRIPTION', 'NUMERIC', 'HUMAN', 'LOCATION',\n",
        "       'ABBREVIATION']\n",
        "```\n",
        "We also have `47` classes of these questions which are:\n",
        "```\n",
        "categories_1 = ['dismed', 'count', 'ind', 'food', 'date', 'other', 'money', 'dist',\n",
        "       'period', 'gr', 'perc', 'sport', 'country', 'city', 'desc', 'exp',\n",
        "       'word', 'abb', 'cremat', 'animal', 'body', 'reason', 'def',\n",
        "       'manner', 'letter', 'termeq', 'substance', 'state', 'color',\n",
        "       'event', 'product', 'symbol', 'volsize', 'mount', 'weight', 'veh',\n",
        "       'techmeth', 'plant', 'title', 'code', 'ord', 'speed', 'lang',\n",
        "       'temp', 'instru', 'currency', 'religion']\n",
        "```\n"
      ]
    },
    {
      "cell_type": "markdown",
      "metadata": {
        "id": "nNkdkG-qDvv_"
      },
      "source": [
        "### Features and Labels\n",
        "* We are going to one_hot encode all labels"
      ]
    },
    {
      "cell_type": "code",
      "metadata": {
        "id": "bftB-ql3BRRb"
      },
      "source": [
        "train_features = train_dataframe.Questions.values\n",
        "train_labels_0 = train_dataframe.Category0.values\n",
        "train_labels_1 = train_dataframe.Category2.values\n",
        "\n",
        "test_features = test_dataframe.Questions.values\n",
        "test_labels_0 = test_dataframe.Category0.values\n",
        "test_labels_1 = test_dataframe.Category2.values\n",
        "\n",
        "val_features = val_dataframe.Questions.values\n",
        "val_labels_0 = val_dataframe.Category0.values\n",
        "val_labels_1 = val_dataframe.Category2.values\n"
      ],
      "execution_count": 11,
      "outputs": []
    },
    {
      "cell_type": "markdown",
      "metadata": {
        "id": "2MSTPezSEIlP"
      },
      "source": [
        "### Label Encoding.\n",
        "\n",
        "We are going to create encode the labels to numerical represantation using the `sklearn` `LabelEncoder` class. Since we have two labels we are going to create two surperate `LabelEncoder`'s"
      ]
    },
    {
      "cell_type": "code",
      "metadata": {
        "colab": {
          "base_uri": "https://localhost:8080/"
        },
        "id": "Y5L5jkryBROc",
        "outputId": "642de3ed-dbb4-4d10-c7fd-50dddfc2af1e"
      },
      "source": [
        "label_0_encoder = LabelEncoder()\n",
        "label_0_encoder.fit(train_labels_0)\n",
        "\n",
        "label_1_encoder = LabelEncoder()\n",
        "label_1_encoder.fit(train_labels_1)"
      ],
      "execution_count": 12,
      "outputs": [
        {
          "output_type": "execute_result",
          "data": {
            "text/plain": [
              "LabelEncoder()"
            ]
          },
          "metadata": {
            "tags": []
          },
          "execution_count": 12
        }
      ]
    },
    {
      "cell_type": "markdown",
      "metadata": {
        "id": "DCbvJdfin9PB"
      },
      "source": [
        "Joining the validation and training set"
      ]
    },
    {
      "cell_type": "code",
      "metadata": {
        "colab": {
          "base_uri": "https://localhost:8080/"
        },
        "id": "TIIUtmNZoDND",
        "outputId": "9a0d7856-40c4-4f3d-a196-8e8919c62a37"
      },
      "source": [
        "train_valid_features = np.concatenate([train_features, val_features], axis = 0)\n",
        "train_valid_labels_0 = np.concatenate([train_labels_0, val_labels_0], axis = 0)\n",
        "train_valid_labels_1 = np.concatenate([train_labels_1, val_labels_1], axis = 0)\n",
        "\n",
        "train_valid_labels_1.shape, train_valid_labels_0.shape, train_valid_features.shape"
      ],
      "execution_count": 13,
      "outputs": [
        {
          "output_type": "execute_result",
          "data": {
            "text/plain": [
              "((4579,), (4579,), (4579,))"
            ]
          },
          "metadata": {
            "tags": []
          },
          "execution_count": 13
        }
      ]
    },
    {
      "cell_type": "code",
      "metadata": {
        "id": "RvnD8udFEkXR"
      },
      "source": [
        "train_labels_0 = label_0_encoder.transform(train_valid_labels_0).astype(\"int32\")\n",
        "train_labels_1 = label_1_encoder.transform(train_valid_labels_1).astype(\"int32\")\n",
        "\n",
        "test_labels_0 = label_0_encoder.transform(test_labels_0).astype(\"int32\")\n",
        "test_labels_1 = label_1_encoder.transform(test_labels_1).astype(\"int32\")\n"
      ],
      "execution_count": 14,
      "outputs": []
    },
    {
      "cell_type": "code",
      "metadata": {
        "colab": {
          "base_uri": "https://localhost:8080/"
        },
        "id": "vfgrW-wEFbTf",
        "outputId": "48290f94-cac6-43cd-8d44-02b660637355"
      },
      "source": [
        "class_names_label_0 = label_0_encoder.classes_\n",
        "class_names_label_1 = label_1_encoder.classes_\n",
        "\n",
        "\n",
        "class_names_label_0.shape, class_names_label_1.shape"
      ],
      "execution_count": 15,
      "outputs": [
        {
          "output_type": "execute_result",
          "data": {
            "text/plain": [
              "((6,), (47,))"
            ]
          },
          "metadata": {
            "tags": []
          },
          "execution_count": 15
        }
      ]
    },
    {
      "cell_type": "markdown",
      "metadata": {
        "id": "OSvtocxDFpIC"
      },
      "source": [
        "### Next we are going to `one_hot_encode` labels.\n",
        "\n",
        "We are only going to `one_hot` encode the train labels. We will also do the same to the test set so that it will act as our validation set since the dataset is very small. I'm going to use the `numpy` method `eye`. You can use the `sklearn` ``OneHotEncoder`` class or the `tensorflow` method `one_hot`.\n",
        "\n",
        "\n",
        "**For this we will create two functions that one_hot_encode labels with different depth**\n"
      ]
    },
    {
      "cell_type": "code",
      "metadata": {
        "colab": {
          "base_uri": "https://localhost:8080/"
        },
        "id": "98xpro7gEkRW",
        "outputId": "07263b4c-6d45-4db8-ab33-85940f81ad50"
      },
      "source": [
        "def one_hot_label_1(index, depth=6): # 6 classes\n",
        "  return np.eye(depth, dtype=np.float32)[index]\n",
        "print(one_hot_label_1(2))\n",
        "\n",
        "def one_hot_label_2(index, depth=47): # 47 classes\n",
        "  return np.eye(depth, dtype=np.float32)[index]\n",
        "one_hot_label_2(2)"
      ],
      "execution_count": 16,
      "outputs": [
        {
          "output_type": "stream",
          "text": [
            "[0. 0. 1. 0. 0. 0.]\n"
          ],
          "name": "stdout"
        },
        {
          "output_type": "execute_result",
          "data": {
            "text/plain": [
              "array([0., 0., 1., 0., 0., 0., 0., 0., 0., 0., 0., 0., 0., 0., 0., 0., 0.,\n",
              "       0., 0., 0., 0., 0., 0., 0., 0., 0., 0., 0., 0., 0., 0., 0., 0., 0.,\n",
              "       0., 0., 0., 0., 0., 0., 0., 0., 0., 0., 0., 0., 0.], dtype=float32)"
            ]
          },
          "metadata": {
            "tags": []
          },
          "execution_count": 16
        }
      ]
    },
    {
      "cell_type": "code",
      "metadata": {
        "id": "JShSsfbNEkMu"
      },
      "source": [
        "train_labels_0_one_hot = np.array(list(map(one_hot_label_1, train_labels_0)))\n",
        "test_labels_0_one_hot = np.array(list(map(one_hot_label_1, test_labels_0)))\n",
        "\n",
        "train_labels_1_one_hot = np.array(list(map(one_hot_label_2, train_labels_1)))\n",
        "test_labels_1_one_hot = np.array(list(map(one_hot_label_2, test_labels_1)))"
      ],
      "execution_count": 17,
      "outputs": []
    },
    {
      "cell_type": "code",
      "metadata": {
        "colab": {
          "base_uri": "https://localhost:8080/"
        },
        "id": "ma1c02IgEkGm",
        "outputId": "3d4eeaec-a89c-4cd1-fccc-24c7e87ae933"
      },
      "source": [
        "test_labels_0_one_hot[0]"
      ],
      "execution_count": 18,
      "outputs": [
        {
          "output_type": "execute_result",
          "data": {
            "text/plain": [
              "array([0., 0., 0., 0., 0., 1.], dtype=float32)"
            ]
          },
          "metadata": {
            "tags": []
          },
          "execution_count": 18
        }
      ]
    },
    {
      "cell_type": "markdown",
      "metadata": {
        "id": "j9VDpFIUHYve"
      },
      "source": [
        "### Features\n",
        "\n",
        " For now we are done with labels. In our case our feature is a question. All we need to do in this dataset is to create a helper function that will convert the text to lower case that's all we need. \n",
        "\n",
        " After that we will then prepare/preprocess the train and validation features for the model."
      ]
    },
    {
      "cell_type": "code",
      "metadata": {
        "id": "lepgcaB0Ej-m"
      },
      "source": [
        "to_lower = lambda sent: sent.lower()"
      ],
      "execution_count": 19,
      "outputs": []
    },
    {
      "cell_type": "code",
      "metadata": {
        "id": "F9TwFIXrH5DW"
      },
      "source": [
        "train_features = np.array(\n",
        "    list(\n",
        "        map(to_lower, train_features)\n",
        "    )\n",
        ")\n",
        "test_features= np.array(\n",
        "    list(\n",
        "        map(to_lower, test_features)\n",
        "    )\n",
        ")"
      ],
      "execution_count": 20,
      "outputs": []
    },
    {
      "cell_type": "code",
      "metadata": {
        "colab": {
          "base_uri": "https://localhost:8080/"
        },
        "id": "lZb6STrmH5Af",
        "outputId": "955002ba-dce8-4ce3-dc6f-468d58a0f19b"
      },
      "source": [
        "train_features[:2]"
      ],
      "execution_count": 21,
      "outputs": [
        {
          "output_type": "execute_result",
          "data": {
            "text/plain": [
              "array(['what does salk vaccine prevent ?',\n",
              "       \"how many times a day should you take a prescription marked `` q.i.d . '' ?\"],\n",
              "      dtype='<U196')"
            ]
          },
          "metadata": {
            "tags": []
          },
          "execution_count": 21
        }
      ]
    },
    {
      "cell_type": "markdown",
      "metadata": {
        "id": "URlFb83DIjR-"
      },
      "source": [
        "### Preprocessing Features(Questions)\n",
        "\n",
        "1. Create a vocabulary\n",
        "2. Create a `stoi` from each sentencs\n",
        "3. pad the sentences to have the same size\n",
        "\n",
        "**Note** - During creation of the vocabulary we are going to use the `train` set. The model should not have an idea about the validation set, because we want the validation set to represent the test set as mush as possible."
      ]
    },
    {
      "cell_type": "markdown",
      "metadata": {
        "id": "OeafBB2NJtKv"
      },
      "source": [
        "### Vocab size, (aka) the number of unique words.\n",
        "\n",
        "I'm going to use spacy to tokenize each sentence and then we count number of unique words in the train set."
      ]
    },
    {
      "cell_type": "code",
      "metadata": {
        "id": "MhSvXYM3H484"
      },
      "source": [
        "from collections import Counter\n",
        "from nltk.tokenize import word_tokenize"
      ],
      "execution_count": 22,
      "outputs": []
    },
    {
      "cell_type": "code",
      "metadata": {
        "colab": {
          "base_uri": "https://localhost:8080/"
        },
        "id": "-iw1bCFuahxd",
        "outputId": "7a7555b6-5243-4ca9-c9d4-dc355290dfac"
      },
      "source": [
        "import nltk\n",
        "nltk.download('punkt')"
      ],
      "execution_count": 23,
      "outputs": [
        {
          "output_type": "stream",
          "text": [
            "[nltk_data] Downloading package punkt to /root/nltk_data...\n",
            "[nltk_data]   Unzipping tokenizers/punkt.zip.\n"
          ],
          "name": "stdout"
        },
        {
          "output_type": "execute_result",
          "data": {
            "text/plain": [
              "True"
            ]
          },
          "metadata": {
            "tags": []
          },
          "execution_count": 23
        }
      ]
    },
    {
      "cell_type": "code",
      "metadata": {
        "colab": {
          "base_uri": "https://localhost:8080/",
          "height": 35
        },
        "id": "KUs78gVCK3oc",
        "outputId": "39d72cff-126e-42c5-9b6b-e398b392d3b4"
      },
      "source": [
        "train_features[0]"
      ],
      "execution_count": 24,
      "outputs": [
        {
          "output_type": "execute_result",
          "data": {
            "application/vnd.google.colaboratory.intrinsic+json": {
              "type": "string"
            },
            "text/plain": [
              "'what does salk vaccine prevent ?'"
            ]
          },
          "metadata": {
            "tags": []
          },
          "execution_count": 24
        }
      ]
    },
    {
      "cell_type": "code",
      "metadata": {
        "colab": {
          "base_uri": "https://localhost:8080/"
        },
        "id": "OsGjWD5fH45o",
        "outputId": "8a4aa977-8cf5-44f2-d385-3b8dadd6071f"
      },
      "source": [
        "counter = Counter()\n",
        "for sent in list(train_valid_features):\n",
        "  words = word_tokenize(sent)\n",
        "  for word in words:\n",
        "    counter[word] += 1\n",
        "counter.most_common(9)"
      ],
      "execution_count": 25,
      "outputs": [
        {
          "output_type": "execute_result",
          "data": {
            "text/plain": [
              "[('?', 4494),\n",
              " ('the', 3045),\n",
              " ('What', 2729),\n",
              " ('is', 1417),\n",
              " ('of', 1309),\n",
              " ('in', 970),\n",
              " ('a', 863),\n",
              " ('How', 643),\n",
              " (\"'s\", 596)]"
            ]
          },
          "metadata": {
            "tags": []
          },
          "execution_count": 25
        }
      ]
    },
    {
      "cell_type": "code",
      "metadata": {
        "id": "4i4QuWnFH4zn",
        "colab": {
          "base_uri": "https://localhost:8080/"
        },
        "outputId": "2550c352-0716-4ba4-eab6-50e300b6e1ff"
      },
      "source": [
        "vocab_size = len(counter)\n",
        "vocab_size"
      ],
      "execution_count": 26,
      "outputs": [
        {
          "output_type": "execute_result",
          "data": {
            "text/plain": [
              "8475"
            ]
          },
          "metadata": {
            "tags": []
          },
          "execution_count": 26
        }
      ]
    },
    {
      "cell_type": "markdown",
      "metadata": {
        "id": "3Wt1l8iRNax1"
      },
      "source": [
        "We have `~8K` unique words in the train set. Next we are going to create word vectors.\n",
        "\n",
        "### Word vectors"
      ]
    },
    {
      "cell_type": "code",
      "metadata": {
        "id": "tBRz0Zy9NaUy"
      },
      "source": [
        "from tensorflow.keras.preprocessing.text import Tokenizer\n",
        "from tensorflow.keras.preprocessing.sequence import pad_sequences"
      ],
      "execution_count": 27,
      "outputs": []
    },
    {
      "cell_type": "code",
      "metadata": {
        "id": "VJQHeRXGH4wt"
      },
      "source": [
        "tokenizer = Tokenizer(num_words=vocab_size)\n",
        "tokenizer.fit_on_texts(train_valid_features)"
      ],
      "execution_count": 28,
      "outputs": []
    },
    {
      "cell_type": "code",
      "metadata": {
        "id": "IROMgVyOOLx2"
      },
      "source": [
        "word_indices = tokenizer.word_index\n",
        "word_indices_reversed = dict([\n",
        "    (v, k) for (k, v) in word_indices.items()\n",
        "])"
      ],
      "execution_count": 29,
      "outputs": []
    },
    {
      "cell_type": "markdown",
      "metadata": {
        "id": "HrWXjlGBOq3K"
      },
      "source": [
        "### Helper functions\n",
        "\n",
        "We will create some helper function that converts sequences to text and text to sequences. These function will be used for inference later on."
      ]
    },
    {
      "cell_type": "code",
      "metadata": {
        "id": "nnvyz4D8OLv3"
      },
      "source": [
        "def seq_to_text(sequences):\n",
        "  return \" \".join(word_indices_reversed[i] for i in sequences )\n",
        "\n",
        "def text_to_seq(sent):\n",
        "  words = word_tokenize(sent.lower())\n",
        "  sequences = []\n",
        "  for word in words:\n",
        "    try:\n",
        "      sequences.append(word_indices[word])\n",
        "    except:\n",
        "      sequences.append(0)\n",
        "  return sequences"
      ],
      "execution_count": 30,
      "outputs": []
    },
    {
      "cell_type": "markdown",
      "metadata": {
        "id": "sCSLlCFUP6yN"
      },
      "source": [
        "### Pretrained embeding weights\n",
        "\n",
        "Since this model is using RNN's we are going to use the `pretrained glove.6B` word embeddings. I've already uploaded these word embedding on my google colab so that we can load them as follows"
      ]
    },
    {
      "cell_type": "code",
      "metadata": {
        "id": "4HD8kSN8OLrI"
      },
      "source": [
        "embedding_path = \"/content/drive/MyDrive/NLP Data/glove.6B/glove.6B.100d.txt\"\n"
      ],
      "execution_count": 31,
      "outputs": []
    },
    {
      "cell_type": "code",
      "metadata": {
        "id": "KhdEwrHqOLoP"
      },
      "source": [
        "embedding_dict = dict()\n",
        "with open(embedding_path, encoding=\"utf8\") as glove:\n",
        "  for line in glove:\n",
        "    records = line.split();\n",
        "    word = records[0]\n",
        "    vectors = np.asarray(records[1: ], dtype=np.float32)\n",
        "    embedding_dict[word] = vectors"
      ],
      "execution_count": 32,
      "outputs": []
    },
    {
      "cell_type": "code",
      "metadata": {
        "colab": {
          "base_uri": "https://localhost:8080/"
        },
        "id": "l0AtapypRfPo",
        "outputId": "58e04a92-8701-44d0-ed2e-a5b05bb4722e"
      },
      "source": [
        "print(len(embedding_dict))\n",
        "embedding_dict[\"what\"].shape"
      ],
      "execution_count": 33,
      "outputs": [
        {
          "output_type": "stream",
          "text": [
            "400000\n"
          ],
          "name": "stdout"
        },
        {
          "output_type": "execute_result",
          "data": {
            "text/plain": [
              "(100,)"
            ]
          },
          "metadata": {
            "tags": []
          },
          "execution_count": 33
        }
      ]
    },
    {
      "cell_type": "markdown",
      "metadata": {
        "id": "OzCbRVfISdvV"
      },
      "source": [
        "### But wait? `40000` words? Where are they comming from?\n",
        "Okay don't panic we will create the embedding matrix that will suit our vocab_size next."
      ]
    },
    {
      "cell_type": "markdown",
      "metadata": {
        "id": "RcLVeXuIRRJk"
      },
      "source": [
        "### Embedding matrix\n",
        "We will then create an embedding matrix that will suit our data."
      ]
    },
    {
      "cell_type": "code",
      "metadata": {
        "id": "lFtPge6SOLlh"
      },
      "source": [
        "embedding_matrix = np.zeros((vocab_size, 100))\n",
        "\n",
        "for word, index in word_indices.items():\n",
        "  vector = embedding_dict.get(word)\n",
        "  if vector is not None:\n",
        "    try:\n",
        "      embedding_matrix[index] = vector\n",
        "    except IndexError or Exception:\n",
        "      pass"
      ],
      "execution_count": 34,
      "outputs": []
    },
    {
      "cell_type": "code",
      "metadata": {
        "id": "xKXJINrqH4ss",
        "colab": {
          "base_uri": "https://localhost:8080/"
        },
        "outputId": "42c1c49d-a588-47dd-93d4-fcca3dd5bf77"
      },
      "source": [
        "len(embedding_matrix)"
      ],
      "execution_count": 35,
      "outputs": [
        {
          "output_type": "execute_result",
          "data": {
            "text/plain": [
              "8475"
            ]
          },
          "metadata": {
            "tags": []
          },
          "execution_count": 35
        }
      ]
    },
    {
      "cell_type": "markdown",
      "metadata": {
        "id": "gNSFvhDsSU1g"
      },
      "source": [
        "Now the `embedding_matrix` suits our data which has `~8` words."
      ]
    },
    {
      "cell_type": "markdown",
      "metadata": {
        "id": "IqimwH32S958"
      },
      "source": [
        "### Creating Sequences"
      ]
    },
    {
      "cell_type": "code",
      "metadata": {
        "id": "D3lV_wdAH4pu"
      },
      "source": [
        "train_sequences = tokenizer.texts_to_sequences(train_valid_features)\n",
        "test_sequences = tokenizer.texts_to_sequences(test_features)"
      ],
      "execution_count": 36,
      "outputs": []
    },
    {
      "cell_type": "code",
      "metadata": {
        "colab": {
          "base_uri": "https://localhost:8080/"
        },
        "id": "6tLt3TE5TUBI",
        "outputId": "0d4da779-ad39-4cc5-9188-f20ba934daa0"
      },
      "source": [
        "test_features[0], test_sequences[0]"
      ],
      "execution_count": 37,
      "outputs": [
        {
          "output_type": "execute_result",
          "data": {
            "text/plain": [
              "('how many wings does a flea have ?', [7, 21, 1913, 17, 6, 41])"
            ]
          },
          "metadata": {
            "tags": []
          },
          "execution_count": 37
        }
      ]
    },
    {
      "cell_type": "markdown",
      "metadata": {
        "id": "2Yhc5-uHTgMx"
      },
      "source": [
        "### Testing our helper functions"
      ]
    },
    {
      "cell_type": "code",
      "metadata": {
        "colab": {
          "base_uri": "https://localhost:8080/",
          "height": 35
        },
        "id": "6rqtbAGmTT8o",
        "outputId": "075a5e09-4f2c-4cd1-d123-464b97354758"
      },
      "source": [
        "seq_to_text(test_sequences[0])"
      ],
      "execution_count": 38,
      "outputs": [
        {
          "output_type": "execute_result",
          "data": {
            "application/vnd.google.colaboratory.intrinsic+json": {
              "type": "string"
            },
            "text/plain": [
              "'how many wings does a have'"
            ]
          },
          "metadata": {
            "tags": []
          },
          "execution_count": 38
        }
      ]
    },
    {
      "cell_type": "code",
      "metadata": {
        "colab": {
          "base_uri": "https://localhost:8080/"
        },
        "id": "5p2BcCG7TkzY",
        "outputId": "6f08fa66-11b5-470b-92e2-1abfda6adeb5"
      },
      "source": [
        "text_to_seq(\"this is why the unknownnnn word ?\")"
      ],
      "execution_count": 39,
      "outputs": [
        {
          "output_type": "execute_result",
          "data": {
            "text/plain": [
              "[517, 3, 44, 1, 0, 69, 0]"
            ]
          },
          "metadata": {
            "tags": []
          },
          "execution_count": 39
        }
      ]
    },
    {
      "cell_type": "markdown",
      "metadata": {
        "id": "8ZR5TZsrTkHh"
      },
      "source": [
        "### Pad sequences\n",
        "\n",
        "Our final step is to pad our suquences to have the same length. We are going to do this on the train and validation sets only."
      ]
    },
    {
      "cell_type": "code",
      "metadata": {
        "id": "oBLPnTTQTT4g"
      },
      "source": [
        "max_words = 100\n",
        "\n",
        "train_tokens_padded = pad_sequences(\n",
        "    train_sequences, \n",
        "    maxlen=max_words, \n",
        "    padding=\"post\", \n",
        "    truncating=\"post\"\n",
        ")\n",
        "test_tokens_padded = pad_sequences(\n",
        "    test_sequences, \n",
        "    maxlen=max_words, \n",
        "    padding=\"post\", \n",
        "    truncating=\"post\"\n",
        ")"
      ],
      "execution_count": 40,
      "outputs": []
    },
    {
      "cell_type": "markdown",
      "metadata": {
        "id": "g72XFW_vUz-C"
      },
      "source": [
        "### Building the model.\n",
        "\n",
        "Model Achitecture.\n",
        "\n",
        "The model achitecture will be ploted"
      ]
    },
    {
      "cell_type": "code",
      "metadata": {
        "id": "UM0f0fL-TTz7",
        "colab": {
          "base_uri": "https://localhost:8080/"
        },
        "outputId": "c3e8da28-bd95-438a-be2e-0e970ca09716"
      },
      "source": [
        "input_layer = keras.layers.Input(shape=(100, ))\n",
        "\n",
        "embedding_layer = keras.layers.Embedding(\n",
        "                  vocab_size, 100, \n",
        "                  input_length=max_words,\n",
        "                  weights=[embedding_matrix], \n",
        "                  trainable=True,\n",
        "                  name = \"embedding_layer\"\n",
        "                )(input_layer)\n",
        "\n",
        "cov_1d_1 =  keras.layers.Conv1D(\n",
        "    64, 3, 1, activation=\"tanh\", name =\"conv_1d_1\"\n",
        ")(embedding_layer)\n",
        "\n",
        "cov_1d_2 =  keras.layers.Conv1D(\n",
        "    512, 3, 1, activation=\"tanh\", name =\"conv_1d_2\"\n",
        ")(cov_1d_1)\n",
        "\n",
        "dropout_layer_1 = keras.layers.Dropout(rate=.5, name=\"dropout_layer_1\")(cov_1d_2)\n",
        "cov_1d_3 =  keras.layers.Conv1D(\n",
        "    512, 3, 1, activation=\"tanh\", name =\"conv_1d_3\"\n",
        ")(dropout_layer_1)\n",
        "cov_1d_4 =  keras.layers.Conv1D(\n",
        "    128, 3, 1, activation=\"relu\", name =\"conv_1d_4\"\n",
        ")(cov_1d_3)\n",
        "pooling_layer =  keras.layers.GlobalAveragePooling1D(\n",
        "          name=\"average_pooling_layer\"\n",
        "        )(cov_1d_4)\n",
        "dropout_layer_2 = keras.layers.Dropout(rate=.5, name=\"dropout_layer_2\")(pooling_layer)\n",
        "\n",
        "# FC hidden layers\n",
        "dense_1 = keras.layers.Dense(64, activation='relu', name=\"dense_1\")(dropout_layer_2)\n",
        "dropout_layer_3 = keras.layers.Dropout(rate= .5, name=\"dropout_layer_3\")(dense_1)\n",
        "dense_2 = keras.layers.Dense(512, activation='relu', name=\"dense_2\")(dense_1)\n",
        "dropout_layer_4 = keras.layers.Dropout(rate= .5, name=\"dropout_layer_4\")(dense_2)\n",
        "dense_3 = keras.layers.Dense(128, activation='relu', name=\"dense_3\")(dropout_layer_4)\n",
        "dropout_3 = keras.layers.Dropout(rate= .5, name=\"dropout_layer_Y\")(dense_3)\n",
        "\n",
        "# Output_layer\n",
        "output_1 = keras.layers.Dense(6, activation='softmax', name=\"output_1\")(dropout_3)\n",
        "output_2 = keras.layers.Dense(47, activation=\"softmax\", name=\"output_2\")(dropout_3)\n",
        "\n",
        "question_category_model = keras.Model(inputs=input_layer, outputs=[output_1, output_2], name = \"question_category_model\") \n",
        "\n",
        "question_category_model.summary()"
      ],
      "execution_count": 46,
      "outputs": [
        {
          "output_type": "stream",
          "text": [
            "Model: \"question_category_model\"\n",
            "__________________________________________________________________________________________________\n",
            "Layer (type)                    Output Shape         Param #     Connected to                     \n",
            "==================================================================================================\n",
            "input_5 (InputLayer)            [(None, 100)]        0                                            \n",
            "__________________________________________________________________________________________________\n",
            "embedding_layer (Embedding)     (None, 100, 100)     847500      input_5[0][0]                    \n",
            "__________________________________________________________________________________________________\n",
            "conv_1d_1 (Conv1D)              (None, 98, 64)       19264       embedding_layer[0][0]            \n",
            "__________________________________________________________________________________________________\n",
            "conv_1d_2 (Conv1D)              (None, 96, 512)      98816       conv_1d_1[0][0]                  \n",
            "__________________________________________________________________________________________________\n",
            "dropout_layer_1 (Dropout)       (None, 96, 512)      0           conv_1d_2[0][0]                  \n",
            "__________________________________________________________________________________________________\n",
            "conv_1d_3 (Conv1D)              (None, 94, 512)      786944      dropout_layer_1[0][0]            \n",
            "__________________________________________________________________________________________________\n",
            "conv_1d_4 (Conv1D)              (None, 92, 128)      196736      conv_1d_3[0][0]                  \n",
            "__________________________________________________________________________________________________\n",
            "average_pooling_layer (GlobalAv (None, 128)          0           conv_1d_4[0][0]                  \n",
            "__________________________________________________________________________________________________\n",
            "dropout_layer_2 (Dropout)       (None, 128)          0           average_pooling_layer[0][0]      \n",
            "__________________________________________________________________________________________________\n",
            "dense_1 (Dense)                 (None, 64)           8256        dropout_layer_2[0][0]            \n",
            "__________________________________________________________________________________________________\n",
            "dense_2 (Dense)                 (None, 512)          33280       dense_1[0][0]                    \n",
            "__________________________________________________________________________________________________\n",
            "dropout_layer_4 (Dropout)       (None, 512)          0           dense_2[0][0]                    \n",
            "__________________________________________________________________________________________________\n",
            "dense_3 (Dense)                 (None, 128)          65664       dropout_layer_4[0][0]            \n",
            "__________________________________________________________________________________________________\n",
            "dropout_layer_Y (Dropout)       (None, 128)          0           dense_3[0][0]                    \n",
            "__________________________________________________________________________________________________\n",
            "output_1 (Dense)                (None, 6)            774         dropout_layer_Y[0][0]            \n",
            "__________________________________________________________________________________________________\n",
            "output_2 (Dense)                (None, 47)           6063        dropout_layer_Y[0][0]            \n",
            "==================================================================================================\n",
            "Total params: 2,063,297\n",
            "Trainable params: 2,063,297\n",
            "Non-trainable params: 0\n",
            "__________________________________________________________________________________________________\n"
          ],
          "name": "stdout"
        }
      ]
    },
    {
      "cell_type": "markdown",
      "metadata": {
        "id": "CNp7CT51vKGl"
      },
      "source": [
        "### Let's plot the model and see it's stucture"
      ]
    },
    {
      "cell_type": "code",
      "metadata": {
        "colab": {
          "base_uri": "https://localhost:8080/",
          "height": 1000
        },
        "id": "QjKsrXImvOt-",
        "outputId": "bb370394-7db1-40d2-dd53-9b53add695dd"
      },
      "source": [
        "keras.utils.plot_model(question_category_model, dpi=64, show_shapes=True)"
      ],
      "execution_count": 47,
      "outputs": [
        {
          "output_type": "execute_result",
          "data": {
            "image/png": "[encoded data removed]",
            "text/plain": [
              "<IPython.core.display.Image object>"
            ]
          },
          "metadata": {
            "tags": []
          },
          "execution_count": 47
        }
      ]
    },
    {
      "cell_type": "markdown",
      "metadata": {
        "id": "II8o2G6ka_YH"
      },
      "source": [
        "### Compiling the model\n",
        "\n",
        "We are going two have two loss functions for each output label."
      ]
    },
    {
      "cell_type": "code",
      "metadata": {
        "id": "k51Yua1vTTw4"
      },
      "source": [
        "early_stopping = keras.callbacks.EarlyStopping(\n",
        "    monitor='val_output_2_loss',\n",
        "    min_delta=0,\n",
        "    patience=5,\n",
        "    verbose=1,\n",
        "    mode='auto',\n",
        "    baseline=None,\n",
        "    restore_best_weights=False,\n",
        ")\n",
        "\n",
        "question_category_model.compile(\n",
        "    loss = {\n",
        "        \"output_1\" : keras.losses.CategoricalCrossentropy(from_logits=False),\n",
        "        \"output_2\" : keras.losses.CategoricalCrossentropy(from_logits=False)\n",
        "    },\n",
        "    optimizer = keras.optimizers.Adam(1e-3, 0.5),\n",
        "    metrics = [\"accuracy\"]\n",
        ")"
      ],
      "execution_count": 48,
      "outputs": []
    },
    {
      "cell_type": "markdown",
      "metadata": {
        "id": "nufxR3sjh0ZI"
      },
      "source": [
        "### How long should we train the model?\n",
        "We are going to train the model for more epochs, as soon as the model loss stop decreasing we will stop."
      ]
    },
    {
      "cell_type": "code",
      "metadata": {
        "id": "JEvAF2NFTTtt",
        "colab": {
          "base_uri": "https://localhost:8080/"
        },
        "outputId": "ba22768e-a4be-430d-e894-ac38a7a2a3e4"
      },
      "source": [
        "EPOCHS = 50\n",
        "\n",
        "history = question_category_model.fit(\n",
        "    train_tokens_padded,\n",
        "    y = [train_labels_0_one_hot, train_labels_1_one_hot],\n",
        "    validation_data = (\n",
        "        test_tokens_padded, [test_labels_0_one_hot, test_labels_1_one_hot],\n",
        "    ),\n",
        "    verbose = 1,\n",
        "    epochs = EPOCHS,\n",
        "    batch_size = 64,\n",
        "    shuffle = True,\n",
        "    validation_batch_size = 16,\n",
        "    callbacks = [early_stopping]\n",
        ")"
      ],
      "execution_count": 49,
      "outputs": [
        {
          "output_type": "stream",
          "text": [
            "Epoch 1/50\n",
            "72/72 [==============================] - 35s 70ms/step - loss: 5.0325 - output_1_loss: 1.7181 - output_2_loss: 3.3144 - output_1_accuracy: 0.2295 - output_2_accuracy: 0.1542 - val_loss: 4.5492 - val_output_1_loss: 1.5426 - val_output_2_loss: 3.0066 - val_output_1_accuracy: 0.3471 - val_output_2_accuracy: 0.2119\n",
            "Epoch 2/50\n",
            "72/72 [==============================] - 4s 59ms/step - loss: 4.4779 - output_1_loss: 1.5216 - output_2_loss: 2.9564 - output_1_accuracy: 0.3608 - output_2_accuracy: 0.2468 - val_loss: 4.2612 - val_output_1_loss: 1.3827 - val_output_2_loss: 2.8784 - val_output_1_accuracy: 0.4261 - val_output_2_accuracy: 0.2990\n",
            "Epoch 3/50\n",
            "72/72 [==============================] - 5s 63ms/step - loss: 4.2290 - output_1_loss: 1.4198 - output_2_loss: 2.8092 - output_1_accuracy: 0.4355 - output_2_accuracy: 0.2776 - val_loss: 3.9869 - val_output_1_loss: 1.3017 - val_output_2_loss: 2.6852 - val_output_1_accuracy: 0.4696 - val_output_2_accuracy: 0.2921\n",
            "Epoch 4/50\n",
            "72/72 [==============================] - 4s 59ms/step - loss: 3.8900 - output_1_loss: 1.2498 - output_2_loss: 2.6403 - output_1_accuracy: 0.5141 - output_2_accuracy: 0.3138 - val_loss: 3.7325 - val_output_1_loss: 1.1556 - val_output_2_loss: 2.5769 - val_output_1_accuracy: 0.5601 - val_output_2_accuracy: 0.3448\n",
            "Epoch 5/50\n",
            "72/72 [==============================] - 4s 57ms/step - loss: 3.5400 - output_1_loss: 1.0710 - output_2_loss: 2.4690 - output_1_accuracy: 0.6082 - output_2_accuracy: 0.3365 - val_loss: 3.5309 - val_output_1_loss: 1.0437 - val_output_2_loss: 2.4872 - val_output_1_accuracy: 0.5876 - val_output_2_accuracy: 0.3333\n",
            "Epoch 6/50\n",
            "72/72 [==============================] - 4s 56ms/step - loss: 3.1515 - output_1_loss: 0.8816 - output_2_loss: 2.2699 - output_1_accuracy: 0.6842 - output_2_accuracy: 0.3743 - val_loss: 3.2562 - val_output_1_loss: 0.9113 - val_output_2_loss: 2.3449 - val_output_1_accuracy: 0.6758 - val_output_2_accuracy: 0.3883\n",
            "Epoch 7/50\n",
            "72/72 [==============================] - 4s 55ms/step - loss: 2.8115 - output_1_loss: 0.7152 - output_2_loss: 2.0963 - output_1_accuracy: 0.7580 - output_2_accuracy: 0.4099 - val_loss: 2.8485 - val_output_1_loss: 0.7390 - val_output_2_loss: 2.1095 - val_output_1_accuracy: 0.7411 - val_output_2_accuracy: 0.4376\n",
            "Epoch 8/50\n",
            "72/72 [==============================] - 4s 60ms/step - loss: 2.4763 - output_1_loss: 0.5483 - output_2_loss: 1.9280 - output_1_accuracy: 0.8246 - output_2_accuracy: 0.4470 - val_loss: 3.5962 - val_output_1_loss: 1.1587 - val_output_2_loss: 2.4376 - val_output_1_accuracy: 0.6506 - val_output_2_accuracy: 0.3986\n",
            "Epoch 9/50\n",
            "72/72 [==============================] - 4s 61ms/step - loss: 2.2664 - output_1_loss: 0.4504 - output_2_loss: 1.8159 - output_1_accuracy: 0.8607 - output_2_accuracy: 0.4717 - val_loss: 2.5800 - val_output_1_loss: 0.6281 - val_output_2_loss: 1.9519 - val_output_1_accuracy: 0.7801 - val_output_2_accuracy: 0.4662\n",
            "Epoch 10/50\n",
            "72/72 [==============================] - 4s 57ms/step - loss: 2.0846 - output_1_loss: 0.3880 - output_2_loss: 1.6967 - output_1_accuracy: 0.8821 - output_2_accuracy: 0.4929 - val_loss: 2.6044 - val_output_1_loss: 0.6702 - val_output_2_loss: 1.9342 - val_output_1_accuracy: 0.7789 - val_output_2_accuracy: 0.4696\n",
            "Epoch 11/50\n",
            "72/72 [==============================] - 4s 57ms/step - loss: 1.9787 - output_1_loss: 0.3545 - output_2_loss: 1.6241 - output_1_accuracy: 0.8915 - output_2_accuracy: 0.5049 - val_loss: 2.5530 - val_output_1_loss: 0.6515 - val_output_2_loss: 1.9015 - val_output_1_accuracy: 0.8041 - val_output_2_accuracy: 0.4800\n",
            "Epoch 12/50\n",
            "72/72 [==============================] - 4s 56ms/step - loss: 1.8078 - output_1_loss: 0.2877 - output_2_loss: 1.5201 - output_1_accuracy: 0.9140 - output_2_accuracy: 0.5340 - val_loss: 2.5773 - val_output_1_loss: 0.6781 - val_output_2_loss: 1.8992 - val_output_1_accuracy: 0.7881 - val_output_2_accuracy: 0.4800\n",
            "Epoch 13/50\n",
            "72/72 [==============================] - 4s 60ms/step - loss: 1.7171 - output_1_loss: 0.2647 - output_2_loss: 1.4524 - output_1_accuracy: 0.9164 - output_2_accuracy: 0.5536 - val_loss: 2.8878 - val_output_1_loss: 0.8230 - val_output_2_loss: 2.0649 - val_output_1_accuracy: 0.7766 - val_output_2_accuracy: 0.4845\n",
            "Epoch 14/50\n",
            "72/72 [==============================] - 4s 55ms/step - loss: 1.6019 - output_1_loss: 0.2251 - output_2_loss: 1.3769 - output_1_accuracy: 0.9262 - output_2_accuracy: 0.5669 - val_loss: 2.5420 - val_output_1_loss: 0.6925 - val_output_2_loss: 1.8496 - val_output_1_accuracy: 0.8018 - val_output_2_accuracy: 0.5006\n",
            "Epoch 15/50\n",
            "72/72 [==============================] - 4s 57ms/step - loss: 1.4924 - output_1_loss: 0.1871 - output_2_loss: 1.3053 - output_1_accuracy: 0.9413 - output_2_accuracy: 0.5864 - val_loss: 2.7693 - val_output_1_loss: 0.7984 - val_output_2_loss: 1.9709 - val_output_1_accuracy: 0.7847 - val_output_2_accuracy: 0.5017\n",
            "Epoch 16/50\n",
            "72/72 [==============================] - 4s 57ms/step - loss: 1.4151 - output_1_loss: 0.1853 - output_2_loss: 1.2297 - output_1_accuracy: 0.9456 - output_2_accuracy: 0.6025 - val_loss: 2.4986 - val_output_1_loss: 0.6844 - val_output_2_loss: 1.8142 - val_output_1_accuracy: 0.8099 - val_output_2_accuracy: 0.5120\n",
            "Epoch 17/50\n",
            "72/72 [==============================] - 4s 60ms/step - loss: 1.3361 - output_1_loss: 0.1641 - output_2_loss: 1.1720 - output_1_accuracy: 0.9456 - output_2_accuracy: 0.6252 - val_loss: 8.3682 - val_output_1_loss: 3.5467 - val_output_2_loss: 4.8214 - val_output_1_accuracy: 0.6117 - val_output_2_accuracy: 0.4215\n",
            "Epoch 18/50\n",
            "72/72 [==============================] - 4s 56ms/step - loss: 2.2495 - output_1_loss: 0.5440 - output_2_loss: 1.7055 - output_1_accuracy: 0.8491 - output_2_accuracy: 0.5259 - val_loss: 2.5275 - val_output_1_loss: 0.6769 - val_output_2_loss: 1.8505 - val_output_1_accuracy: 0.8018 - val_output_2_accuracy: 0.5029\n",
            "Epoch 19/50\n",
            "72/72 [==============================] - 4s 57ms/step - loss: 1.3341 - output_1_loss: 0.1600 - output_2_loss: 1.1741 - output_1_accuracy: 0.9515 - output_2_accuracy: 0.6283 - val_loss: 2.7910 - val_output_1_loss: 0.8316 - val_output_2_loss: 1.9594 - val_output_1_accuracy: 0.7995 - val_output_2_accuracy: 0.5223\n",
            "Epoch 20/50\n",
            "72/72 [==============================] - 4s 62ms/step - loss: 1.3087 - output_1_loss: 0.1648 - output_2_loss: 1.1440 - output_1_accuracy: 0.9520 - output_2_accuracy: 0.6355 - val_loss: 2.4999 - val_output_1_loss: 0.6966 - val_output_2_loss: 1.8033 - val_output_1_accuracy: 0.8167 - val_output_2_accuracy: 0.5315\n",
            "Epoch 21/50\n",
            "72/72 [==============================] - 4s 58ms/step - loss: 1.1482 - output_1_loss: 0.1102 - output_2_loss: 1.0381 - output_1_accuracy: 0.9668 - output_2_accuracy: 0.6525 - val_loss: 2.8012 - val_output_1_loss: 0.8455 - val_output_2_loss: 1.9557 - val_output_1_accuracy: 0.8076 - val_output_2_accuracy: 0.5246\n",
            "Epoch 22/50\n",
            "72/72 [==============================] - 4s 59ms/step - loss: 1.0745 - output_1_loss: 0.1046 - output_2_loss: 0.9699 - output_1_accuracy: 0.9657 - output_2_accuracy: 0.6711 - val_loss: 2.8287 - val_output_1_loss: 0.8773 - val_output_2_loss: 1.9515 - val_output_1_accuracy: 0.7938 - val_output_2_accuracy: 0.5189\n",
            "Epoch 23/50\n",
            "72/72 [==============================] - 4s 57ms/step - loss: 1.0349 - output_1_loss: 0.1047 - output_2_loss: 0.9302 - output_1_accuracy: 0.9675 - output_2_accuracy: 0.6912 - val_loss: 3.0853 - val_output_1_loss: 0.9718 - val_output_2_loss: 2.1135 - val_output_1_accuracy: 0.8087 - val_output_2_accuracy: 0.5498\n",
            "Epoch 24/50\n",
            "72/72 [==============================] - 4s 57ms/step - loss: 0.9934 - output_1_loss: 0.0902 - output_2_loss: 0.9032 - output_1_accuracy: 0.9734 - output_2_accuracy: 0.7023 - val_loss: 2.8863 - val_output_1_loss: 0.9165 - val_output_2_loss: 1.9698 - val_output_1_accuracy: 0.8041 - val_output_2_accuracy: 0.5533\n",
            "Epoch 25/50\n",
            "72/72 [==============================] - 4s 57ms/step - loss: 0.9526 - output_1_loss: 0.0876 - output_2_loss: 0.8651 - output_1_accuracy: 0.9714 - output_2_accuracy: 0.7161 - val_loss: 3.0299 - val_output_1_loss: 0.9518 - val_output_2_loss: 2.0782 - val_output_1_accuracy: 0.7950 - val_output_2_accuracy: 0.5510\n",
            "Epoch 00025: early stopping\n"
          ],
          "name": "stdout"
        }
      ]
    },
    {
      "cell_type": "markdown",
      "metadata": {
        "id": "vmfKL8BZzqu_"
      },
      "source": [
        "### Plotting the model's training history."
      ]
    },
    {
      "cell_type": "code",
      "metadata": {
        "id": "bA17qT-wzw9H"
      },
      "source": [
        "import matplotlib.pyplot as plt"
      ],
      "execution_count": 50,
      "outputs": []
    },
    {
      "cell_type": "code",
      "metadata": {
        "colab": {
          "base_uri": "https://localhost:8080/",
          "height": 281
        },
        "id": "xcTafwrsz5QY",
        "outputId": "9ca7eccb-6e3d-49ca-f933-a76f53243326"
      },
      "source": [
        "df = pd.DataFrame(history.history)\n",
        "df.plot(title=\"Model training history\")\n",
        "plt.show()"
      ],
      "execution_count": 51,
      "outputs": [
        {
          "output_type": "display_data",
          "data": {
            "image/png": "[encoded data removed]",
            "text/plain": [
              "<Figure size 432x288 with 1 Axes>"
            ]
          },
          "metadata": {
            "tags": [],
            "needs_background": "light"
          }
        }
      ]
    },
    {
      "cell_type": "markdown",
      "metadata": {
        "id": "gROvNEuzdRU6"
      },
      "source": [
        "### Converting test data to numeric and then pad it."
      ]
    },
    {
      "cell_type": "code",
      "metadata": {
        "colab": {
          "base_uri": "https://localhost:8080/"
        },
        "id": "sJVm515sdYW0",
        "outputId": "6993ac54-d20a-4410-eead-88c2dc5f13af"
      },
      "source": [
        "def text_to_padded_sequences(sent):\n",
        "  tokens = text_to_seq(sent)\n",
        "  padded_tokens = pad_sequences([tokens], maxlen=max_words, padding=\"post\", truncating=\"post\")\n",
        "  return tf.squeeze(padded_tokens)\n",
        "\n",
        "question_category_model.evaluate(\n",
        "    test_tokens_padded, [test_labels_0_one_hot, test_labels_1_one_hot],\n",
        "    verbose = 1,\n",
        "    batch_size = 32\n",
        ")"
      ],
      "execution_count": 52,
      "outputs": [
        {
          "output_type": "stream",
          "text": [
            "28/28 [==============================] - 0s 13ms/step - loss: 3.0299 - output_1_loss: 0.9518 - output_2_loss: 2.0782 - output_1_accuracy: 0.7950 - output_2_accuracy: 0.5510\n"
          ],
          "name": "stdout"
        },
        {
          "output_type": "execute_result",
          "data": {
            "text/plain": [
              "[3.029937505722046,\n",
              " 0.9517647624015808,\n",
              " 2.0781729221343994,\n",
              " 0.7949599027633667,\n",
              " 0.550973653793335]"
            ]
          },
          "metadata": {
            "tags": []
          },
          "execution_count": 52
        }
      ]
    },
    {
      "cell_type": "markdown",
      "metadata": {
        "id": "RjPIx00ngxrr"
      },
      "source": [
        "As we can see that we are able to get an accuracy of `~80%` on the first category and `~55%` accuracy on the second category of the test data. Which can be improved by having a lot of train examples as well as balancing the data in the train set.\n",
        "\n",
        "And as we also know that `CNN` are bad for sequence data. This is proved because this model gives us `~10%` lower accuracy that the `RNN` model."
      ]
    },
    {
      "cell_type": "markdown",
      "metadata": {
        "id": "kNWSIUk1eDU8"
      },
      "source": [
        "### Model inference (making predictions)"
      ]
    },
    {
      "cell_type": "code",
      "metadata": {
        "id": "ToEw318Pdd6k"
      },
      "source": [
        "from prettytable import PrettyTable"
      ],
      "execution_count": 57,
      "outputs": []
    },
    {
      "cell_type": "code",
      "metadata": {
        "id": "hiOn7Dlkdd3K"
      },
      "source": [
        "def tabulate(column_names, data, max_characters:int, question:str):\n",
        "  table = PrettyTable(column_names)\n",
        "  table.align[column_names[0]] = \"l\"\n",
        "  table.align[column_names[1]] = \"l\"\n",
        "  table.align[column_names[2]] = \"l\"\n",
        "  table.title = question\n",
        "  table._max_width = {column_names[0] :max_characters, column_names[1] :max_characters, column_names[2] :max_characters}\n",
        "  for row in data:\n",
        "    table.add_row(row)\n",
        "  print(table)"
      ],
      "execution_count": 58,
      "outputs": []
    },
    {
      "cell_type": "code",
      "metadata": {
        "id": "Z8SxstX6ekHD"
      },
      "source": [
        "def predict(model, sent, real_label_1, real_label_2):\n",
        "  classes_1 = class_names_label_0\n",
        "  classes_2 = class_names_label_1\n",
        "  tokens = text_to_seq(sent)\n",
        "  padded_tokens = pad_sequences([tokens], maxlen=max_words, \n",
        "                                padding=\"post\", truncating=\"post\")\n",
        "  \n",
        "  probabilities_1, probabilities_2 = model.predict(padded_tokens)\n",
        "\n",
        "  prediction_1 = tf.argmax(probabilities_1, axis=1).numpy()[0]\n",
        "  class_name_1 = classes_1[prediction_1]\n",
        "  prediction_2 = tf.argmax(probabilities_2, axis=1).numpy()[0]\n",
        "  class_name_2 = classes_2[prediction_2]\n",
        "\n",
        "  table_headers =[\"KEY\", \"CATEGORY 1\", \"CATEGORY 2\"]\n",
        "  table_data = [\n",
        "        [\"PREDICTED CLASS\",  prediction_1,  prediction_2],\n",
        "        [\"PREDICTED CLASS NAME\",  class_name_1, class_name_2],\n",
        "        [\"REAL CLASS\",  real_label_1, real_label_2],\n",
        "        [\"REAL CLASS NAME\",  classes_1[real_label_1], classes_2[real_label_2]],\n",
        "        [\"CONFIDENCE OVER OTHER CLASSES\", f'{probabilities_1[0][prediction_1] * 100:.2f}%', f'{probabilities_2[0][prediction_2] * 100:.2f}%'],\n",
        "             \n",
        "    ]\n",
        "  tabulate(table_headers, table_data, 50, sent)"
      ],
      "execution_count": 59,
      "outputs": []
    },
    {
      "cell_type": "markdown",
      "metadata": {
        "id": "oGMjEW_lejc1"
      },
      "source": [
        "### Making predictions on the test data."
      ]
    },
    {
      "cell_type": "code",
      "metadata": {
        "colab": {
          "base_uri": "https://localhost:8080/"
        },
        "id": "zDBvpsJjjFKv",
        "outputId": "4d861fff-7789-4390-c00f-8a4c60f94057"
      },
      "source": [
        "for label_1, label_2, sent in zip(test_labels_0[:10], test_labels_1, test_features):\n",
        "  predict(question_category_model, sent, real_label_1=label_1, real_label_2= label_2)"
      ],
      "execution_count": 60,
      "outputs": [
        {
          "output_type": "stream",
          "text": [
            "+---------------------------------------------------------+\n",
            "|            how many wings does a flea have ?            |\n",
            "+-------------------------------+------------+------------+\n",
            "| KEY                           | CATEGORY 1 | CATEGORY 2 |\n",
            "+-------------------------------+------------+------------+\n",
            "| PREDICTED CLASS               | 5          | 6          |\n",
            "| PREDICTED CLASS NAME          | NUMERIC    | count      |\n",
            "| REAL CLASS                    | 5          | 6          |\n",
            "| REAL CLASS NAME               | NUMERIC    | count      |\n",
            "| CONFIDENCE OVER OTHER CLASSES | 100.00%    | 99.25%     |\n",
            "+-------------------------------+------------+------------+\n",
            "+---------------------------------------------------------+\n",
            "|                who is samuel pickering ?                |\n",
            "+-------------------------------+------------+------------+\n",
            "| KEY                           | CATEGORY 1 | CATEGORY 2 |\n",
            "+-------------------------------+------------+------------+\n",
            "| PREDICTED CLASS               | 3          | 12         |\n",
            "| PREDICTED CLASS NAME          | HUMAN      | desc       |\n",
            "| REAL CLASS                    | 3          | 12         |\n",
            "| REAL CLASS NAME               | HUMAN      | desc       |\n",
            "| CONFIDENCE OVER OTHER CLASSES | 99.56%     | 51.19%     |\n",
            "+-------------------------------+------------+------------+\n",
            "+---------------------------------------------------------+\n",
            "|             how many watts make a kilowatt ?            |\n",
            "+-------------------------------+------------+------------+\n",
            "| KEY                           | CATEGORY 1 | CATEGORY 2 |\n",
            "+-------------------------------+------------+------------+\n",
            "| PREDICTED CLASS               | 5          | 6          |\n",
            "| PREDICTED CLASS NAME          | NUMERIC    | count      |\n",
            "| REAL CLASS                    | 5          | 6          |\n",
            "| REAL CLASS NAME               | NUMERIC    | count      |\n",
            "| CONFIDENCE OVER OTHER CLASSES | 100.00%    | 96.49%     |\n",
            "+-------------------------------+------------+------------+\n",
            "+--------------------------------------------------------------------------------+\n",
            "| independent silversmith 's account for what percentage of silver production ?  |\n",
            "+--------------------------------------------+-----------------+-----------------+\n",
            "| KEY                                        | CATEGORY 1      | CATEGORY 2      |\n",
            "+--------------------------------------------+-----------------+-----------------+\n",
            "| PREDICTED CLASS                            | 5               | 29              |\n",
            "| PREDICTED CLASS NAME                       | NUMERIC         | period          |\n",
            "| REAL CLASS                                 | 5               | 28              |\n",
            "| REAL CLASS NAME                            | NUMERIC         | perc            |\n",
            "| CONFIDENCE OVER OTHER CLASSES              | 97.68%          | 19.95%          |\n",
            "+--------------------------------------------+-----------------+-----------------+\n",
            "+------------------------------------------------------------------------------------------+\n",
            "| in the movie groundshog day what is the name of the character played by andie macdowell ? |\n",
            "+--------------------------------------------------+-------------------+-------------------+\n",
            "| KEY                                              | CATEGORY 1        | CATEGORY 2        |\n",
            "+--------------------------------------------------+-------------------+-------------------+\n",
            "| PREDICTED CLASS                                  | 5                 | 29                |\n",
            "| PREDICTED CLASS NAME                             | NUMERIC           | period            |\n",
            "| REAL CLASS                                       | 3                 | 19                |\n",
            "| REAL CLASS NAME                                  | HUMAN             | ind               |\n",
            "| CONFIDENCE OVER OTHER CLASSES                    | 97.71%            | 26.09%            |\n",
            "+--------------------------------------------------+-------------------+-------------------+\n",
            "+---------------------------------------------------------+\n",
            "|            when did they canonize the bible ?           |\n",
            "+-------------------------------+------------+------------+\n",
            "| KEY                           | CATEGORY 1 | CATEGORY 2 |\n",
            "+-------------------------------+------------+------------+\n",
            "| PREDICTED CLASS               | 5          | 10         |\n",
            "| PREDICTED CLASS NAME          | NUMERIC    | date       |\n",
            "| REAL CLASS                    | 5          | 10         |\n",
            "| REAL CLASS NAME               | NUMERIC    | date       |\n",
            "| CONFIDENCE OVER OTHER CLASSES | 99.65%     | 97.12%     |\n",
            "+-------------------------------+------------+------------+\n",
            "+-----------------------------------------------------------+\n",
            "|               what is the root of all evil ?              |\n",
            "+-------------------------------+--------------+------------+\n",
            "| KEY                           | CATEGORY 1   | CATEGORY 2 |\n",
            "+-------------------------------+--------------+------------+\n",
            "| PREDICTED CLASS               | 0            | 16         |\n",
            "| PREDICTED CLASS NAME          | ABBREVIATION | exp        |\n",
            "| REAL CLASS                    | 1            | 12         |\n",
            "| REAL CLASS NAME               | DESCRIPTION  | desc       |\n",
            "| CONFIDENCE OVER OTHER CLASSES | 62.73%       | 57.48%     |\n",
            "+-------------------------------+--------------+------------+\n",
            "+---------------------------------------------------------+\n",
            "|        what are the largest libraries in the us ?       |\n",
            "+-------------------------------+------------+------------+\n",
            "| KEY                           | CATEGORY 1 | CATEGORY 2 |\n",
            "+-------------------------------+------------+------------+\n",
            "| PREDICTED CLASS               | 2          | 27         |\n",
            "| PREDICTED CLASS NAME          | ENTITY     | other      |\n",
            "| REAL CLASS                    | 4          | 27         |\n",
            "| REAL CLASS NAME               | LOCATION   | other      |\n",
            "| CONFIDENCE OVER OTHER CLASSES | 51.32%     | 74.29%     |\n",
            "+-------------------------------+------------+------------+\n",
            "+---------------------------------------------------------+\n",
            "|           who is john macarthur , 1767-1834 ?           |\n",
            "+-------------------------------+------------+------------+\n",
            "| KEY                           | CATEGORY 1 | CATEGORY 2 |\n",
            "+-------------------------------+------------+------------+\n",
            "| PREDICTED CLASS               | 3          | 12         |\n",
            "| PREDICTED CLASS NAME          | HUMAN      | desc       |\n",
            "| REAL CLASS                    | 3          | 12         |\n",
            "| REAL CLASS NAME               | HUMAN      | desc       |\n",
            "| CONFIDENCE OVER OTHER CLASSES | 99.57%     | 36.88%     |\n",
            "+-------------------------------+------------+------------+\n",
            "+---------------------------------------------------------+\n",
            "|      where can i find full written draft of ctbt ?      |\n",
            "+-------------------------------+------------+------------+\n",
            "| KEY                           | CATEGORY 1 | CATEGORY 2 |\n",
            "+-------------------------------+------------+------------+\n",
            "| PREDICTED CLASS               | 4          | 27         |\n",
            "| PREDICTED CLASS NAME          | LOCATION   | other      |\n",
            "| REAL CLASS                    | 4          | 27         |\n",
            "| REAL CLASS NAME               | LOCATION   | other      |\n",
            "| CONFIDENCE OVER OTHER CLASSES | 99.99%     | 99.89%     |\n",
            "+-------------------------------+------------+------------+\n"
          ],
          "name": "stdout"
        }
      ]
    },
    {
      "cell_type": "markdown",
      "metadata": {
        "id": "PeLYMB9Z7m19"
      },
      "source": [
        "### Confusion matrix."
      ]
    },
    {
      "cell_type": "markdown",
      "metadata": {
        "id": "095Bht5ulFXv"
      },
      "source": [
        "That's the end of this series for this week."
      ]
    },
    {
      "cell_type": "code",
      "metadata": {
        "id": "1A23i6hYDI42"
      },
      "source": [
        ""
      ],
      "execution_count": null,
      "outputs": []
    }
  ]
}