{
  "nbformat": 4,
  "nbformat_minor": 0,
  "metadata": {
    "colab": {
      "name": "03_Questions_Classifications_RNN_2_Labels.ipynb",
      "provenance": [],
      "collapsed_sections": []
    },
    "kernelspec": {
      "name": "python3",
      "display_name": "Python 3"
    },
    "language_info": {
      "name": "python"
    },
    "accelerator": "GPU"
  },
  "cells": [
    {
      "cell_type": "markdown",
      "metadata": {
        "id": "GQdMCuw_7n9c"
      },
      "source": [
        "### Questions Type Categories 2 Labels\n",
        "\n",
        "Based on on the first notebook of this series we are gooing to create a RNN model that classifies questions with two categories. Which means we are going two have two ouput for each question, which we will visualize.\n",
        "\n",
        "\n",
        "We are going to change from Sequential to Functional API, the most of the code cells remains unchanged same, where there's change i will highlight."
      ]
    },
    {
      "cell_type": "markdown",
      "metadata": {
        "id": "kWfE6YK-8vJ0"
      },
      "source": [
        "### Imports"
      ]
    },
    {
      "cell_type": "code",
      "metadata": {
        "colab": {
          "base_uri": "https://localhost:8080/",
          "height": 35
        },
        "id": "Tba-zWww7lCj",
        "outputId": "ae9efd17-5316-4c4e-a811-83d2675270d1"
      },
      "source": [
        "import os\n",
        "import numpy as np\n",
        "import tensorflow as tf\n",
        "from tensorflow import keras\n",
        "import csv, json, time\n",
        "import pandas as pd\n",
        "\n",
        "from sklearn.model_selection import train_test_split\n",
        "from sklearn.preprocessing import LabelEncoder\n",
        "\n",
        "tf.__version__"
      ],
      "execution_count": 1,
      "outputs": [
        {
          "output_type": "execute_result",
          "data": {
            "application/vnd.google.colaboratory.intrinsic+json": {
              "type": "string"
            },
            "text/plain": [
              "'2.5.0'"
            ]
          },
          "metadata": {
            "tags": []
          },
          "execution_count": 1
        }
      ]
    },
    {
      "cell_type": "markdown",
      "metadata": {
        "id": "04w51ddo9eZ6"
      },
      "source": [
        "### GPU"
      ]
    },
    {
      "cell_type": "code",
      "metadata": {
        "colab": {
          "base_uri": "https://localhost:8080/"
        },
        "id": "En6QPjhE9idy",
        "outputId": "8c851d2d-36ce-41dc-b120-294e4bd60114"
      },
      "source": [
        "devices = tf.config.list_physical_devices(\"GPU\")\n",
        "try:\n",
        "  tf.config.experimental.set_visible_devices(devices[0], \"GPU\")\n",
        "  print(\"GPU set\")\n",
        "except RuntimeError as e:\n",
        "  print(e)"
      ],
      "execution_count": 2,
      "outputs": [
        {
          "output_type": "stream",
          "text": [
            "GPU set\n"
          ],
          "name": "stdout"
        }
      ]
    },
    {
      "cell_type": "markdown",
      "metadata": {
        "id": "nJKnDsrA-DIa"
      },
      "source": [
        "### SEED"
      ]
    },
    {
      "cell_type": "code",
      "metadata": {
        "id": "qFNUg7KM7otT"
      },
      "source": [
        "SEED = 42\n",
        "tf.random.set_seed(\n",
        "    SEED\n",
        ")\n",
        "np.random.seed(SEED)"
      ],
      "execution_count": 3,
      "outputs": []
    },
    {
      "cell_type": "markdown",
      "metadata": {
        "id": "d1yJUQ93-mP5"
      },
      "source": [
        "### Mounting the google drive"
      ]
    },
    {
      "cell_type": "code",
      "metadata": {
        "id": "KB2TgepR7oqk",
        "colab": {
          "base_uri": "https://localhost:8080/"
        },
        "outputId": "c66fea56-811f-4488-ff52-2cd86f8977e8"
      },
      "source": [
        "from google.colab import drive\n",
        "drive.mount('/content/drive')"
      ],
      "execution_count": 4,
      "outputs": [
        {
          "output_type": "stream",
          "text": [
            "Drive already mounted at /content/drive; to attempt to forcibly remount, call drive.mount(\"/content/drive\", force_remount=True).\n"
          ],
          "name": "stdout"
        }
      ]
    },
    {
      "cell_type": "markdown",
      "metadata": {
        "id": "NhLek2KV--EB"
      },
      "source": [
        "### Data\n",
        "\n",
        "Again we are not going to create files as we did in the last notebook, because all the data splits were done in the first notebook that's the reason we saved the csv files which have the following file names:\n",
        "\n",
        "```\n",
        "train.csv\n",
        "test.csv\n",
        "val.csv\n",
        "```"
      ]
    },
    {
      "cell_type": "code",
      "metadata": {
        "id": "Q2ev0OALkvi8"
      },
      "source": [
        "data_path = \"/content/drive/MyDrive/NLP Data/questions-classification\""
      ],
      "execution_count": 5,
      "outputs": []
    },
    {
      "cell_type": "markdown",
      "metadata": {
        "id": "BkMpy0smDE74"
      },
      "source": [
        "### Loading the files"
      ]
    },
    {
      "cell_type": "code",
      "metadata": {
        "id": "2v4w8zURk5Td"
      },
      "source": [
        "train_path = \"train.csv\"\n",
        "val_path = \"val.csv\"\n",
        "test_path = \"test.csv\""
      ],
      "execution_count": 6,
      "outputs": []
    },
    {
      "cell_type": "code",
      "metadata": {
        "id": "zJW7hRlFBRW_"
      },
      "source": [
        "train_dataframe = pd.read_csv(\n",
        "    os.path.join(data_path, train_path)\n",
        ")\n",
        "val_dataframe = pd.read_csv(\n",
        "    os.path.join(data_path, val_path)\n",
        ")\n",
        "test_dataframe = pd.read_csv(\n",
        "    os.path.join(data_path, test_path)\n",
        ")"
      ],
      "execution_count": 7,
      "outputs": []
    },
    {
      "cell_type": "markdown",
      "metadata": {
        "id": "C_JNRgZ7lIxL"
      },
      "source": [
        "As i said in this notebook we are going to predict two categories. So this means we are intrested in 3 columns for each set which are:\n",
        "\n",
        "```\n",
        "1. Questions  (feature)\n",
        "2. Category0  (label_1)  (6 classes)                                                \n",
        "3. Category2 (label_2) (47 classes)\n",
        "```"
      ]
    },
    {
      "cell_type": "code",
      "metadata": {
        "colab": {
          "base_uri": "https://localhost:8080/"
        },
        "id": "c4X5ln30lEP1",
        "outputId": "5f1364e3-a53f-47b1-b7ac-f7500b0b4125"
      },
      "source": [
        "train_dataframe.Category2.unique()"
      ],
      "execution_count": 8,
      "outputs": [
        {
          "output_type": "execute_result",
          "data": {
            "text/plain": [
              "array(['dismed', 'count', 'ind', 'food', 'date', 'other', 'money', 'dist',\n",
              "       'period', 'gr', 'perc', 'sport', 'country', 'city', 'desc', 'exp',\n",
              "       'word', 'abb', 'cremat', 'animal', 'body', 'reason', 'def',\n",
              "       'manner', 'letter', 'termeq', 'substance', 'state', 'color',\n",
              "       'event', 'product', 'symbol', 'volsize', 'mount', 'weight', 'veh',\n",
              "       'techmeth', 'plant', 'title', 'code', 'ord', 'speed', 'lang',\n",
              "       'temp', 'instru', 'currency', 'religion'], dtype=object)"
            ]
          },
          "metadata": {
            "tags": []
          },
          "execution_count": 8
        }
      ]
    },
    {
      "cell_type": "markdown",
      "metadata": {
        "id": "bHW6hdTtEoIs"
      },
      "source": [
        "### Question Classes"
      ]
    },
    {
      "cell_type": "code",
      "metadata": {
        "colab": {
          "base_uri": "https://localhost:8080/"
        },
        "id": "N70ykjDWErrI",
        "outputId": "617cff8d-376c-4869-9f2d-e5f256595b82"
      },
      "source": [
        "train_dataframe.Category0.unique()"
      ],
      "execution_count": 9,
      "outputs": [
        {
          "output_type": "execute_result",
          "data": {
            "text/plain": [
              "array(['ENTITY', 'NUMERIC', 'HUMAN', 'LOCATION', 'DESCRIPTION',\n",
              "       'ABBREVIATION'], dtype=object)"
            ]
          },
          "metadata": {
            "tags": []
          },
          "execution_count": 9
        }
      ]
    },
    {
      "cell_type": "markdown",
      "metadata": {
        "id": "kK-ZY6iTE0gf"
      },
      "source": [
        "We `6` different categories for these questions which are:\n",
        "```\n",
        "categories_0 = ['ENTITY', 'DESCRIPTION', 'NUMERIC', 'HUMAN', 'LOCATION',\n",
        "       'ABBREVIATION']\n",
        "```\n",
        "We also have `47` classes of these questions which are:\n",
        "```\n",
        "categories_1 = ['dismed', 'count', 'ind', 'food', 'date', 'other', 'money', 'dist',\n",
        "       'period', 'gr', 'perc', 'sport', 'country', 'city', 'desc', 'exp',\n",
        "       'word', 'abb', 'cremat', 'animal', 'body', 'reason', 'def',\n",
        "       'manner', 'letter', 'termeq', 'substance', 'state', 'color',\n",
        "       'event', 'product', 'symbol', 'volsize', 'mount', 'weight', 'veh',\n",
        "       'techmeth', 'plant', 'title', 'code', 'ord', 'speed', 'lang',\n",
        "       'temp', 'instru', 'currency', 'religion']\n",
        "```\n"
      ]
    },
    {
      "cell_type": "markdown",
      "metadata": {
        "id": "nNkdkG-qDvv_"
      },
      "source": [
        "### Features and Labels\n",
        "* We are going to one_hot encode all labels"
      ]
    },
    {
      "cell_type": "code",
      "metadata": {
        "id": "bftB-ql3BRRb"
      },
      "source": [
        "train_features = train_dataframe.Questions.values\n",
        "train_labels_0 = train_dataframe.Category0.values\n",
        "train_labels_1 = train_dataframe.Category2.values\n",
        "\n",
        "test_features = test_dataframe.Questions.values\n",
        "test_labels_0 = test_dataframe.Category0.values\n",
        "test_labels_1 = test_dataframe.Category2.values\n",
        "\n",
        "val_features = val_dataframe.Questions.values\n",
        "val_labels_0 = val_dataframe.Category0.values\n",
        "val_labels_1 = val_dataframe.Category2.values\n"
      ],
      "execution_count": 10,
      "outputs": []
    },
    {
      "cell_type": "markdown",
      "metadata": {
        "id": "2MSTPezSEIlP"
      },
      "source": [
        "### Label Encoding.\n",
        "\n",
        "We are going to create encode the labels to numerical represantation using the `sklearn` `LabelEncoder` class. Since we have two labels we are going to create two surperate `LabelEncoder`'s"
      ]
    },
    {
      "cell_type": "code",
      "metadata": {
        "colab": {
          "base_uri": "https://localhost:8080/"
        },
        "id": "Y5L5jkryBROc",
        "outputId": "5beccc83-9674-4496-d096-6649e2b30951"
      },
      "source": [
        "label_0_encoder = LabelEncoder()\n",
        "label_0_encoder.fit(train_labels_0)\n",
        "\n",
        "label_1_encoder = LabelEncoder()\n",
        "label_1_encoder.fit(train_labels_1)"
      ],
      "execution_count": 11,
      "outputs": [
        {
          "output_type": "execute_result",
          "data": {
            "text/plain": [
              "LabelEncoder()"
            ]
          },
          "metadata": {
            "tags": []
          },
          "execution_count": 11
        }
      ]
    },
    {
      "cell_type": "markdown",
      "metadata": {
        "id": "DCbvJdfin9PB"
      },
      "source": [
        "Joining the validation and training set"
      ]
    },
    {
      "cell_type": "code",
      "metadata": {
        "colab": {
          "base_uri": "https://localhost:8080/"
        },
        "id": "TIIUtmNZoDND",
        "outputId": "f835fdb2-f0ac-4b7e-d449-43e9f1f829cc"
      },
      "source": [
        "train_valid_features = np.concatenate([train_features, val_features], axis = 0)\n",
        "train_valid_labels_0 = np.concatenate([train_labels_0, val_labels_0], axis = 0)\n",
        "train_valid_labels_1 = np.concatenate([train_labels_1, val_labels_1], axis = 0)\n",
        "\n",
        "train_valid_labels_1.shape, train_valid_labels_0.shape, train_valid_features.shape"
      ],
      "execution_count": 12,
      "outputs": [
        {
          "output_type": "execute_result",
          "data": {
            "text/plain": [
              "((4579,), (4579,), (4579,))"
            ]
          },
          "metadata": {
            "tags": []
          },
          "execution_count": 12
        }
      ]
    },
    {
      "cell_type": "code",
      "metadata": {
        "id": "RvnD8udFEkXR"
      },
      "source": [
        "train_labels_0 = label_0_encoder.transform(train_valid_labels_0).astype(\"int32\")\n",
        "train_labels_1 = label_1_encoder.transform(train_valid_labels_1).astype(\"int32\")\n",
        "\n",
        "test_labels_0 = label_0_encoder.transform(test_labels_0).astype(\"int32\")\n",
        "test_labels_1 = label_1_encoder.transform(test_labels_1).astype(\"int32\")\n"
      ],
      "execution_count": 13,
      "outputs": []
    },
    {
      "cell_type": "code",
      "metadata": {
        "colab": {
          "base_uri": "https://localhost:8080/"
        },
        "id": "vfgrW-wEFbTf",
        "outputId": "f071a764-c080-42da-d28c-6cf54dd644db"
      },
      "source": [
        "class_names_label_0 = label_0_encoder.classes_\n",
        "class_names_label_1 = label_1_encoder.classes_\n",
        "\n",
        "\n",
        "class_names_label_0.shape, class_names_label_1.shape"
      ],
      "execution_count": 14,
      "outputs": [
        {
          "output_type": "execute_result",
          "data": {
            "text/plain": [
              "((6,), (47,))"
            ]
          },
          "metadata": {
            "tags": []
          },
          "execution_count": 14
        }
      ]
    },
    {
      "cell_type": "markdown",
      "metadata": {
        "id": "OSvtocxDFpIC"
      },
      "source": [
        "### Next we are going to `one_hot_encode` labels.\n",
        "\n",
        "We are only going to `one_hot` encode the train labels. We will also do the same to the test set so that it will act as our validation set since the dataset is very small. I'm going to use the `numpy` method `eye`. You can use the `sklearn` ``OneHotEncoder`` class or the `tensorflow` method `one_hot`.\n",
        "\n",
        "\n",
        "**For this we will create two functions that one_hot_encode labels with different depth**\n"
      ]
    },
    {
      "cell_type": "code",
      "metadata": {
        "colab": {
          "base_uri": "https://localhost:8080/"
        },
        "id": "98xpro7gEkRW",
        "outputId": "2ad32f22-b71b-4072-8948-87a2322aef0c"
      },
      "source": [
        "def one_hot_label_1(index, depth=6): # 6 classes\n",
        "  return np.eye(depth, dtype=np.float32)[index]\n",
        "print(one_hot_label_1(2))\n",
        "\n",
        "def one_hot_label_2(index, depth=47): # 47 classes\n",
        "  return np.eye(depth, dtype=np.float32)[index]\n",
        "one_hot_label_2(2)"
      ],
      "execution_count": 15,
      "outputs": [
        {
          "output_type": "stream",
          "text": [
            "[0. 0. 1. 0. 0. 0.]\n"
          ],
          "name": "stdout"
        },
        {
          "output_type": "execute_result",
          "data": {
            "text/plain": [
              "array([0., 0., 1., 0., 0., 0., 0., 0., 0., 0., 0., 0., 0., 0., 0., 0., 0.,\n",
              "       0., 0., 0., 0., 0., 0., 0., 0., 0., 0., 0., 0., 0., 0., 0., 0., 0.,\n",
              "       0., 0., 0., 0., 0., 0., 0., 0., 0., 0., 0., 0., 0.], dtype=float32)"
            ]
          },
          "metadata": {
            "tags": []
          },
          "execution_count": 15
        }
      ]
    },
    {
      "cell_type": "code",
      "metadata": {
        "id": "JShSsfbNEkMu"
      },
      "source": [
        "train_labels_0_one_hot = np.array(list(map(one_hot_label_1, train_labels_0)))\n",
        "test_labels_0_one_hot = np.array(list(map(one_hot_label_1, test_labels_0)))\n",
        "\n",
        "train_labels_1_one_hot = np.array(list(map(one_hot_label_2, train_labels_1)))\n",
        "test_labels_1_one_hot = np.array(list(map(one_hot_label_2, test_labels_1)))"
      ],
      "execution_count": 18,
      "outputs": []
    },
    {
      "cell_type": "code",
      "metadata": {
        "colab": {
          "base_uri": "https://localhost:8080/"
        },
        "id": "ma1c02IgEkGm",
        "outputId": "ed9c2ff9-8b75-48da-b5de-7fa939aa329f"
      },
      "source": [
        "test_labels_0_one_hot[0]"
      ],
      "execution_count": 19,
      "outputs": [
        {
          "output_type": "execute_result",
          "data": {
            "text/plain": [
              "array([0., 0., 0., 0., 0., 1.], dtype=float32)"
            ]
          },
          "metadata": {
            "tags": []
          },
          "execution_count": 19
        }
      ]
    },
    {
      "cell_type": "markdown",
      "metadata": {
        "id": "j9VDpFIUHYve"
      },
      "source": [
        "### Features\n",
        "\n",
        " For now we are done with labels. In our case our feature is a question. All we need to do in this dataset is to create a helper function that will convert the text to lower case that's all we need. \n",
        "\n",
        " After that we will then prepare/preprocess the train and validation features for the model."
      ]
    },
    {
      "cell_type": "code",
      "metadata": {
        "id": "lepgcaB0Ej-m"
      },
      "source": [
        "to_lower = lambda sent: sent.lower()"
      ],
      "execution_count": 20,
      "outputs": []
    },
    {
      "cell_type": "code",
      "metadata": {
        "id": "F9TwFIXrH5DW"
      },
      "source": [
        "train_features = np.array(\n",
        "    list(\n",
        "        map(to_lower, train_features)\n",
        "    )\n",
        ")\n",
        "test_features= np.array(\n",
        "    list(\n",
        "        map(to_lower, test_features)\n",
        "    )\n",
        ")"
      ],
      "execution_count": 21,
      "outputs": []
    },
    {
      "cell_type": "code",
      "metadata": {
        "colab": {
          "base_uri": "https://localhost:8080/"
        },
        "id": "lZb6STrmH5Af",
        "outputId": "5059b481-6a34-4e38-f97b-1a6668af0ed1"
      },
      "source": [
        "train_features[:2]"
      ],
      "execution_count": 22,
      "outputs": [
        {
          "output_type": "execute_result",
          "data": {
            "text/plain": [
              "array(['what does salk vaccine prevent ?',\n",
              "       \"how many times a day should you take a prescription marked `` q.i.d . '' ?\"],\n",
              "      dtype='<U196')"
            ]
          },
          "metadata": {
            "tags": []
          },
          "execution_count": 22
        }
      ]
    },
    {
      "cell_type": "markdown",
      "metadata": {
        "id": "URlFb83DIjR-"
      },
      "source": [
        "### Preprocessing Features(Questions)\n",
        "\n",
        "1. Create a vocabulary\n",
        "2. Create a `stoi` from each sentencs\n",
        "3. pad the sentences to have the same size\n",
        "\n",
        "**Note** - During creation of the vocabulary we are going to use the `train` set. The model should not have an idea about the validation set, because we want the validation set to represent the test set as mush as possible."
      ]
    },
    {
      "cell_type": "markdown",
      "metadata": {
        "id": "OeafBB2NJtKv"
      },
      "source": [
        "### Vocab size, (aka) the number of unique words.\n",
        "\n",
        "I'm going to use spacy to tokenize each sentence and then we count number of unique words in the train set."
      ]
    },
    {
      "cell_type": "code",
      "metadata": {
        "id": "MhSvXYM3H484"
      },
      "source": [
        "from collections import Counter\n",
        "from nltk.tokenize import word_tokenize"
      ],
      "execution_count": 23,
      "outputs": []
    },
    {
      "cell_type": "code",
      "metadata": {
        "colab": {
          "base_uri": "https://localhost:8080/"
        },
        "id": "-iw1bCFuahxd",
        "outputId": "2d83e951-5b93-4cb0-9521-fdc0db3f6869"
      },
      "source": [
        "import nltk\n",
        "nltk.download('punkt')"
      ],
      "execution_count": 24,
      "outputs": [
        {
          "output_type": "stream",
          "text": [
            "[nltk_data] Downloading package punkt to /root/nltk_data...\n",
            "[nltk_data]   Package punkt is already up-to-date!\n"
          ],
          "name": "stdout"
        },
        {
          "output_type": "execute_result",
          "data": {
            "text/plain": [
              "True"
            ]
          },
          "metadata": {
            "tags": []
          },
          "execution_count": 24
        }
      ]
    },
    {
      "cell_type": "code",
      "metadata": {
        "colab": {
          "base_uri": "https://localhost:8080/",
          "height": 35
        },
        "id": "KUs78gVCK3oc",
        "outputId": "761ff3e6-e33f-4232-a156-3f5fd02b58e7"
      },
      "source": [
        "train_features[0]"
      ],
      "execution_count": 25,
      "outputs": [
        {
          "output_type": "execute_result",
          "data": {
            "application/vnd.google.colaboratory.intrinsic+json": {
              "type": "string"
            },
            "text/plain": [
              "'what does salk vaccine prevent ?'"
            ]
          },
          "metadata": {
            "tags": []
          },
          "execution_count": 25
        }
      ]
    },
    {
      "cell_type": "code",
      "metadata": {
        "colab": {
          "base_uri": "https://localhost:8080/"
        },
        "id": "OsGjWD5fH45o",
        "outputId": "499b68f9-34f4-4a91-c49f-106bac5398dc"
      },
      "source": [
        "counter = Counter()\n",
        "for sent in list(train_valid_features):\n",
        "  words = word_tokenize(sent)\n",
        "  for word in words:\n",
        "    counter[word] += 1\n",
        "counter.most_common(9)"
      ],
      "execution_count": 26,
      "outputs": [
        {
          "output_type": "execute_result",
          "data": {
            "text/plain": [
              "[('?', 4494),\n",
              " ('the', 3045),\n",
              " ('What', 2729),\n",
              " ('is', 1417),\n",
              " ('of', 1309),\n",
              " ('in', 970),\n",
              " ('a', 863),\n",
              " ('How', 643),\n",
              " (\"'s\", 596)]"
            ]
          },
          "metadata": {
            "tags": []
          },
          "execution_count": 26
        }
      ]
    },
    {
      "cell_type": "code",
      "metadata": {
        "id": "4i4QuWnFH4zn",
        "colab": {
          "base_uri": "https://localhost:8080/"
        },
        "outputId": "18d84caf-3ce7-4fad-d7f0-527dfbc57876"
      },
      "source": [
        "vocab_size = len(counter)\n",
        "vocab_size"
      ],
      "execution_count": 27,
      "outputs": [
        {
          "output_type": "execute_result",
          "data": {
            "text/plain": [
              "8475"
            ]
          },
          "metadata": {
            "tags": []
          },
          "execution_count": 27
        }
      ]
    },
    {
      "cell_type": "markdown",
      "metadata": {
        "id": "3Wt1l8iRNax1"
      },
      "source": [
        "We have `~8K` unique words in the train set. Next we are going to create word vectors.\n",
        "\n",
        "### Word vectors"
      ]
    },
    {
      "cell_type": "code",
      "metadata": {
        "id": "tBRz0Zy9NaUy"
      },
      "source": [
        "from tensorflow.keras.preprocessing.text import Tokenizer\n",
        "from tensorflow.keras.preprocessing.sequence import pad_sequences"
      ],
      "execution_count": 28,
      "outputs": []
    },
    {
      "cell_type": "code",
      "metadata": {
        "id": "VJQHeRXGH4wt"
      },
      "source": [
        "tokenizer = Tokenizer(num_words=vocab_size)\n",
        "tokenizer.fit_on_texts(train_valid_features)"
      ],
      "execution_count": 29,
      "outputs": []
    },
    {
      "cell_type": "code",
      "metadata": {
        "id": "IROMgVyOOLx2"
      },
      "source": [
        "word_indices = tokenizer.word_index\n",
        "word_indices_reversed = dict([\n",
        "    (v, k) for (k, v) in word_indices.items()\n",
        "])"
      ],
      "execution_count": 30,
      "outputs": []
    },
    {
      "cell_type": "markdown",
      "metadata": {
        "id": "HrWXjlGBOq3K"
      },
      "source": [
        "### Helper functions\n",
        "\n",
        "We will create some helper function that converts sequences to text and text to sequences. These function will be used for inference later on."
      ]
    },
    {
      "cell_type": "code",
      "metadata": {
        "id": "nnvyz4D8OLv3"
      },
      "source": [
        "def seq_to_text(sequences):\n",
        "  return \" \".join(word_indices_reversed[i] for i in sequences )\n",
        "\n",
        "def text_to_seq(sent):\n",
        "  words = word_tokenize(sent.lower())\n",
        "  sequences = []\n",
        "  for word in words:\n",
        "    try:\n",
        "      sequences.append(word_indices[word])\n",
        "    except:\n",
        "      sequences.append(0)\n",
        "  return sequences"
      ],
      "execution_count": 31,
      "outputs": []
    },
    {
      "cell_type": "markdown",
      "metadata": {
        "id": "sCSLlCFUP6yN"
      },
      "source": [
        "### Pretrained embeding weights\n",
        "\n",
        "Since this model is using RNN's we are going to use the `pretrained glove.6B` word embeddings. I've already uploaded these word embedding on my google colab so that we can load them as follows"
      ]
    },
    {
      "cell_type": "code",
      "metadata": {
        "id": "4HD8kSN8OLrI"
      },
      "source": [
        "embedding_path = \"/content/drive/MyDrive/NLP Data/glove.6B/glove.6B.100d.txt\"\n"
      ],
      "execution_count": 32,
      "outputs": []
    },
    {
      "cell_type": "code",
      "metadata": {
        "id": "KhdEwrHqOLoP"
      },
      "source": [
        "embedding_dict = dict()\n",
        "with open(embedding_path, encoding=\"utf8\") as glove:\n",
        "  for line in glove:\n",
        "    records = line.split();\n",
        "    word = records[0]\n",
        "    vectors = np.asarray(records[1: ], dtype=np.float32)\n",
        "    embedding_dict[word] = vectors"
      ],
      "execution_count": 33,
      "outputs": []
    },
    {
      "cell_type": "code",
      "metadata": {
        "colab": {
          "base_uri": "https://localhost:8080/"
        },
        "id": "l0AtapypRfPo",
        "outputId": "1f9d1782-79c3-47ab-c5e5-fd70fcfdf3e3"
      },
      "source": [
        "print(len(embedding_dict))\n",
        "embedding_dict[\"what\"].shape"
      ],
      "execution_count": 34,
      "outputs": [
        {
          "output_type": "stream",
          "text": [
            "400000\n"
          ],
          "name": "stdout"
        },
        {
          "output_type": "execute_result",
          "data": {
            "text/plain": [
              "(100,)"
            ]
          },
          "metadata": {
            "tags": []
          },
          "execution_count": 34
        }
      ]
    },
    {
      "cell_type": "markdown",
      "metadata": {
        "id": "OzCbRVfISdvV"
      },
      "source": [
        "### But wait? `40000` words? Where are they comming from?\n",
        "Okay don't panic we will create the embedding matrix that will suit our vocab_size next."
      ]
    },
    {
      "cell_type": "markdown",
      "metadata": {
        "id": "RcLVeXuIRRJk"
      },
      "source": [
        "### Embedding matrix\n",
        "We will then create an embedding matrix that will suit our data."
      ]
    },
    {
      "cell_type": "code",
      "metadata": {
        "id": "lFtPge6SOLlh"
      },
      "source": [
        "embedding_matrix = np.zeros((vocab_size, 100))\n",
        "\n",
        "for word, index in word_indices.items():\n",
        "  vector = embedding_dict.get(word)\n",
        "  if vector is not None:\n",
        "    try:\n",
        "      embedding_matrix[index] = vector\n",
        "    except IndexError or Exception:\n",
        "      pass"
      ],
      "execution_count": 35,
      "outputs": []
    },
    {
      "cell_type": "code",
      "metadata": {
        "id": "xKXJINrqH4ss",
        "colab": {
          "base_uri": "https://localhost:8080/"
        },
        "outputId": "a1091950-a8b9-4906-c825-284b7bbee3e3"
      },
      "source": [
        "len(embedding_matrix)"
      ],
      "execution_count": 36,
      "outputs": [
        {
          "output_type": "execute_result",
          "data": {
            "text/plain": [
              "8475"
            ]
          },
          "metadata": {
            "tags": []
          },
          "execution_count": 36
        }
      ]
    },
    {
      "cell_type": "markdown",
      "metadata": {
        "id": "gNSFvhDsSU1g"
      },
      "source": [
        "Now the `embedding_matrix` suits our data which has `~8` words."
      ]
    },
    {
      "cell_type": "markdown",
      "metadata": {
        "id": "IqimwH32S958"
      },
      "source": [
        "### Creating Sequences"
      ]
    },
    {
      "cell_type": "code",
      "metadata": {
        "id": "D3lV_wdAH4pu"
      },
      "source": [
        "train_sequences = tokenizer.texts_to_sequences(train_valid_features)\n",
        "test_sequences = tokenizer.texts_to_sequences(test_features)"
      ],
      "execution_count": 37,
      "outputs": []
    },
    {
      "cell_type": "code",
      "metadata": {
        "colab": {
          "base_uri": "https://localhost:8080/"
        },
        "id": "6tLt3TE5TUBI",
        "outputId": "6e079f31-8e5a-4a68-d422-48034f69916a"
      },
      "source": [
        "test_features[0], test_sequences[0]"
      ],
      "execution_count": 38,
      "outputs": [
        {
          "output_type": "execute_result",
          "data": {
            "text/plain": [
              "('how many wings does a flea have ?', [7, 21, 1913, 17, 6, 41])"
            ]
          },
          "metadata": {
            "tags": []
          },
          "execution_count": 38
        }
      ]
    },
    {
      "cell_type": "markdown",
      "metadata": {
        "id": "2Yhc5-uHTgMx"
      },
      "source": [
        "### Testing our helper functions"
      ]
    },
    {
      "cell_type": "code",
      "metadata": {
        "colab": {
          "base_uri": "https://localhost:8080/",
          "height": 35
        },
        "id": "6rqtbAGmTT8o",
        "outputId": "819b3900-37c3-4d3c-a8cf-6d1bbdc64095"
      },
      "source": [
        "seq_to_text(test_sequences[0])"
      ],
      "execution_count": 39,
      "outputs": [
        {
          "output_type": "execute_result",
          "data": {
            "application/vnd.google.colaboratory.intrinsic+json": {
              "type": "string"
            },
            "text/plain": [
              "'how many wings does a have'"
            ]
          },
          "metadata": {
            "tags": []
          },
          "execution_count": 39
        }
      ]
    },
    {
      "cell_type": "code",
      "metadata": {
        "colab": {
          "base_uri": "https://localhost:8080/"
        },
        "id": "5p2BcCG7TkzY",
        "outputId": "b58355d4-df80-4edb-f9c2-b64552eb9101"
      },
      "source": [
        "text_to_seq(\"this is why the unknownnnn word ?\")"
      ],
      "execution_count": 40,
      "outputs": [
        {
          "output_type": "execute_result",
          "data": {
            "text/plain": [
              "[517, 3, 44, 1, 0, 69, 0]"
            ]
          },
          "metadata": {
            "tags": []
          },
          "execution_count": 40
        }
      ]
    },
    {
      "cell_type": "markdown",
      "metadata": {
        "id": "8ZR5TZsrTkHh"
      },
      "source": [
        "### Pad sequences\n",
        "\n",
        "Our final step is to pad our suquences to have the same length. We are going to do this on the train and validation sets only."
      ]
    },
    {
      "cell_type": "code",
      "metadata": {
        "id": "oBLPnTTQTT4g"
      },
      "source": [
        "max_words = 100\n",
        "\n",
        "train_tokens_padded = pad_sequences(\n",
        "    train_sequences, \n",
        "    maxlen=max_words, \n",
        "    padding=\"post\", \n",
        "    truncating=\"post\"\n",
        ")\n",
        "test_tokens_padded = pad_sequences(\n",
        "    test_sequences, \n",
        "    maxlen=max_words, \n",
        "    padding=\"post\", \n",
        "    truncating=\"post\"\n",
        ")"
      ],
      "execution_count": 41,
      "outputs": []
    },
    {
      "cell_type": "markdown",
      "metadata": {
        "id": "g72XFW_vUz-C"
      },
      "source": [
        "### Building the model.\n",
        "\n",
        "Model Achitecture.\n",
        "\n",
        "The model achitecture will be ploted"
      ]
    },
    {
      "cell_type": "code",
      "metadata": {
        "id": "UM0f0fL-TTz7",
        "colab": {
          "base_uri": "https://localhost:8080/"
        },
        "outputId": "523f718e-4af3-483c-badb-5706c11a01ec"
      },
      "source": [
        "forward_layer = keras.layers.GRU(\n",
        "   128, return_sequences=True, dropout=.5,\n",
        "   name=\"gru_forward_layer\"\n",
        ")\n",
        "backward_layer = keras.layers.LSTM(\n",
        "   128, return_sequences=True, dropout=.5,\n",
        "   go_backwards=True, name=\"lstm_backward_layer\"\n",
        ")\n",
        "\n",
        "input_layer = keras.layers.Input(shape=(100, ))\n",
        "\n",
        "embedding_layer = keras.layers.Embedding(\n",
        "                  vocab_size, 100, \n",
        "                  input_length=max_words,\n",
        "                  weights=[embedding_matrix], \n",
        "                  trainable=True,\n",
        "                  name = \"embedding_layer\"\n",
        "                )(input_layer)\n",
        "\n",
        "bidirectional_layer =  keras.layers.Bidirectional(\n",
        "                        forward_layer,\n",
        "                        backward_layer = backward_layer,\n",
        "                        name= \"bidirectional_layer\"\n",
        "                 )(embedding_layer)\n",
        "\n",
        "gru_layer = keras.layers.GRU(\n",
        "            512, return_sequences=True,\n",
        "            dropout=.5,\n",
        "            name= \"gru_layer\"\n",
        "      )(bidirectional_layer)\n",
        "lstm_layer =  keras.layers.LSTM(\n",
        "          512, return_sequences=True,\n",
        "          dropout=.5,\n",
        "          name=\"lstm_layer\"\n",
        "       )(gru_layer)\n",
        "\n",
        "pooling_layer =  keras.layers.GlobalAveragePooling1D(\n",
        "          name=\"average_pooling_layer\"\n",
        "        )(lstm_layer)\n",
        "\n",
        "# FC hidden layers\n",
        "dense_1 = keras.layers.Dense(64, activation='relu', name=\"dense_1\")(pooling_layer)\n",
        "dropout_1 = keras.layers.Dropout(rate= .5, name=\"dropout_layer_1\")(dense_1)\n",
        "dense_2 = keras.layers.Dense(512, activation='relu', name=\"dense_2\")(dense_1)\n",
        "dropout_2 = keras.layers.Dropout(rate= .5, name=\"dropout_layer_2\")(dense_2)\n",
        "dense_3 = keras.layers.Dense(128, activation='relu', name=\"dense_3\")(pooling_layer)\n",
        "dropout_3 = keras.layers.Dropout(rate= .5, name=\"dropout_layer_3\")(dense_3)\n",
        "\n",
        "output_1 = keras.layers.Dense(6, activation='softmax', name=\"output_1\")(dropout_3)\n",
        "output_2 = keras.layers.Dense(47, activation=\"softmax\", name=\"output_2\")(dropout_3)\n",
        "\n",
        "question_category_model = keras.Model(inputs=input_layer, outputs=[output_1, output_2], name = \"question_category_model\") \n",
        "\n",
        "question_category_model.summary()"
      ],
      "execution_count": 44,
      "outputs": [
        {
          "output_type": "stream",
          "text": [
            "Model: \"question_category_model\"\n",
            "__________________________________________________________________________________________________\n",
            "Layer (type)                    Output Shape         Param #     Connected to                     \n",
            "==================================================================================================\n",
            "input_2 (InputLayer)            [(None, 100)]        0                                            \n",
            "__________________________________________________________________________________________________\n",
            "embedding_layer (Embedding)     (None, 100, 100)     847500      input_2[0][0]                    \n",
            "__________________________________________________________________________________________________\n",
            "bidirectional_layer (Bidirectio (None, 100, 256)     205568      embedding_layer[0][0]            \n",
            "__________________________________________________________________________________________________\n",
            "gru_layer (GRU)                 (None, 100, 512)     1182720     bidirectional_layer[0][0]        \n",
            "__________________________________________________________________________________________________\n",
            "lstm_layer (LSTM)               (None, 100, 512)     2099200     gru_layer[0][0]                  \n",
            "__________________________________________________________________________________________________\n",
            "average_pooling_layer (GlobalAv (None, 512)          0           lstm_layer[0][0]                 \n",
            "__________________________________________________________________________________________________\n",
            "dense_3 (Dense)                 (None, 128)          65664       average_pooling_layer[0][0]      \n",
            "__________________________________________________________________________________________________\n",
            "dropout_layer_3 (Dropout)       (None, 128)          0           dense_3[0][0]                    \n",
            "__________________________________________________________________________________________________\n",
            "output_1 (Dense)                (None, 6)            774         dropout_layer_3[0][0]            \n",
            "__________________________________________________________________________________________________\n",
            "output_2 (Dense)                (None, 47)           6063        dropout_layer_3[0][0]            \n",
            "==================================================================================================\n",
            "Total params: 4,407,489\n",
            "Trainable params: 4,407,489\n",
            "Non-trainable params: 0\n",
            "__________________________________________________________________________________________________\n"
          ],
          "name": "stdout"
        }
      ]
    },
    {
      "cell_type": "markdown",
      "metadata": {
        "id": "CNp7CT51vKGl"
      },
      "source": [
        "### Let's plot the model and see it's stucture"
      ]
    },
    {
      "cell_type": "code",
      "metadata": {
        "colab": {
          "base_uri": "https://localhost:8080/",
          "height": 656
        },
        "id": "QjKsrXImvOt-",
        "outputId": "98763862-9c6a-4a0e-a001-da643b2e57af"
      },
      "source": [
        "keras.utils.plot_model(question_category_model, dpi=64, show_shapes=True)"
      ],
      "execution_count": 45,
      "outputs": [
        {
          "output_type": "execute_result",
          "data": {
            "image/png": "[encoded data removed]",
            "text/plain": [
              "<IPython.core.display.Image object>"
            ]
          },
          "metadata": {
            "tags": []
          },
          "execution_count": 45
        }
      ]
    },
    {
      "cell_type": "markdown",
      "metadata": {
        "id": "II8o2G6ka_YH"
      },
      "source": [
        "### Compiling the model\n",
        "\n",
        "We are going two have two loss functions for each output label."
      ]
    },
    {
      "cell_type": "code",
      "metadata": {
        "id": "k51Yua1vTTw4"
      },
      "source": [
        "early_stopping = keras.callbacks.EarlyStopping(\n",
        "    monitor='val_output_2_loss',\n",
        "    min_delta=0,\n",
        "    patience=5,\n",
        "    verbose=1,\n",
        "    mode='auto',\n",
        "    baseline=None,\n",
        "    restore_best_weights=False,\n",
        ")\n",
        "\n",
        "question_category_model.compile(\n",
        "    loss = {\n",
        "        \"output_1\" : keras.losses.CategoricalCrossentropy(from_logits=False),\n",
        "        \"output_2\" : keras.losses.CategoricalCrossentropy(from_logits=False)\n",
        "    },\n",
        "    optimizer = keras.optimizers.Adam(1e-3, 0.5),\n",
        "    metrics = [\"accuracy\"]\n",
        ")"
      ],
      "execution_count": 46,
      "outputs": []
    },
    {
      "cell_type": "markdown",
      "metadata": {
        "id": "nufxR3sjh0ZI"
      },
      "source": [
        "### How long should we train the model?\n",
        "We are going to train the model for more epochs, as soon as the model loss stop decreasing we will stop."
      ]
    },
    {
      "cell_type": "code",
      "metadata": {
        "id": "JEvAF2NFTTtt",
        "colab": {
          "base_uri": "https://localhost:8080/"
        },
        "outputId": "e6c1bccf-6c86-4e9b-9abb-54180acd1ffa"
      },
      "source": [
        "EPOCHS = 50\n",
        "\n",
        "history = question_category_model.fit(\n",
        "    train_tokens_padded,\n",
        "    y = [train_labels_0_one_hot, train_labels_1_one_hot],\n",
        "    validation_data = (\n",
        "        test_tokens_padded, [test_labels_0_one_hot, test_labels_1_one_hot],\n",
        "    ),\n",
        "    verbose = 1,\n",
        "    epochs = EPOCHS,\n",
        "    batch_size = 64,\n",
        "    shuffle = True,\n",
        "    validation_batch_size = 16,\n",
        "    callbacks = [early_stopping]\n",
        ")"
      ],
      "execution_count": 48,
      "outputs": [
        {
          "output_type": "stream",
          "text": [
            "Epoch 1/50\n",
            "72/72 [==============================] - 24s 231ms/step - loss: 5.0517 - output_1_loss: 1.7390 - output_2_loss: 3.3127 - output_1_accuracy: 0.2359 - output_2_accuracy: 0.1625 - val_loss: 5.6584 - val_output_1_loss: 2.0756 - val_output_2_loss: 3.5827 - val_output_1_accuracy: 0.2268 - val_output_2_accuracy: 0.1604\n",
            "Epoch 2/50\n",
            "72/72 [==============================] - 15s 208ms/step - loss: 4.6434 - output_1_loss: 1.5959 - output_2_loss: 3.0475 - output_1_accuracy: 0.3014 - output_2_accuracy: 0.2024 - val_loss: 4.0568 - val_output_1_loss: 1.3027 - val_output_2_loss: 2.7542 - val_output_1_accuracy: 0.4204 - val_output_2_accuracy: 0.3093\n",
            "Epoch 3/50\n",
            "72/72 [==============================] - 15s 208ms/step - loss: 3.8797 - output_1_loss: 1.2496 - output_2_loss: 2.6301 - output_1_accuracy: 0.4927 - output_2_accuracy: 0.3451 - val_loss: 3.1518 - val_output_1_loss: 0.8737 - val_output_2_loss: 2.2781 - val_output_1_accuracy: 0.6690 - val_output_2_accuracy: 0.4273\n",
            "Epoch 4/50\n",
            "72/72 [==============================] - 15s 208ms/step - loss: 3.2263 - output_1_loss: 0.9484 - output_2_loss: 2.2779 - output_1_accuracy: 0.6427 - output_2_accuracy: 0.4154 - val_loss: 2.8593 - val_output_1_loss: 0.7750 - val_output_2_loss: 2.0844 - val_output_1_accuracy: 0.7205 - val_output_2_accuracy: 0.4456\n",
            "Epoch 5/50\n",
            "72/72 [==============================] - 15s 208ms/step - loss: 2.8750 - output_1_loss: 0.8192 - output_2_loss: 2.0558 - output_1_accuracy: 0.7041 - output_2_accuracy: 0.4584 - val_loss: 2.5435 - val_output_1_loss: 0.6724 - val_output_2_loss: 1.8711 - val_output_1_accuracy: 0.7663 - val_output_2_accuracy: 0.4960\n",
            "Epoch 6/50\n",
            "72/72 [==============================] - 15s 208ms/step - loss: 2.6385 - output_1_loss: 0.7287 - output_2_loss: 1.9098 - output_1_accuracy: 0.7513 - output_2_accuracy: 0.4837 - val_loss: 2.4429 - val_output_1_loss: 0.6373 - val_output_2_loss: 1.8057 - val_output_1_accuracy: 0.7743 - val_output_2_accuracy: 0.5223\n",
            "Epoch 7/50\n",
            "72/72 [==============================] - 15s 208ms/step - loss: 2.4520 - output_1_loss: 0.6488 - output_2_loss: 1.8031 - output_1_accuracy: 0.7790 - output_2_accuracy: 0.5169 - val_loss: 2.3175 - val_output_1_loss: 0.5912 - val_output_2_loss: 1.7263 - val_output_1_accuracy: 0.7927 - val_output_2_accuracy: 0.5281\n",
            "Epoch 8/50\n",
            "72/72 [==============================] - 15s 208ms/step - loss: 2.2242 - output_1_loss: 0.5518 - output_2_loss: 1.6724 - output_1_accuracy: 0.8137 - output_2_accuracy: 0.5429 - val_loss: 2.1097 - val_output_1_loss: 0.4926 - val_output_2_loss: 1.6171 - val_output_1_accuracy: 0.8247 - val_output_2_accuracy: 0.5487\n",
            "Epoch 9/50\n",
            "72/72 [==============================] - 15s 207ms/step - loss: 2.0795 - output_1_loss: 0.4994 - output_2_loss: 1.5801 - output_1_accuracy: 0.8480 - output_2_accuracy: 0.5737 - val_loss: 2.0985 - val_output_1_loss: 0.5188 - val_output_2_loss: 1.5797 - val_output_1_accuracy: 0.8156 - val_output_2_accuracy: 0.5498\n",
            "Epoch 10/50\n",
            "72/72 [==============================] - 15s 208ms/step - loss: 1.9201 - output_1_loss: 0.4461 - output_2_loss: 1.4740 - output_1_accuracy: 0.8644 - output_2_accuracy: 0.5901 - val_loss: 1.9583 - val_output_1_loss: 0.4665 - val_output_2_loss: 1.4918 - val_output_1_accuracy: 0.8282 - val_output_2_accuracy: 0.5934\n",
            "Epoch 11/50\n",
            "72/72 [==============================] - 15s 209ms/step - loss: 1.7778 - output_1_loss: 0.3951 - output_2_loss: 1.3828 - output_1_accuracy: 0.8786 - output_2_accuracy: 0.6143 - val_loss: 1.8288 - val_output_1_loss: 0.4351 - val_output_2_loss: 1.3937 - val_output_1_accuracy: 0.8408 - val_output_2_accuracy: 0.6105\n",
            "Epoch 12/50\n",
            "72/72 [==============================] - 15s 207ms/step - loss: 1.6430 - output_1_loss: 0.3438 - output_2_loss: 1.2992 - output_1_accuracy: 0.8943 - output_2_accuracy: 0.6386 - val_loss: 1.8546 - val_output_1_loss: 0.4561 - val_output_2_loss: 1.3985 - val_output_1_accuracy: 0.8362 - val_output_2_accuracy: 0.6014\n",
            "Epoch 13/50\n",
            "72/72 [==============================] - 15s 208ms/step - loss: 1.5627 - output_1_loss: 0.3334 - output_2_loss: 1.2293 - output_1_accuracy: 0.8956 - output_2_accuracy: 0.6556 - val_loss: 1.7780 - val_output_1_loss: 0.4127 - val_output_2_loss: 1.3653 - val_output_1_accuracy: 0.8499 - val_output_2_accuracy: 0.6231\n",
            "Epoch 14/50\n",
            "72/72 [==============================] - 15s 208ms/step - loss: 1.4423 - output_1_loss: 0.2898 - output_2_loss: 1.1525 - output_1_accuracy: 0.9100 - output_2_accuracy: 0.6715 - val_loss: 1.6923 - val_output_1_loss: 0.4145 - val_output_2_loss: 1.2778 - val_output_1_accuracy: 0.8706 - val_output_2_accuracy: 0.6564\n",
            "Epoch 15/50\n",
            "72/72 [==============================] - 15s 208ms/step - loss: 1.3884 - output_1_loss: 0.2886 - output_2_loss: 1.0998 - output_1_accuracy: 0.9155 - output_2_accuracy: 0.6866 - val_loss: 1.7102 - val_output_1_loss: 0.4041 - val_output_2_loss: 1.3061 - val_output_1_accuracy: 0.8683 - val_output_2_accuracy: 0.6380\n",
            "Epoch 16/50\n",
            "72/72 [==============================] - 15s 207ms/step - loss: 1.2861 - output_1_loss: 0.2523 - output_2_loss: 1.0337 - output_1_accuracy: 0.9212 - output_2_accuracy: 0.7023 - val_loss: 1.7649 - val_output_1_loss: 0.4315 - val_output_2_loss: 1.3335 - val_output_1_accuracy: 0.8580 - val_output_2_accuracy: 0.6403\n",
            "Epoch 17/50\n",
            "72/72 [==============================] - 15s 208ms/step - loss: 1.2385 - output_1_loss: 0.2263 - output_2_loss: 1.0122 - output_1_accuracy: 0.9295 - output_2_accuracy: 0.7102 - val_loss: 1.7124 - val_output_1_loss: 0.4400 - val_output_2_loss: 1.2724 - val_output_1_accuracy: 0.8625 - val_output_2_accuracy: 0.6632\n",
            "Epoch 18/50\n",
            "72/72 [==============================] - 15s 208ms/step - loss: 1.1642 - output_1_loss: 0.2187 - output_2_loss: 0.9455 - output_1_accuracy: 0.9314 - output_2_accuracy: 0.7312 - val_loss: 1.5949 - val_output_1_loss: 0.3877 - val_output_2_loss: 1.2072 - val_output_1_accuracy: 0.8729 - val_output_2_accuracy: 0.6586\n",
            "Epoch 19/50\n",
            "72/72 [==============================] - 15s 208ms/step - loss: 1.0533 - output_1_loss: 0.1718 - output_2_loss: 0.8815 - output_1_accuracy: 0.9445 - output_2_accuracy: 0.7419 - val_loss: 1.6185 - val_output_1_loss: 0.4350 - val_output_2_loss: 1.1836 - val_output_1_accuracy: 0.8809 - val_output_2_accuracy: 0.6976\n",
            "Epoch 20/50\n",
            "72/72 [==============================] - 15s 207ms/step - loss: 1.0745 - output_1_loss: 0.1955 - output_2_loss: 0.8790 - output_1_accuracy: 0.9439 - output_2_accuracy: 0.7486 - val_loss: 1.6212 - val_output_1_loss: 0.4248 - val_output_2_loss: 1.1964 - val_output_1_accuracy: 0.8797 - val_output_2_accuracy: 0.6873\n",
            "Epoch 21/50\n",
            "72/72 [==============================] - 15s 209ms/step - loss: 0.9585 - output_1_loss: 0.1548 - output_2_loss: 0.8037 - output_1_accuracy: 0.9524 - output_2_accuracy: 0.7733 - val_loss: 1.5891 - val_output_1_loss: 0.4281 - val_output_2_loss: 1.1610 - val_output_1_accuracy: 0.8832 - val_output_2_accuracy: 0.6987\n",
            "Epoch 22/50\n",
            "72/72 [==============================] - 15s 208ms/step - loss: 0.9314 - output_1_loss: 0.1589 - output_2_loss: 0.7725 - output_1_accuracy: 0.9489 - output_2_accuracy: 0.7759 - val_loss: 1.4745 - val_output_1_loss: 0.3770 - val_output_2_loss: 1.0976 - val_output_1_accuracy: 0.8866 - val_output_2_accuracy: 0.6999\n",
            "Epoch 23/50\n",
            "72/72 [==============================] - 15s 209ms/step - loss: 0.8608 - output_1_loss: 0.1467 - output_2_loss: 0.7142 - output_1_accuracy: 0.9568 - output_2_accuracy: 0.7893 - val_loss: 1.8682 - val_output_1_loss: 0.5555 - val_output_2_loss: 1.3126 - val_output_1_accuracy: 0.8786 - val_output_2_accuracy: 0.7113\n",
            "Epoch 24/50\n",
            "72/72 [==============================] - 15s 208ms/step - loss: 0.8417 - output_1_loss: 0.1412 - output_2_loss: 0.7005 - output_1_accuracy: 0.9563 - output_2_accuracy: 0.7978 - val_loss: 1.4798 - val_output_1_loss: 0.3860 - val_output_2_loss: 1.0938 - val_output_1_accuracy: 0.8969 - val_output_2_accuracy: 0.7228\n",
            "Epoch 25/50\n",
            "72/72 [==============================] - 15s 208ms/step - loss: 0.7927 - output_1_loss: 0.1281 - output_2_loss: 0.6646 - output_1_accuracy: 0.9605 - output_2_accuracy: 0.8065 - val_loss: 1.6014 - val_output_1_loss: 0.4578 - val_output_2_loss: 1.1436 - val_output_1_accuracy: 0.8832 - val_output_2_accuracy: 0.7228\n",
            "Epoch 26/50\n",
            "72/72 [==============================] - 15s 209ms/step - loss: 0.7577 - output_1_loss: 0.1203 - output_2_loss: 0.6375 - output_1_accuracy: 0.9616 - output_2_accuracy: 0.8091 - val_loss: 1.5944 - val_output_1_loss: 0.4535 - val_output_2_loss: 1.1409 - val_output_1_accuracy: 0.8900 - val_output_2_accuracy: 0.7274\n",
            "Epoch 27/50\n",
            "72/72 [==============================] - 15s 208ms/step - loss: 0.7471 - output_1_loss: 0.1228 - output_2_loss: 0.6242 - output_1_accuracy: 0.9624 - output_2_accuracy: 0.8238 - val_loss: 1.4716 - val_output_1_loss: 0.4045 - val_output_2_loss: 1.0671 - val_output_1_accuracy: 0.8946 - val_output_2_accuracy: 0.7308\n",
            "Epoch 28/50\n",
            "72/72 [==============================] - 15s 208ms/step - loss: 0.6818 - output_1_loss: 0.1085 - output_2_loss: 0.5733 - output_1_accuracy: 0.9648 - output_2_accuracy: 0.8310 - val_loss: 1.6697 - val_output_1_loss: 0.4836 - val_output_2_loss: 1.1861 - val_output_1_accuracy: 0.8992 - val_output_2_accuracy: 0.7457\n",
            "Epoch 29/50\n",
            "72/72 [==============================] - 15s 209ms/step - loss: 0.6727 - output_1_loss: 0.1061 - output_2_loss: 0.5667 - output_1_accuracy: 0.9670 - output_2_accuracy: 0.8401 - val_loss: 1.6513 - val_output_1_loss: 0.5015 - val_output_2_loss: 1.1499 - val_output_1_accuracy: 0.8751 - val_output_2_accuracy: 0.7320\n",
            "Epoch 30/50\n",
            "72/72 [==============================] - 15s 209ms/step - loss: 0.6136 - output_1_loss: 0.0938 - output_2_loss: 0.5197 - output_1_accuracy: 0.9725 - output_2_accuracy: 0.8541 - val_loss: 1.6285 - val_output_1_loss: 0.4854 - val_output_2_loss: 1.1431 - val_output_1_accuracy: 0.8912 - val_output_2_accuracy: 0.7480\n",
            "Epoch 31/50\n",
            "72/72 [==============================] - 15s 208ms/step - loss: 0.5629 - output_1_loss: 0.0893 - output_2_loss: 0.4737 - output_1_accuracy: 0.9736 - output_2_accuracy: 0.8629 - val_loss: 1.5678 - val_output_1_loss: 0.4773 - val_output_2_loss: 1.0905 - val_output_1_accuracy: 0.8981 - val_output_2_accuracy: 0.7491\n",
            "Epoch 32/50\n",
            "72/72 [==============================] - 15s 208ms/step - loss: 0.5418 - output_1_loss: 0.0827 - output_2_loss: 0.4590 - output_1_accuracy: 0.9731 - output_2_accuracy: 0.8635 - val_loss: 1.5225 - val_output_1_loss: 0.4550 - val_output_2_loss: 1.0674 - val_output_1_accuracy: 0.8969 - val_output_2_accuracy: 0.7606\n",
            "Epoch 00032: early stopping\n"
          ],
          "name": "stdout"
        }
      ]
    },
    {
      "cell_type": "markdown",
      "metadata": {
        "id": "vmfKL8BZzqu_"
      },
      "source": [
        "### Plotting the model's training history."
      ]
    },
    {
      "cell_type": "code",
      "metadata": {
        "id": "bA17qT-wzw9H"
      },
      "source": [
        "import matplotlib.pyplot as plt"
      ],
      "execution_count": 49,
      "outputs": []
    },
    {
      "cell_type": "code",
      "metadata": {
        "colab": {
          "base_uri": "https://localhost:8080/",
          "height": 281
        },
        "id": "xcTafwrsz5QY",
        "outputId": "9f18a5ae-9ad6-4aee-d073-97e72fc65d1a"
      },
      "source": [
        "df = pd.DataFrame(history.history)\n",
        "df.plot(title=\"Model training history\")\n",
        "plt.show()"
      ],
      "execution_count": 50,
      "outputs": [
        {
          "output_type": "display_data",
          "data": {
            "image/png": "[encoded data removed]",
            "text/plain": [
              "<Figure size 432x288 with 1 Axes>"
            ]
          },
          "metadata": {
            "tags": [],
            "needs_background": "light"
          }
        }
      ]
    },
    {
      "cell_type": "markdown",
      "metadata": {
        "id": "gROvNEuzdRU6"
      },
      "source": [
        "### Converting test data to numeric and then pad it."
      ]
    },
    {
      "cell_type": "code",
      "metadata": {
        "colab": {
          "base_uri": "https://localhost:8080/"
        },
        "id": "sJVm515sdYW0",
        "outputId": "0aba44c1-095b-4046-dfa8-519ecced3d93"
      },
      "source": [
        "def text_to_padded_sequences(sent):\n",
        "  tokens = text_to_seq(sent)\n",
        "  padded_tokens = pad_sequences([tokens], maxlen=max_words, padding=\"post\", truncating=\"post\")\n",
        "  return tf.squeeze(padded_tokens)\n",
        "\n",
        "question_category_model.evaluate(\n",
        "    test_tokens_padded, [test_labels_0_one_hot, test_labels_1_one_hot],\n",
        "    verbose = 1,\n",
        "    batch_size = 32\n",
        ")"
      ],
      "execution_count": 52,
      "outputs": [
        {
          "output_type": "stream",
          "text": [
            "28/28 [==============================] - 2s 63ms/step - loss: 1.5225 - output_1_loss: 0.4550 - output_2_loss: 1.0674 - output_1_accuracy: 0.8969 - output_2_accuracy: 0.7606\n"
          ],
          "name": "stdout"
        },
        {
          "output_type": "execute_result",
          "data": {
            "text/plain": [
              "[1.522480845451355,\n",
              " 0.4550454020500183,\n",
              " 1.067435383796692,\n",
              " 0.8969072103500366,\n",
              " 0.7605956196784973]"
            ]
          },
          "metadata": {
            "tags": []
          },
          "execution_count": 52
        }
      ]
    },
    {
      "cell_type": "markdown",
      "metadata": {
        "id": "RjPIx00ngxrr"
      },
      "source": [
        "As we can see that we are able to get an accuracy of `~90%` on the first category and `~76%` accuracy on the second category of the test data. Which can be improved by having a lot of train examples as well as balancing the data in the train set."
      ]
    },
    {
      "cell_type": "markdown",
      "metadata": {
        "id": "kNWSIUk1eDU8"
      },
      "source": [
        "### Model inference (making predictions)"
      ]
    },
    {
      "cell_type": "code",
      "metadata": {
        "id": "ToEw318Pdd6k"
      },
      "source": [
        "from prettytable import PrettyTable"
      ],
      "execution_count": 53,
      "outputs": []
    },
    {
      "cell_type": "code",
      "metadata": {
        "id": "hiOn7Dlkdd3K"
      },
      "source": [
        "def tabulate(column_names, data, max_characters:int, question:str):\n",
        "  table = PrettyTable(column_names)\n",
        "  table.align[column_names[0]] = \"l\"\n",
        "  table.align[column_names[1]] = \"l\"\n",
        "  table.align[column_names[2]] = \"l\"\n",
        "  table.title = question\n",
        "  table._max_width = {column_names[0] :max_characters, column_names[1] :max_characters, column_names[2] :max_characters}\n",
        "  for row in data:\n",
        "    table.add_row(row)\n",
        "  print(table)"
      ],
      "execution_count": 54,
      "outputs": []
    },
    {
      "cell_type": "code",
      "metadata": {
        "id": "Z8SxstX6ekHD"
      },
      "source": [
        "def predict(model, sent, real_label_1, real_label_2):\n",
        "  classes_1 = class_names_label_0\n",
        "  classes_2 = class_names_label_1\n",
        "  tokens = text_to_seq(sent)\n",
        "  padded_tokens = pad_sequences([tokens], maxlen=max_words, \n",
        "                                padding=\"post\", truncating=\"post\")\n",
        "  \n",
        "  probabilities_1, probabilities_2 = model.predict(padded_tokens)\n",
        "\n",
        "  prediction_1 = tf.argmax(probabilities_1, axis=1).numpy()[0]\n",
        "  class_name_1 = classes_1[prediction_1]\n",
        "  prediction_2 = tf.argmax(probabilities_2, axis=1).numpy()[0]\n",
        "  class_name_2 = classes_2[prediction_2]\n",
        "\n",
        "  table_headers =[\"KEY\", \"CATEGORY 1\", \"CATEGORY 2\"]\n",
        "  table_data = [\n",
        "        [\"PREDICTED CLASS\",  prediction_1,  prediction_2],\n",
        "        [\"PREDICTED CLASS NAME\",  class_name_1, class_name_2],\n",
        "        [\"REAL CLASS\",  real_label_1, real_label_2],\n",
        "        [\"REAL CLASS NAME\",  classes_1[real_label_1], classes_2[real_label_2]],\n",
        "        [\"CONFIDENCE OVER OTHER CLASSES\", f'{probabilities_1[0][prediction_1] * 100:.2f}%', f'{probabilities_2[0][prediction_2] * 100:.2f}%'],\n",
        "             \n",
        "    ]\n",
        "  tabulate(table_headers, table_data, 50, sent)"
      ],
      "execution_count": 59,
      "outputs": []
    },
    {
      "cell_type": "markdown",
      "metadata": {
        "id": "oGMjEW_lejc1"
      },
      "source": [
        "### Making predictions on the test data."
      ]
    },
    {
      "cell_type": "code",
      "metadata": {
        "colab": {
          "base_uri": "https://localhost:8080/"
        },
        "id": "zDBvpsJjjFKv",
        "outputId": "334df635-1732-4881-c88e-229ca4c670e4"
      },
      "source": [
        "for label_1, label_2, sent in zip(test_labels_0[:10], test_labels_1, test_features):\n",
        "  predict(question_category_model, sent, real_label_1=label_1, real_label_2= label_2)"
      ],
      "execution_count": 61,
      "outputs": [
        {
          "output_type": "stream",
          "text": [
            "+---------------------------------------------------------+\n",
            "|            how many wings does a flea have ?            |\n",
            "+-------------------------------+------------+------------+\n",
            "| KEY                           | CATEGORY 1 | CATEGORY 2 |\n",
            "+-------------------------------+------------+------------+\n",
            "| PREDICTED CLASS               | 5          | 6          |\n",
            "| PREDICTED CLASS NAME          | NUMERIC    | count      |\n",
            "| REAL CLASS                    | 5          | 6          |\n",
            "| REAL CLASS NAME               | NUMERIC    | count      |\n",
            "| CONFIDENCE OVER OTHER CLASSES | 100.00%    | 99.96%     |\n",
            "+-------------------------------+------------+------------+\n",
            "+---------------------------------------------------------+\n",
            "|                who is samuel pickering ?                |\n",
            "+-------------------------------+------------+------------+\n",
            "| KEY                           | CATEGORY 1 | CATEGORY 2 |\n",
            "+-------------------------------+------------+------------+\n",
            "| PREDICTED CLASS               | 3          | 12         |\n",
            "| PREDICTED CLASS NAME          | HUMAN      | desc       |\n",
            "| REAL CLASS                    | 3          | 12         |\n",
            "| REAL CLASS NAME               | HUMAN      | desc       |\n",
            "| CONFIDENCE OVER OTHER CLASSES | 100.00%    | 98.90%     |\n",
            "+-------------------------------+------------+------------+\n",
            "+---------------------------------------------------------+\n",
            "|             how many watts make a kilowatt ?            |\n",
            "+-------------------------------+------------+------------+\n",
            "| KEY                           | CATEGORY 1 | CATEGORY 2 |\n",
            "+-------------------------------+------------+------------+\n",
            "| PREDICTED CLASS               | 5          | 6          |\n",
            "| PREDICTED CLASS NAME          | NUMERIC    | count      |\n",
            "| REAL CLASS                    | 5          | 6          |\n",
            "| REAL CLASS NAME               | NUMERIC    | count      |\n",
            "| CONFIDENCE OVER OTHER CLASSES | 100.00%    | 99.96%     |\n",
            "+-------------------------------+------------+------------+\n",
            "+--------------------------------------------------------------------------------+\n",
            "| independent silversmith 's account for what percentage of silver production ?  |\n",
            "+--------------------------------------------+-----------------+-----------------+\n",
            "| KEY                                        | CATEGORY 1      | CATEGORY 2      |\n",
            "+--------------------------------------------+-----------------+-----------------+\n",
            "| PREDICTED CLASS                            | 5               | 29              |\n",
            "| PREDICTED CLASS NAME                       | NUMERIC         | period          |\n",
            "| REAL CLASS                                 | 5               | 28              |\n",
            "| REAL CLASS NAME                            | NUMERIC         | perc            |\n",
            "| CONFIDENCE OVER OTHER CLASSES              | 89.34%          | 25.93%          |\n",
            "+--------------------------------------------+-----------------+-----------------+\n",
            "+------------------------------------------------------------------------------------------+\n",
            "| in the movie groundshog day what is the name of the character played by andie macdowell ? |\n",
            "+--------------------------------------------------+-------------------+-------------------+\n",
            "| KEY                                              | CATEGORY 1        | CATEGORY 2        |\n",
            "+--------------------------------------------------+-------------------+-------------------+\n",
            "| PREDICTED CLASS                                  | 2                 | 8                 |\n",
            "| PREDICTED CLASS NAME                             | ENTITY            | cremat            |\n",
            "| REAL CLASS                                       | 3                 | 19                |\n",
            "| REAL CLASS NAME                                  | HUMAN             | ind               |\n",
            "| CONFIDENCE OVER OTHER CLASSES                    | 99.74%            | 99.85%            |\n",
            "+--------------------------------------------------+-------------------+-------------------+\n",
            "+---------------------------------------------------------+\n",
            "|            when did they canonize the bible ?           |\n",
            "+-------------------------------+------------+------------+\n",
            "| KEY                           | CATEGORY 1 | CATEGORY 2 |\n",
            "+-------------------------------+------------+------------+\n",
            "| PREDICTED CLASS               | 5          | 10         |\n",
            "| PREDICTED CLASS NAME          | NUMERIC    | date       |\n",
            "| REAL CLASS                    | 5          | 10         |\n",
            "| REAL CLASS NAME               | NUMERIC    | date       |\n",
            "| CONFIDENCE OVER OTHER CLASSES | 100.00%    | 100.00%    |\n",
            "+-------------------------------+------------+------------+\n",
            "+----------------------------------------------------------+\n",
            "|              what is the root of all evil ?              |\n",
            "+-------------------------------+-------------+------------+\n",
            "| KEY                           | CATEGORY 1  | CATEGORY 2 |\n",
            "+-------------------------------+-------------+------------+\n",
            "| PREDICTED CLASS               | 1           | 11         |\n",
            "| PREDICTED CLASS NAME          | DESCRIPTION | def        |\n",
            "| REAL CLASS                    | 1           | 12         |\n",
            "| REAL CLASS NAME               | DESCRIPTION | desc       |\n",
            "| CONFIDENCE OVER OTHER CLASSES | 99.75%      | 98.15%     |\n",
            "+-------------------------------+-------------+------------+\n",
            "+---------------------------------------------------------+\n",
            "|        what are the largest libraries in the us ?       |\n",
            "+-------------------------------+------------+------------+\n",
            "| KEY                           | CATEGORY 1 | CATEGORY 2 |\n",
            "+-------------------------------+------------+------------+\n",
            "| PREDICTED CLASS               | 2          | 27         |\n",
            "| PREDICTED CLASS NAME          | ENTITY     | other      |\n",
            "| REAL CLASS                    | 4          | 27         |\n",
            "| REAL CLASS NAME               | LOCATION   | other      |\n",
            "| CONFIDENCE OVER OTHER CLASSES | 92.42%     | 91.97%     |\n",
            "+-------------------------------+------------+------------+\n",
            "+---------------------------------------------------------+\n",
            "|           who is john macarthur , 1767-1834 ?           |\n",
            "+-------------------------------+------------+------------+\n",
            "| KEY                           | CATEGORY 1 | CATEGORY 2 |\n",
            "+-------------------------------+------------+------------+\n",
            "| PREDICTED CLASS               | 3          | 12         |\n",
            "| PREDICTED CLASS NAME          | HUMAN      | desc       |\n",
            "| REAL CLASS                    | 3          | 12         |\n",
            "| REAL CLASS NAME               | HUMAN      | desc       |\n",
            "| CONFIDENCE OVER OTHER CLASSES | 100.00%    | 98.47%     |\n",
            "+-------------------------------+------------+------------+\n",
            "+---------------------------------------------------------+\n",
            "|      where can i find full written draft of ctbt ?      |\n",
            "+-------------------------------+------------+------------+\n",
            "| KEY                           | CATEGORY 1 | CATEGORY 2 |\n",
            "+-------------------------------+------------+------------+\n",
            "| PREDICTED CLASS               | 4          | 27         |\n",
            "| PREDICTED CLASS NAME          | LOCATION   | other      |\n",
            "| REAL CLASS                    | 4          | 27         |\n",
            "| REAL CLASS NAME               | LOCATION   | other      |\n",
            "| CONFIDENCE OVER OTHER CLASSES | 99.99%     | 99.85%     |\n",
            "+-------------------------------+------------+------------+\n"
          ],
          "name": "stdout"
        }
      ]
    },
    {
      "cell_type": "markdown",
      "metadata": {
        "id": "PeLYMB9Z7m19"
      },
      "source": [
        "### Confusion matrix."
      ]
    },
    {
      "cell_type": "markdown",
      "metadata": {
        "id": "095Bht5ulFXv"
      },
      "source": [
        "### Next.\n",
        "\n",
        "We are going to use `Conv` nets to do this task."
      ]
    },
    {
      "cell_type": "code",
      "metadata": {
        "id": "1A23i6hYDI42"
      },
      "source": [
        ""
      ],
      "execution_count": null,
      "outputs": []
    }
  ]
}