{
  "nbformat": 4,
  "nbformat_minor": 0,
  "metadata": {
    "colab": {
      "name": "02_Questions_Classifications_CNN.ipynb",
      "provenance": [],
      "collapsed_sections": []
    },
    "kernelspec": {
      "name": "python3",
      "display_name": "Python 3"
    },
    "language_info": {
      "name": "python"
    },
    "accelerator": "GPU"
  },
  "cells": [
    {
      "cell_type": "markdown",
      "metadata": {
        "id": "GQdMCuw_7n9c"
      },
      "source": [
        "### Questions Type Categories\n",
        "\n",
        "Based on the previous notebook we are going to use convnets to perform question classification in this notebook. There will be little changes from the previous notebook but whenever there's a change i will highlight the change.\n",
        "\n",
        "### You want to understand convnets in sequence data?\n",
        "* Check this [pytorch notebook](https://github.com/CrispenGari/PyTorch-Python/blob/main/09_TorchText/02_Sentiment_Analyisis_Series/04_CNN_Sentiment_Analyisis.ipynb) out."
      ]
    },
    {
      "cell_type": "markdown",
      "metadata": {
        "id": "kWfE6YK-8vJ0"
      },
      "source": [
        "### Imports"
      ]
    },
    {
      "cell_type": "code",
      "metadata": {
        "colab": {
          "base_uri": "https://localhost:8080/",
          "height": 35
        },
        "id": "Tba-zWww7lCj",
        "outputId": "7cbf360b-ee90-4588-dda2-658e21b39f9f"
      },
      "source": [
        "import os\n",
        "import numpy as np\n",
        "import tensorflow as tf\n",
        "from tensorflow import keras\n",
        "import csv, json, time\n",
        "import pandas as pd\n",
        "\n",
        "from sklearn.model_selection import train_test_split\n",
        "from sklearn.preprocessing import LabelEncoder\n",
        "\n",
        "tf.__version__"
      ],
      "execution_count": 1,
      "outputs": [
        {
          "output_type": "execute_result",
          "data": {
            "application/vnd.google.colaboratory.intrinsic+json": {
              "type": "string"
            },
            "text/plain": [
              "'2.5.0'"
            ]
          },
          "metadata": {
            "tags": []
          },
          "execution_count": 1
        }
      ]
    },
    {
      "cell_type": "markdown",
      "metadata": {
        "id": "04w51ddo9eZ6"
      },
      "source": [
        "### GPU"
      ]
    },
    {
      "cell_type": "code",
      "metadata": {
        "colab": {
          "base_uri": "https://localhost:8080/"
        },
        "id": "En6QPjhE9idy",
        "outputId": "5e2058f1-a9f3-4f08-c851-7f5cccaa67d9"
      },
      "source": [
        "devices = tf.config.list_physical_devices(\"GPU\")\n",
        "try:\n",
        "  tf.config.experimental.set_visible_devices(devices[0], \"GPU\")\n",
        "  print(\"GPU set\")\n",
        "except RuntimeError as e:\n",
        "  print(e)"
      ],
      "execution_count": 2,
      "outputs": [
        {
          "output_type": "stream",
          "text": [
            "GPU set\n"
          ],
          "name": "stdout"
        }
      ]
    },
    {
      "cell_type": "markdown",
      "metadata": {
        "id": "nJKnDsrA-DIa"
      },
      "source": [
        "### SEED"
      ]
    },
    {
      "cell_type": "code",
      "metadata": {
        "id": "qFNUg7KM7otT"
      },
      "source": [
        "SEED = 42\n",
        "tf.random.set_seed(\n",
        "    SEED\n",
        ")\n",
        "np.random.seed(SEED)"
      ],
      "execution_count": 3,
      "outputs": []
    },
    {
      "cell_type": "markdown",
      "metadata": {
        "id": "d1yJUQ93-mP5"
      },
      "source": [
        "### Mounting the google drive"
      ]
    },
    {
      "cell_type": "code",
      "metadata": {
        "id": "KB2TgepR7oqk",
        "colab": {
          "base_uri": "https://localhost:8080/"
        },
        "outputId": "65dc1c61-7a86-447c-da6f-2802218653f2"
      },
      "source": [
        "from google.colab import drive\n",
        "drive.mount('/content/drive')"
      ],
      "execution_count": 4,
      "outputs": [
        {
          "output_type": "stream",
          "text": [
            "Mounted at /content/drive\n"
          ],
          "name": "stdout"
        }
      ]
    },
    {
      "cell_type": "markdown",
      "metadata": {
        "id": "NhLek2KV--EB"
      },
      "source": [
        "### Data\n",
        "\n",
        "From the previous notebook we created the following files represending each set. This time we are going to load the data directly from these splitted csv files.\n",
        "\n",
        "```\n",
        "train.csv\n",
        "test.csv\n",
        "val.csv\n",
        "```"
      ]
    },
    {
      "cell_type": "code",
      "metadata": {
        "colab": {
          "base_uri": "https://localhost:8080/"
        },
        "id": "y7VB4u0F7onc",
        "outputId": "6082efe7-11c7-4c9b-8403-3cb21541db1a"
      },
      "source": [
        "data_path = os.path.join('/content/drive/MyDrive/NLP Data/questions-classification')\n",
        "os.listdir(data_path)"
      ],
      "execution_count": 5,
      "outputs": [
        {
          "output_type": "execute_result",
          "data": {
            "text/plain": [
              "['Question_Classification_Dataset.csv', 'val.csv', 'test.csv', 'train.csv']"
            ]
          },
          "metadata": {
            "tags": []
          },
          "execution_count": 5
        }
      ]
    },
    {
      "cell_type": "markdown",
      "metadata": {
        "id": "BkMpy0smDE74"
      },
      "source": [
        "### Loading the files"
      ]
    },
    {
      "cell_type": "code",
      "metadata": {
        "id": "zJW7hRlFBRW_"
      },
      "source": [
        "train_path = \"train.csv\"\n",
        "test_path = \"test.csv\"\n",
        "val_path = \"val.csv\"\n",
        "\n",
        "train_dataframe = pd.read_csv(\n",
        "    os.path.join(data_path, train_path)\n",
        ")\n",
        "val_dataframe = pd.read_csv(\n",
        "    os.path.join(data_path, val_path)\n",
        ")\n",
        "test_dataframe = pd.read_csv(\n",
        "    os.path.join(data_path, test_path)\n",
        ")"
      ],
      "execution_count": 7,
      "outputs": []
    },
    {
      "cell_type": "markdown",
      "metadata": {
        "id": "bHW6hdTtEoIs"
      },
      "source": [
        "### Question Classes"
      ]
    },
    {
      "cell_type": "code",
      "metadata": {
        "colab": {
          "base_uri": "https://localhost:8080/"
        },
        "id": "N70ykjDWErrI",
        "outputId": "4edfa19d-dabc-4d1e-cbe3-4e4ca7e7621e"
      },
      "source": [
        "train_dataframe.Category0.unique()"
      ],
      "execution_count": 8,
      "outputs": [
        {
          "output_type": "execute_result",
          "data": {
            "text/plain": [
              "array(['ENTITY', 'NUMERIC', 'HUMAN', 'LOCATION', 'DESCRIPTION',\n",
              "       'ABBREVIATION'], dtype=object)"
            ]
          },
          "metadata": {
            "tags": []
          },
          "execution_count": 8
        }
      ]
    },
    {
      "cell_type": "markdown",
      "metadata": {
        "id": "kK-ZY6iTE0gf"
      },
      "source": [
        "As you can see we have `6` different categories for these questions which are:\n",
        "```\n",
        "categories = ['ENTITY', 'DESCRIPTION', 'NUMERIC', 'HUMAN', 'LOCATION',\n",
        "       'ABBREVIATION']\n",
        "```"
      ]
    },
    {
      "cell_type": "markdown",
      "metadata": {
        "id": "mmKWlrTiDP_3"
      },
      "source": [
        "For now we are interested in the question and the class the question belongs to so we are going to target the following columns:\n",
        "\n",
        "```\n",
        "1. Questions\n",
        "2. Category0\n",
        "```"
      ]
    },
    {
      "cell_type": "markdown",
      "metadata": {
        "id": "nNkdkG-qDvv_"
      },
      "source": [
        "### Features and Labels"
      ]
    },
    {
      "cell_type": "code",
      "metadata": {
        "id": "bftB-ql3BRRb"
      },
      "source": [
        "train_features = train_dataframe.Questions.values\n",
        "train_labels = train_dataframe.Category0.values\n",
        "\n",
        "test_features = test_dataframe.Questions.values\n",
        "test_labels = test_dataframe.Category0.values\n",
        "\n",
        "val_features = val_dataframe.Questions.values\n",
        "val_labels = val_dataframe.Category0.values\n"
      ],
      "execution_count": 9,
      "outputs": []
    },
    {
      "cell_type": "markdown",
      "metadata": {
        "id": "2MSTPezSEIlP"
      },
      "source": [
        "### Label Encoding.\n",
        "\n",
        "We are going to create encode the labels to numerical represantation using the `sklearn` `LabelEncoder` class."
      ]
    },
    {
      "cell_type": "code",
      "metadata": {
        "colab": {
          "base_uri": "https://localhost:8080/"
        },
        "id": "Y5L5jkryBROc",
        "outputId": "808c68c4-a75c-43b1-e7f4-48afdc04c574"
      },
      "source": [
        "label_encoder = LabelEncoder()\n",
        "label_encoder.fit(train_labels)"
      ],
      "execution_count": 10,
      "outputs": [
        {
          "output_type": "execute_result",
          "data": {
            "text/plain": [
              "LabelEncoder()"
            ]
          },
          "metadata": {
            "tags": []
          },
          "execution_count": 10
        }
      ]
    },
    {
      "cell_type": "code",
      "metadata": {
        "id": "RvnD8udFEkXR"
      },
      "source": [
        "train_labels = label_encoder.transform(train_labels)\n",
        "test_labels = label_encoder.transform(test_labels)\n",
        "val_labels = label_encoder.transform(val_labels)"
      ],
      "execution_count": 11,
      "outputs": []
    },
    {
      "cell_type": "code",
      "metadata": {
        "colab": {
          "base_uri": "https://localhost:8080/"
        },
        "id": "vfgrW-wEFbTf",
        "outputId": "f017aa91-2393-4678-94b7-1529278a75e4"
      },
      "source": [
        "class_names = label_encoder.classes_\n",
        "class_names "
      ],
      "execution_count": 12,
      "outputs": [
        {
          "output_type": "execute_result",
          "data": {
            "text/plain": [
              "array(['ABBREVIATION', 'DESCRIPTION', 'ENTITY', 'HUMAN', 'LOCATION',\n",
              "       'NUMERIC'], dtype=object)"
            ]
          },
          "metadata": {
            "tags": []
          },
          "execution_count": 12
        }
      ]
    },
    {
      "cell_type": "code",
      "metadata": {
        "colab": {
          "base_uri": "https://localhost:8080/"
        },
        "id": "WtEkFYpFEkUd",
        "outputId": "b42f88ba-bef6-46e3-b968-6465f544173d"
      },
      "source": [
        "train_labels[:10]"
      ],
      "execution_count": 13,
      "outputs": [
        {
          "output_type": "execute_result",
          "data": {
            "text/plain": [
              "array([2, 5, 3, 3, 3, 2, 5, 5, 3, 4])"
            ]
          },
          "metadata": {
            "tags": []
          },
          "execution_count": 13
        }
      ]
    },
    {
      "cell_type": "markdown",
      "metadata": {
        "id": "OSvtocxDFpIC"
      },
      "source": [
        "### Next we are going to `one_hot_encode` labels.\n",
        "\n",
        "We are only going to `one_hot` encode the train and validation labels. The test set we don't even care about it since we will be using it for model inference. I'm going to use the `numpy` method `eye`. You can use the `sklearn` ``OneHotEncoder`` class or the `tensorflow` method `one_hot`. To make this simple i will create a helper function that will encode the labels to one hot for me. I will then map through labels applying the `one_hot()` function to each label in the labels list."
      ]
    },
    {
      "cell_type": "code",
      "metadata": {
        "colab": {
          "base_uri": "https://localhost:8080/"
        },
        "id": "98xpro7gEkRW",
        "outputId": "4e37ef4d-b42e-4a44-9fb3-eaf6e94c3210"
      },
      "source": [
        "def one_hot(index, depth=6): # 6 classes\n",
        "  return np.eye(depth, dtype=np.float32)[index]\n",
        "\n",
        "one_hot(2)"
      ],
      "execution_count": 14,
      "outputs": [
        {
          "output_type": "execute_result",
          "data": {
            "text/plain": [
              "array([0., 0., 1., 0., 0., 0.], dtype=float32)"
            ]
          },
          "metadata": {
            "tags": []
          },
          "execution_count": 14
        }
      ]
    },
    {
      "cell_type": "code",
      "metadata": {
        "id": "JShSsfbNEkMu"
      },
      "source": [
        "train_labels_one_hot = np.array(list(map(one_hot, train_labels)))\n",
        "val_labels_one_hot = np.array(list(map(one_hot, val_labels)))"
      ],
      "execution_count": 15,
      "outputs": []
    },
    {
      "cell_type": "code",
      "metadata": {
        "colab": {
          "base_uri": "https://localhost:8080/"
        },
        "id": "ma1c02IgEkGm",
        "outputId": "bf4fc3d3-2a2b-4b86-acbc-3da5453f4885"
      },
      "source": [
        "train_labels_one_hot[0]"
      ],
      "execution_count": 16,
      "outputs": [
        {
          "output_type": "execute_result",
          "data": {
            "text/plain": [
              "array([0., 0., 1., 0., 0., 0.], dtype=float32)"
            ]
          },
          "metadata": {
            "tags": []
          },
          "execution_count": 16
        }
      ]
    },
    {
      "cell_type": "markdown",
      "metadata": {
        "id": "j9VDpFIUHYve"
      },
      "source": [
        "### Features\n",
        "\n",
        " For now we are done with labels. In our case our feature is a question. All we need to do in this dataset is to create a helper function that will convert the text to lower case that's all we need. \n",
        "\n",
        " After that we will then prepare/preprocess the train and validation features for the model."
      ]
    },
    {
      "cell_type": "code",
      "metadata": {
        "id": "lepgcaB0Ej-m"
      },
      "source": [
        "to_lower = lambda sent: sent.lower()"
      ],
      "execution_count": 17,
      "outputs": []
    },
    {
      "cell_type": "code",
      "metadata": {
        "id": "F9TwFIXrH5DW"
      },
      "source": [
        "train_features = np.array(\n",
        "    list(\n",
        "        map(to_lower, train_features)\n",
        "    )\n",
        ")\n",
        "val_features= np.array(\n",
        "    list(\n",
        "        map(to_lower, val_features)\n",
        "    )\n",
        ")"
      ],
      "execution_count": 18,
      "outputs": []
    },
    {
      "cell_type": "code",
      "metadata": {
        "colab": {
          "base_uri": "https://localhost:8080/"
        },
        "id": "lZb6STrmH5Af",
        "outputId": "7a3ad452-328f-4a92-a717-16616671a799"
      },
      "source": [
        "train_features[:2]"
      ],
      "execution_count": 19,
      "outputs": [
        {
          "output_type": "execute_result",
          "data": {
            "text/plain": [
              "array(['what does salk vaccine prevent ?',\n",
              "       \"how many times a day should you take a prescription marked `` q.i.d . '' ?\"],\n",
              "      dtype='<U196')"
            ]
          },
          "metadata": {
            "tags": []
          },
          "execution_count": 19
        }
      ]
    },
    {
      "cell_type": "markdown",
      "metadata": {
        "id": "URlFb83DIjR-"
      },
      "source": [
        "### Preprocessing Features(Questions)\n",
        "\n",
        "1. Create a vocabulary\n",
        "2. Create a `stoi` from each sentencs\n",
        "3. pad the sentences to have the same size\n",
        "\n",
        "**Note** - During creation of the vocabulary we are going to use the `train` set. The model should not have an idea about the validation set, because we want the validation set to represent the test set as mush as possible."
      ]
    },
    {
      "cell_type": "markdown",
      "metadata": {
        "id": "OeafBB2NJtKv"
      },
      "source": [
        "### Vocab size, (aka) the number of unique words.\n",
        "\n",
        "I'm going to use spacy to tokenize each sentence and then we count number of unique words in the train set."
      ]
    },
    {
      "cell_type": "code",
      "metadata": {
        "id": "MhSvXYM3H484"
      },
      "source": [
        "from collections import Counter\n",
        "from nltk.tokenize import word_tokenize"
      ],
      "execution_count": 20,
      "outputs": []
    },
    {
      "cell_type": "code",
      "metadata": {
        "id": "-iw1bCFuahxd"
      },
      "source": [
        "import nltk\n",
        "nltk.download('punkt')"
      ],
      "execution_count": null,
      "outputs": []
    },
    {
      "cell_type": "code",
      "metadata": {
        "colab": {
          "base_uri": "https://localhost:8080/",
          "height": 35
        },
        "id": "KUs78gVCK3oc",
        "outputId": "eada100f-0a3b-46c4-acd3-ef4cb04c5afe"
      },
      "source": [
        "train_features[0]"
      ],
      "execution_count": 22,
      "outputs": [
        {
          "output_type": "execute_result",
          "data": {
            "application/vnd.google.colaboratory.intrinsic+json": {
              "type": "string"
            },
            "text/plain": [
              "'what does salk vaccine prevent ?'"
            ]
          },
          "metadata": {
            "tags": []
          },
          "execution_count": 22
        }
      ]
    },
    {
      "cell_type": "code",
      "metadata": {
        "colab": {
          "base_uri": "https://localhost:8080/"
        },
        "id": "OsGjWD5fH45o",
        "outputId": "8dba707e-b745-4008-999d-ed12f39581d1"
      },
      "source": [
        "counter = Counter()\n",
        "for sent in list(train_features):\n",
        "  words = word_tokenize(sent)\n",
        "  for word in words:\n",
        "    counter[word] += 1\n",
        "counter.most_common(9)"
      ],
      "execution_count": 23,
      "outputs": [
        {
          "output_type": "execute_result",
          "data": {
            "text/plain": [
              "[('?', 3418),\n",
              " ('the', 2383),\n",
              " ('what', 2159),\n",
              " ('is', 1084),\n",
              " ('of', 988),\n",
              " ('in', 751),\n",
              " ('a', 675),\n",
              " ('how', 503),\n",
              " (\"'s\", 447)]"
            ]
          },
          "metadata": {
            "tags": []
          },
          "execution_count": 23
        }
      ]
    },
    {
      "cell_type": "code",
      "metadata": {
        "colab": {
          "base_uri": "https://localhost:8080/"
        },
        "id": "_QasvHrNH439",
        "outputId": "e0dde91a-9719-40a9-8325-caf712f99067"
      },
      "source": [
        "counter.most_common(20)"
      ],
      "execution_count": 24,
      "outputs": [
        {
          "output_type": "execute_result",
          "data": {
            "text/plain": [
              "[('?', 3418),\n",
              " ('the', 2383),\n",
              " ('what', 2159),\n",
              " ('is', 1084),\n",
              " ('of', 988),\n",
              " ('in', 751),\n",
              " ('a', 675),\n",
              " ('how', 503),\n",
              " (\"'s\", 447),\n",
              " ('was', 416),\n",
              " ('to', 406),\n",
              " ('who', 399),\n",
              " (',', 370),\n",
              " ('for', 298),\n",
              " ('are', 275),\n",
              " ('and', 271),\n",
              " ('does', 255),\n",
              " (\"''\", 251),\n",
              " ('``', 249),\n",
              " ('did', 240)]"
            ]
          },
          "metadata": {
            "tags": []
          },
          "execution_count": 24
        }
      ]
    },
    {
      "cell_type": "code",
      "metadata": {
        "id": "4i4QuWnFH4zn",
        "colab": {
          "base_uri": "https://localhost:8080/"
        },
        "outputId": "4cb8db83-64cf-4c2f-9f98-91a45549dcb2"
      },
      "source": [
        "vocab_size = len(counter)\n",
        "vocab_size"
      ],
      "execution_count": 25,
      "outputs": [
        {
          "output_type": "execute_result",
          "data": {
            "text/plain": [
              "6568"
            ]
          },
          "metadata": {
            "tags": []
          },
          "execution_count": 25
        }
      ]
    },
    {
      "cell_type": "markdown",
      "metadata": {
        "id": "3Wt1l8iRNax1"
      },
      "source": [
        "We have `~6K` unique words in the train set. Next we are going to create word vectors.\n",
        "\n",
        "### Word vectors"
      ]
    },
    {
      "cell_type": "code",
      "metadata": {
        "id": "tBRz0Zy9NaUy"
      },
      "source": [
        "from tensorflow.keras.preprocessing.text import Tokenizer\n",
        "from tensorflow.keras.preprocessing.sequence import pad_sequences"
      ],
      "execution_count": 26,
      "outputs": []
    },
    {
      "cell_type": "code",
      "metadata": {
        "id": "VJQHeRXGH4wt"
      },
      "source": [
        "tokenizer = Tokenizer(num_words=vocab_size)\n",
        "tokenizer.fit_on_texts(train_features)"
      ],
      "execution_count": 27,
      "outputs": []
    },
    {
      "cell_type": "code",
      "metadata": {
        "id": "IROMgVyOOLx2"
      },
      "source": [
        "word_indices = tokenizer.word_index\n",
        "word_indices_reversed = dict([\n",
        "    (v, k) for (k, v) in word_indices.items()\n",
        "])"
      ],
      "execution_count": 28,
      "outputs": []
    },
    {
      "cell_type": "markdown",
      "metadata": {
        "id": "HrWXjlGBOq3K"
      },
      "source": [
        "### Helper functions\n",
        "\n",
        "We will create some helper function that converts sequences to text and text to sequences. These function will be used for inference later on."
      ]
    },
    {
      "cell_type": "code",
      "metadata": {
        "id": "nnvyz4D8OLv3"
      },
      "source": [
        "def seq_to_text(sequences):\n",
        "  return \" \".join(word_indices_reversed[i] for i in sequences )\n",
        "\n",
        "def text_to_seq(sent):\n",
        "  words = word_tokenize(sent.lower())\n",
        "  sequences = []\n",
        "  for word in words:\n",
        "    try:\n",
        "      sequences.append(word_indices[word])\n",
        "    except:\n",
        "      sequences.append(0)\n",
        "  return sequences"
      ],
      "execution_count": 29,
      "outputs": []
    },
    {
      "cell_type": "markdown",
      "metadata": {
        "id": "sCSLlCFUP6yN"
      },
      "source": [
        "### Pretrained embeding weights\n",
        "\n",
        "Since this model is using RNN's we are going to use the `pretrained glove.6B` word embeddings. I've already uploaded these word embedding on my google colab so that we can load them as follows"
      ]
    },
    {
      "cell_type": "code",
      "metadata": {
        "id": "4HD8kSN8OLrI"
      },
      "source": [
        "embedding_path = \"/content/drive/MyDrive/NLP Data/glove.6B/glove.6B.100d.txt\"\n"
      ],
      "execution_count": 30,
      "outputs": []
    },
    {
      "cell_type": "code",
      "metadata": {
        "id": "KhdEwrHqOLoP"
      },
      "source": [
        "embedding_dict = dict()\n",
        "with open(embedding_path, encoding=\"utf8\") as glove:\n",
        "  for line in glove:\n",
        "    records = line.split();\n",
        "    word = records[0]\n",
        "    vectors = np.asarray(records[1: ], dtype=np.float32)\n",
        "    embedding_dict[word] = vectors"
      ],
      "execution_count": 31,
      "outputs": []
    },
    {
      "cell_type": "code",
      "metadata": {
        "colab": {
          "base_uri": "https://localhost:8080/"
        },
        "id": "l0AtapypRfPo",
        "outputId": "34736fd6-2d45-4e24-b116-7421e5f708bb"
      },
      "source": [
        "print(len(embedding_dict))\n",
        "embedding_dict[\"what\"].shape"
      ],
      "execution_count": 32,
      "outputs": [
        {
          "output_type": "stream",
          "text": [
            "400000\n"
          ],
          "name": "stdout"
        },
        {
          "output_type": "execute_result",
          "data": {
            "text/plain": [
              "(100,)"
            ]
          },
          "metadata": {
            "tags": []
          },
          "execution_count": 32
        }
      ]
    },
    {
      "cell_type": "markdown",
      "metadata": {
        "id": "OzCbRVfISdvV"
      },
      "source": [
        "### But wait? `40000` words? Where are they comming from?\n",
        "Okay don't panic we will create the embedding matrix that will suit our vocab_size next."
      ]
    },
    {
      "cell_type": "markdown",
      "metadata": {
        "id": "RcLVeXuIRRJk"
      },
      "source": [
        "### Embedding matrix\n",
        "We will then create an embedding matrix that will suit our data."
      ]
    },
    {
      "cell_type": "code",
      "metadata": {
        "id": "lFtPge6SOLlh"
      },
      "source": [
        "embedding_matrix = np.zeros((vocab_size, 100))\n",
        "\n",
        "for word, index in word_indices.items():\n",
        "  vector = embedding_dict.get(word)\n",
        "  if vector is not None:\n",
        "    try:\n",
        "      embedding_matrix[index] = vector\n",
        "    except IndexError or Exception:\n",
        "      pass"
      ],
      "execution_count": 33,
      "outputs": []
    },
    {
      "cell_type": "code",
      "metadata": {
        "id": "xKXJINrqH4ss",
        "colab": {
          "base_uri": "https://localhost:8080/"
        },
        "outputId": "4a72d11c-d093-4492-8152-ba3f52a55117"
      },
      "source": [
        "len(embedding_matrix)"
      ],
      "execution_count": 34,
      "outputs": [
        {
          "output_type": "execute_result",
          "data": {
            "text/plain": [
              "6568"
            ]
          },
          "metadata": {
            "tags": []
          },
          "execution_count": 34
        }
      ]
    },
    {
      "cell_type": "markdown",
      "metadata": {
        "id": "gNSFvhDsSU1g"
      },
      "source": [
        "Now the `embedding_matrix` suits our data which has `6592` words."
      ]
    },
    {
      "cell_type": "markdown",
      "metadata": {
        "id": "IqimwH32S958"
      },
      "source": [
        "### Creating Sequences"
      ]
    },
    {
      "cell_type": "code",
      "metadata": {
        "id": "D3lV_wdAH4pu"
      },
      "source": [
        "train_sequences = tokenizer.texts_to_sequences(train_features)\n",
        "val_sequences = tokenizer.texts_to_sequences(val_features)"
      ],
      "execution_count": 35,
      "outputs": []
    },
    {
      "cell_type": "code",
      "metadata": {
        "colab": {
          "base_uri": "https://localhost:8080/"
        },
        "id": "6tLt3TE5TUBI",
        "outputId": "9d860a40-5c3d-494f-a9d9-3a5f269df2c2"
      },
      "source": [
        "val_sequences[0], val_features[0]"
      ],
      "execution_count": 36,
      "outputs": [
        {
          "output_type": "execute_result",
          "data": {
            "text/plain": [
              "([2, 39, 3, 364, 36, 401], 'what city is served by tempelhol airport ?')"
            ]
          },
          "metadata": {
            "tags": []
          },
          "execution_count": 36
        }
      ]
    },
    {
      "cell_type": "markdown",
      "metadata": {
        "id": "2Yhc5-uHTgMx"
      },
      "source": [
        "### Testing our helper functions"
      ]
    },
    {
      "cell_type": "code",
      "metadata": {
        "colab": {
          "base_uri": "https://localhost:8080/",
          "height": 35
        },
        "id": "6rqtbAGmTT8o",
        "outputId": "e003c396-b9c8-42cb-f371-bf0bb1a39550"
      },
      "source": [
        "seq_to_text(val_sequences[0])"
      ],
      "execution_count": 37,
      "outputs": [
        {
          "output_type": "execute_result",
          "data": {
            "application/vnd.google.colaboratory.intrinsic+json": {
              "type": "string"
            },
            "text/plain": [
              "'what city is served by airport'"
            ]
          },
          "metadata": {
            "tags": []
          },
          "execution_count": 37
        }
      ]
    },
    {
      "cell_type": "code",
      "metadata": {
        "colab": {
          "base_uri": "https://localhost:8080/"
        },
        "id": "5p2BcCG7TkzY",
        "outputId": "8607b55e-5723-490c-a50e-760ff4163373"
      },
      "source": [
        "text_to_seq(\"this is why the unknownnnn word ?\")"
      ],
      "execution_count": 38,
      "outputs": [
        {
          "output_type": "execute_result",
          "data": {
            "text/plain": [
              "[456, 3, 45, 1, 0, 70, 0]"
            ]
          },
          "metadata": {
            "tags": []
          },
          "execution_count": 38
        }
      ]
    },
    {
      "cell_type": "markdown",
      "metadata": {
        "id": "8ZR5TZsrTkHh"
      },
      "source": [
        "### Pad sequences\n",
        "\n",
        "Our final step is to pad our suquences to have the same length. We are going to do this on the train and validation sets only."
      ]
    },
    {
      "cell_type": "code",
      "metadata": {
        "id": "oBLPnTTQTT4g"
      },
      "source": [
        "max_words = 100\n",
        "\n",
        "train_tokens_padded = pad_sequences(\n",
        "    train_sequences, \n",
        "    maxlen=max_words, \n",
        "    padding=\"post\", \n",
        "    truncating=\"post\"\n",
        ")\n",
        "val_tokens_padded = pad_sequences(\n",
        "    val_sequences, \n",
        "    maxlen=max_words, \n",
        "    padding=\"post\", \n",
        "    truncating=\"post\"\n",
        ")"
      ],
      "execution_count": 39,
      "outputs": []
    },
    {
      "cell_type": "markdown",
      "metadata": {
        "id": "g72XFW_vUz-C"
      },
      "source": [
        "### Building the model.\n",
        "\n",
        "Unlike from the previous model we used bidirectional RNN, this time around we will be using the `Conv1D` layer and the apply the `GlobalAveragePooling1D()` so that we will be able to pass the output of the  `Conv1D` to dense layers that follows:\n",
        "\n",
        "\n",
        "Model Achitecture.\n",
        "\n",
        "````\n",
        "                [ Embedding Layer]\n",
        "                        |\n",
        "                        |\n",
        "                    [ Conv1D ]\n",
        "                        |\n",
        "                        |\n",
        "                    [ Conv1D ]\n",
        "                        |\n",
        "                        |\n",
        "                    [ Dropout ]\n",
        "                        |\n",
        "                        | \n",
        "                    [ Conv1D ]\n",
        "                        |\n",
        "                        |\n",
        "                    [ Conv1D ]\n",
        "                        |\n",
        "                        |\n",
        "                    [ Dropout ]\n",
        "                        |\n",
        "                        |\n",
        "             [ GlobalAveragePooling1D]\n",
        "                        |\n",
        "                        |\n",
        "                 [Dense Layer 1]\n",
        "                        |\n",
        "                        | \n",
        "                   [ Dropout ]\n",
        "                        |\n",
        "                        |   \n",
        "                 [Dense Layer 2]\n",
        "                        |\n",
        "                        | \n",
        "                   [ Dropout ]\n",
        "                        |\n",
        "                        |\n",
        "                 [Dense Layer 3] (output [6 classes])\n",
        "````\n",
        "\n",
        "This model achitecture will have ~70% less parameters that the previous model."
      ]
    },
    {
      "cell_type": "code",
      "metadata": {
        "id": "UM0f0fL-TTz7",
        "colab": {
          "base_uri": "https://localhost:8080/"
        },
        "outputId": "61d8d8eb-7fe6-43d3-eb9c-6dfd65e65e93"
      },
      "source": [
        "question_category_model = keras.Sequential([\n",
        "      keras.layers.Embedding(\n",
        "        vocab_size, 100, \n",
        "        input_length=max_words,\n",
        "        weights=[embedding_matrix], \n",
        "        trainable=True,\n",
        "        name = \"embedding_layer\"\n",
        "      ),\n",
        "      keras.layers.Conv1D(64, 3, 1, activation=\"relu\", name=\"conv_layer_1\"),\n",
        "      keras.layers.Conv1D(512, 3, 1, activation=\"relu\", name=\"conv_layer_2\"),\n",
        "      keras.layers.Dropout(rate= .5, name=\"dropout_layer_0_0\"),\n",
        "      keras.layers.Conv1D(512, 3, 1, activation=\"relu\", name=\"conv_layer_3\"),\n",
        "      keras.layers.Conv1D(128, 3, 1, activation=\"relu\", name=\"conv_layer_4\"),\n",
        "      keras.layers.Dropout(rate= .5, name=\"dropout_layer_0_1\"),\n",
        "      keras.layers.GlobalAveragePooling1D(name=\"pooling_layer\"),\n",
        "      keras.layers.Dense(64, activation='relu', name=\"dense_1\"),\n",
        "      keras.layers.Dropout(rate= .5, name=\"dropout_layer_0\"),\n",
        "      keras.layers.Dense(512, activation='relu', name=\"dense_2\"),\n",
        "      keras.layers.Dropout(rate= .5, name=\"dropout_layer_1\"),\n",
        "      keras.layers.Dense(6, activation='softmax', name=\"output\"),\n",
        "], name = \"question_category_model\")\n",
        "\n",
        "question_category_model.summary()"
      ],
      "execution_count": 48,
      "outputs": [
        {
          "output_type": "stream",
          "text": [
            "Model: \"question_category_model\"\n",
            "_________________________________________________________________\n",
            "Layer (type)                 Output Shape              Param #   \n",
            "=================================================================\n",
            "embedding_layer (Embedding)  (None, 100, 100)          656800    \n",
            "_________________________________________________________________\n",
            "conv_layer_1 (Conv1D)        (None, 98, 64)            19264     \n",
            "_________________________________________________________________\n",
            "conv_layer_2 (Conv1D)        (None, 96, 512)           98816     \n",
            "_________________________________________________________________\n",
            "dropout_layer_0_0 (Dropout)  (None, 96, 512)           0         \n",
            "_________________________________________________________________\n",
            "conv_layer_3 (Conv1D)        (None, 94, 512)           786944    \n",
            "_________________________________________________________________\n",
            "conv_layer_4 (Conv1D)        (None, 92, 128)           196736    \n",
            "_________________________________________________________________\n",
            "dropout_layer_0_1 (Dropout)  (None, 92, 128)           0         \n",
            "_________________________________________________________________\n",
            "pooling_layer (GlobalAverage (None, 128)               0         \n",
            "_________________________________________________________________\n",
            "dense_1 (Dense)              (None, 64)                8256      \n",
            "_________________________________________________________________\n",
            "dropout_layer_0 (Dropout)    (None, 64)                0         \n",
            "_________________________________________________________________\n",
            "dense_2 (Dense)              (None, 512)               33280     \n",
            "_________________________________________________________________\n",
            "dropout_layer_1 (Dropout)    (None, 512)               0         \n",
            "_________________________________________________________________\n",
            "output (Dense)               (None, 6)                 3078      \n",
            "=================================================================\n",
            "Total params: 1,803,174\n",
            "Trainable params: 1,803,174\n",
            "Non-trainable params: 0\n",
            "_________________________________________________________________\n"
          ],
          "name": "stdout"
        }
      ]
    },
    {
      "cell_type": "markdown",
      "metadata": {
        "id": "II8o2G6ka_YH"
      },
      "source": [
        "### Compiling the model\n",
        "\n",
        "Again we are going to compile our model and we will use the `EalyStopping` call back."
      ]
    },
    {
      "cell_type": "code",
      "metadata": {
        "id": "k51Yua1vTTw4"
      },
      "source": [
        "early_stopping = keras.callbacks.EarlyStopping(\n",
        "     monitor='val_loss',\n",
        "    min_delta=0,\n",
        "    patience=5,\n",
        "    verbose=1,\n",
        "    mode='auto',\n",
        "    baseline=None,\n",
        "    restore_best_weights=False,\n",
        ")\n",
        "\n",
        "question_category_model.compile(\n",
        "    loss = keras.losses.CategoricalCrossentropy(from_logits=False),\n",
        "    optimizer = keras.optimizers.Adam(1e-3, 0.5),\n",
        "    metrics = [\"accuracy\"]\n",
        ")"
      ],
      "execution_count": 49,
      "outputs": []
    },
    {
      "cell_type": "markdown",
      "metadata": {
        "id": "nufxR3sjh0ZI"
      },
      "source": [
        "### How long should we train the model?\n",
        "We are going to train the model for more epochs, as soon as the model loss stop decreasing we will stop."
      ]
    },
    {
      "cell_type": "code",
      "metadata": {
        "id": "JEvAF2NFTTtt",
        "colab": {
          "base_uri": "https://localhost:8080/"
        },
        "outputId": "de1a8d7b-444d-4cea-c79c-d382e2b710e7"
      },
      "source": [
        "EPOCHS = 50\n",
        "\n",
        "history = question_category_model.fit(\n",
        "    train_tokens_padded, train_labels_one_hot,\n",
        "    validation_data = (\n",
        "        val_tokens_padded, val_labels_one_hot\n",
        "    ),\n",
        "    verbose = 1,\n",
        "    epochs = EPOCHS,\n",
        "    batch_size = 64,\n",
        "    shuffle = True,\n",
        "    validation_batch_size = 16,\n",
        "    callbacks = [early_stopping]\n",
        ")"
      ],
      "execution_count": 50,
      "outputs": [
        {
          "output_type": "stream",
          "text": [
            "Epoch 1/50\n",
            "55/55 [==============================] - 3s 37ms/step - loss: 1.6764 - accuracy: 0.2480 - val_loss: 1.6001 - val_accuracy: 0.3428\n",
            "Epoch 2/50\n",
            "55/55 [==============================] - 2s 31ms/step - loss: 1.6111 - accuracy: 0.2936 - val_loss: 1.5450 - val_accuracy: 0.3593\n",
            "Epoch 3/50\n",
            "55/55 [==============================] - 2s 32ms/step - loss: 1.4633 - accuracy: 0.3979 - val_loss: 1.3281 - val_accuracy: 0.4473\n",
            "Epoch 4/50\n",
            "55/55 [==============================] - 2s 32ms/step - loss: 1.2505 - accuracy: 0.4805 - val_loss: 1.2038 - val_accuracy: 0.5041\n",
            "Epoch 5/50\n",
            "55/55 [==============================] - 2s 32ms/step - loss: 1.0543 - accuracy: 0.5923 - val_loss: 1.3079 - val_accuracy: 0.4968\n",
            "Epoch 6/50\n",
            "55/55 [==============================] - 2s 31ms/step - loss: 0.8561 - accuracy: 0.6809 - val_loss: 1.0389 - val_accuracy: 0.6535\n",
            "Epoch 7/50\n",
            "55/55 [==============================] - 2s 32ms/step - loss: 0.6252 - accuracy: 0.7856 - val_loss: 0.9599 - val_accuracy: 0.6929\n",
            "Epoch 8/50\n",
            "55/55 [==============================] - 2s 32ms/step - loss: 0.4291 - accuracy: 0.8675 - val_loss: 0.9923 - val_accuracy: 0.7241\n",
            "Epoch 9/50\n",
            "55/55 [==============================] - 2s 32ms/step - loss: 0.3235 - accuracy: 0.8991 - val_loss: 1.0231 - val_accuracy: 0.7369\n",
            "Epoch 10/50\n",
            "55/55 [==============================] - 2s 33ms/step - loss: 0.2691 - accuracy: 0.9134 - val_loss: 1.0008 - val_accuracy: 0.7305\n",
            "Epoch 11/50\n",
            "55/55 [==============================] - 2s 32ms/step - loss: 0.1922 - accuracy: 0.9392 - val_loss: 0.9924 - val_accuracy: 0.7553\n",
            "Epoch 12/50\n",
            "55/55 [==============================] - 2s 32ms/step - loss: 0.1442 - accuracy: 0.9541 - val_loss: 1.1303 - val_accuracy: 0.7516\n",
            "Epoch 00012: early stopping\n"
          ],
          "name": "stdout"
        }
      ]
    },
    {
      "cell_type": "markdown",
      "metadata": {
        "id": "vfH5l0XGBQ4v"
      },
      "source": [
        "### Evaluating the model.\n",
        "\n",
        "We are going to evaluate the model on the test data. Remeber in the evaluate method we need to pass the data in the same shape we trained on so the test features and labels need to be processed.\n",
        "\n",
        "### OneHot encode the test labels"
      ]
    },
    {
      "cell_type": "code",
      "metadata": {
        "id": "lEMl76TxdKJU"
      },
      "source": [
        "test_labels_one_hot = np.array(list(map(one_hot, test_labels)))"
      ],
      "execution_count": 51,
      "outputs": []
    },
    {
      "cell_type": "markdown",
      "metadata": {
        "id": "gROvNEuzdRU6"
      },
      "source": [
        "### Converting test data to numeric and then pad it."
      ]
    },
    {
      "cell_type": "code",
      "metadata": {
        "colab": {
          "base_uri": "https://localhost:8080/"
        },
        "id": "sJVm515sdYW0",
        "outputId": "fdd3db61-37fd-4bc0-9acf-8956ef1f2cc5"
      },
      "source": [
        "def text_to_padded_sequences(sent):\n",
        "  tokens = text_to_seq(sent)\n",
        "  padded_tokens = pad_sequences([tokens], maxlen=max_words, padding=\"post\", truncating=\"post\")\n",
        "  return tf.squeeze(padded_tokens)\n",
        "\n",
        "test_features_padded =  np.array(list(map(text_to_padded_sequences, test_features)))\n",
        "\n",
        "question_category_model.evaluate(\n",
        "    test_features_padded,\n",
        "    test_labels_one_hot,\n",
        "    verbose = 1,\n",
        "    batch_size = 32\n",
        ")"
      ],
      "execution_count": 52,
      "outputs": [
        {
          "output_type": "stream",
          "text": [
            "28/28 [==============================] - 0s 11ms/step - loss: 0.9738 - accuracy: 0.7686\n"
          ],
          "name": "stdout"
        },
        {
          "output_type": "execute_result",
          "data": {
            "text/plain": [
              "[0.9737874865531921, 0.7686139941215515]"
            ]
          },
          "metadata": {
            "tags": []
          },
          "execution_count": 52
        }
      ]
    },
    {
      "cell_type": "markdown",
      "metadata": {
        "id": "RjPIx00ngxrr"
      },
      "source": [
        "We got a loss of `~77%` which is `10%` lower to what we get from the previous notebook. This brings a conclusion that `RNN` are better when it comes to sequential data as compared to `ConvNets` "
      ]
    },
    {
      "cell_type": "markdown",
      "metadata": {
        "id": "kNWSIUk1eDU8"
      },
      "source": [
        "### Model inference (making predictions)"
      ]
    },
    {
      "cell_type": "code",
      "metadata": {
        "id": "ToEw318Pdd6k"
      },
      "source": [
        "from prettytable import PrettyTable"
      ],
      "execution_count": 53,
      "outputs": []
    },
    {
      "cell_type": "code",
      "metadata": {
        "id": "hiOn7Dlkdd3K"
      },
      "source": [
        "def tabulate(column_names, data, max_characters:int):\n",
        "  table = PrettyTable(column_names)\n",
        "  table.align[column_names[0]] = \"l\"\n",
        "  table.align[column_names[1]] = \"l\"\n",
        "  table.title = \"QUESTION CLASSIFICATION PREDICTION TABLE\"\n",
        "  table._max_width = {column_names[0] :max_characters, column_names[1] :max_characters}\n",
        "  for row in data:\n",
        "    table.add_row(row)\n",
        "  print(table)"
      ],
      "execution_count": 54,
      "outputs": []
    },
    {
      "cell_type": "code",
      "metadata": {
        "id": "Z8SxstX6ekHD"
      },
      "source": [
        "def predict(model, sent, real_label=None):\n",
        "  classes = class_names\n",
        "  tokens = text_to_seq(sent)\n",
        "  padded_tokens = pad_sequences([tokens], maxlen=max_words, \n",
        "                                padding=\"post\", truncating=\"post\")\n",
        "  probabilities = model.predict(padded_tokens)\n",
        "  prediction = tf.argmax(probabilities, axis=1).numpy()[0]\n",
        "  class_name = classes[prediction]\n",
        "  table_headers =[\"KEY\", \"VALUE\"]\n",
        "  table_data = [\n",
        "        [\"QUESTION\", sent],\n",
        "        [\"PREDICTED CLASS\",  prediction],\n",
        "        [\"PREDICTED CLASS NAME\",  class_name],\n",
        "        [\"REAL CLASS\",  real_label],\n",
        "        [\"REAL CLASS NAME\",  classes[real_label]],\n",
        "        [\"CONFIDENCE OVER OTHER CLASSES\", f'{probabilities[0][prediction] * 100:.2f}%'],\n",
        "             \n",
        "    ]\n",
        "  tabulate(table_headers, table_data, 50)"
      ],
      "execution_count": 55,
      "outputs": []
    },
    {
      "cell_type": "markdown",
      "metadata": {
        "id": "oGMjEW_lejc1"
      },
      "source": [
        "### Making predictions on the test data."
      ]
    },
    {
      "cell_type": "code",
      "metadata": {
        "colab": {
          "base_uri": "https://localhost:8080/"
        },
        "id": "zDBvpsJjjFKv",
        "outputId": "60e30b0a-4c61-4a8f-eef7-8cae76a1dc1b"
      },
      "source": [
        "for label, sent in zip(test_labels[:10], test_features[:10]):\n",
        "  predict(question_category_model, sent, real_label=label)"
      ],
      "execution_count": 56,
      "outputs": [
        {
          "output_type": "stream",
          "text": [
            "+-------------------------------------------------------------------+\n",
            "|              QUESTION CLASSIFICATION PREDICTION TABLE             |\n",
            "+-------------------------------+-----------------------------------+\n",
            "| KEY                           | VALUE                             |\n",
            "+-------------------------------+-----------------------------------+\n",
            "| QUESTION                      | How many wings does a flea have ? |\n",
            "| PREDICTED CLASS               | 5                                 |\n",
            "| PREDICTED CLASS NAME          | NUMERIC                           |\n",
            "| REAL CLASS                    | 5                                 |\n",
            "| REAL CLASS NAME               | NUMERIC                           |\n",
            "| CONFIDENCE OVER OTHER CLASSES | 100.00%                           |\n",
            "+-------------------------------+-----------------------------------+\n",
            "+-----------------------------------------------------------+\n",
            "|          QUESTION CLASSIFICATION PREDICTION TABLE         |\n",
            "+-------------------------------+---------------------------+\n",
            "| KEY                           | VALUE                     |\n",
            "+-------------------------------+---------------------------+\n",
            "| QUESTION                      | Who is Samuel Pickering ? |\n",
            "| PREDICTED CLASS               | 3                         |\n",
            "| PREDICTED CLASS NAME          | HUMAN                     |\n",
            "| REAL CLASS                    | 3                         |\n",
            "| REAL CLASS NAME               | HUMAN                     |\n",
            "| CONFIDENCE OVER OTHER CLASSES | 100.00%                   |\n",
            "+-------------------------------+---------------------------+\n",
            "+------------------------------------------------------------------+\n",
            "|             QUESTION CLASSIFICATION PREDICTION TABLE             |\n",
            "+-------------------------------+----------------------------------+\n",
            "| KEY                           | VALUE                            |\n",
            "+-------------------------------+----------------------------------+\n",
            "| QUESTION                      | How many watts make a kilowatt ? |\n",
            "| PREDICTED CLASS               | 5                                |\n",
            "| PREDICTED CLASS NAME          | NUMERIC                          |\n",
            "| REAL CLASS                    | 5                                |\n",
            "| REAL CLASS NAME               | NUMERIC                          |\n",
            "| CONFIDENCE OVER OTHER CLASSES | 99.99%                           |\n",
            "+-------------------------------+----------------------------------+\n",
            "+------------------------------------------------------------------------------------+\n",
            "|                      QUESTION CLASSIFICATION PREDICTION TABLE                      |\n",
            "+-------------------------------+----------------------------------------------------+\n",
            "| KEY                           | VALUE                                              |\n",
            "+-------------------------------+----------------------------------------------------+\n",
            "| QUESTION                      | Independent silversmith 's account for what        |\n",
            "|                               | percentage of silver production ?                  |\n",
            "| PREDICTED CLASS               | 5                                                  |\n",
            "| PREDICTED CLASS NAME          | NUMERIC                                            |\n",
            "| REAL CLASS                    | 5                                                  |\n",
            "| REAL CLASS NAME               | NUMERIC                                            |\n",
            "| CONFIDENCE OVER OTHER CLASSES | 99.92%                                             |\n",
            "+-------------------------------+----------------------------------------------------+\n",
            "+------------------------------------------------------------------------------------+\n",
            "|                      QUESTION CLASSIFICATION PREDICTION TABLE                      |\n",
            "+-------------------------------+----------------------------------------------------+\n",
            "| KEY                           | VALUE                                              |\n",
            "+-------------------------------+----------------------------------------------------+\n",
            "| QUESTION                      | In the movie Groundshog Day what is the name of    |\n",
            "|                               | the character played by Andie MacDowell ?          |\n",
            "| PREDICTED CLASS               | 2                                                  |\n",
            "| PREDICTED CLASS NAME          | ENTITY                                             |\n",
            "| REAL CLASS                    | 3                                                  |\n",
            "| REAL CLASS NAME               | HUMAN                                              |\n",
            "| CONFIDENCE OVER OTHER CLASSES | 99.00%                                             |\n",
            "+-------------------------------+----------------------------------------------------+\n",
            "+--------------------------------------------------------------------+\n",
            "|              QUESTION CLASSIFICATION PREDICTION TABLE              |\n",
            "+-------------------------------+------------------------------------+\n",
            "| KEY                           | VALUE                              |\n",
            "+-------------------------------+------------------------------------+\n",
            "| QUESTION                      | When did they canonize the Bible ? |\n",
            "| PREDICTED CLASS               | 5                                  |\n",
            "| PREDICTED CLASS NAME          | NUMERIC                            |\n",
            "| REAL CLASS                    | 5                                  |\n",
            "| REAL CLASS NAME               | NUMERIC                            |\n",
            "| CONFIDENCE OVER OTHER CLASSES | 96.98%                             |\n",
            "+-------------------------------+------------------------------------+\n",
            "+----------------------------------------------------------------+\n",
            "|            QUESTION CLASSIFICATION PREDICTION TABLE            |\n",
            "+-------------------------------+--------------------------------+\n",
            "| KEY                           | VALUE                          |\n",
            "+-------------------------------+--------------------------------+\n",
            "| QUESTION                      | What is the root of all evil ? |\n",
            "| PREDICTED CLASS               | 2                              |\n",
            "| PREDICTED CLASS NAME          | ENTITY                         |\n",
            "| REAL CLASS                    | 1                              |\n",
            "| REAL CLASS NAME               | DESCRIPTION                    |\n",
            "| CONFIDENCE OVER OTHER CLASSES | 56.40%                         |\n",
            "+-------------------------------+--------------------------------+\n",
            "+----------------------------------------------------------------------------+\n",
            "|                  QUESTION CLASSIFICATION PREDICTION TABLE                  |\n",
            "+-------------------------------+--------------------------------------------+\n",
            "| KEY                           | VALUE                                      |\n",
            "+-------------------------------+--------------------------------------------+\n",
            "| QUESTION                      | What are the largest libraries in the US ? |\n",
            "| PREDICTED CLASS               | 5                                          |\n",
            "| PREDICTED CLASS NAME          | NUMERIC                                    |\n",
            "| REAL CLASS                    | 4                                          |\n",
            "| REAL CLASS NAME               | LOCATION                                   |\n",
            "| CONFIDENCE OVER OTHER CLASSES | 29.87%                                     |\n",
            "+-------------------------------+--------------------------------------------+\n",
            "+---------------------------------------------------------------------+\n",
            "|               QUESTION CLASSIFICATION PREDICTION TABLE              |\n",
            "+-------------------------------+-------------------------------------+\n",
            "| KEY                           | VALUE                               |\n",
            "+-------------------------------+-------------------------------------+\n",
            "| QUESTION                      | Who is John Macarthur , 1767-1834 ? |\n",
            "| PREDICTED CLASS               | 3                                   |\n",
            "| PREDICTED CLASS NAME          | HUMAN                               |\n",
            "| REAL CLASS                    | 3                                   |\n",
            "| REAL CLASS NAME               | HUMAN                               |\n",
            "| CONFIDENCE OVER OTHER CLASSES | 99.99%                              |\n",
            "+-------------------------------+-------------------------------------+\n",
            "+-------------------------------------------------------------------------------+\n",
            "|                    QUESTION CLASSIFICATION PREDICTION TABLE                   |\n",
            "+-------------------------------+-----------------------------------------------+\n",
            "| KEY                           | VALUE                                         |\n",
            "+-------------------------------+-----------------------------------------------+\n",
            "| QUESTION                      | Where can I find full written draft of CTBT ? |\n",
            "| PREDICTED CLASS               | 2                                             |\n",
            "| PREDICTED CLASS NAME          | ENTITY                                        |\n",
            "| REAL CLASS                    | 4                                             |\n",
            "| REAL CLASS NAME               | LOCATION                                      |\n",
            "| CONFIDENCE OVER OTHER CLASSES | 84.64%                                        |\n",
            "+-------------------------------+-----------------------------------------------+\n"
          ],
          "name": "stdout"
        }
      ]
    },
    {
      "cell_type": "markdown",
      "metadata": {
        "id": "PeLYMB9Z7m19"
      },
      "source": [
        "### Confusion matrix."
      ]
    },
    {
      "cell_type": "code",
      "metadata": {
        "id": "fViKUiIW7naU"
      },
      "source": [
        "import itertools\n",
        "from sklearn.metrics import confusion_matrix\n",
        "\n",
        "def plot_confusion_matrix(y_true, y_pred, classes=None, figsize=(5, 5), text_size=20):\n",
        "    cm = confusion_matrix(y_true, y_pred)\n",
        "    cm_norm = cm.astype(\"float\") / cm.sum(axis=1)[:, np.newaxis]\n",
        "    n_classes = cm.shape[0]\n",
        "\n",
        "    fig, ax = plt.subplots(figsize=figsize)\n",
        "    cax = ax.matshow(cm, cmap=plt.cm.Blues)\n",
        "    fig.colorbar(cax)\n",
        "\n",
        "    if classes.all():\n",
        "        labels = classes\n",
        "    else:\n",
        "        labels = np.arange(cm.shape[0])\n",
        "\n",
        "    ax.set(title=\"Confusion Matrix\",\n",
        "         xlabel=\"Predicted label\",\n",
        "         ylabel=\"True label\",\n",
        "         xticks=np.arange(n_classes),\n",
        "         yticks=np.arange(n_classes),\n",
        "         xticklabels=labels,\n",
        "         yticklabels=labels,\n",
        "          )\n",
        "    ax.yaxis.label.set_color('green')\n",
        "    ax.xaxis.label.set_color('green')\n",
        "\n",
        "\n",
        "    ax.xaxis.set_label_position(\"bottom\")\n",
        "    ax.xaxis.tick_bottom()\n",
        "\n",
        "    threshold = (cm.max() + cm.min()) / 2.\n",
        "    # Plot the text on each cell\n",
        "    for i, j in itertools.product(range(cm.shape[0]), range(cm.shape[1])):\n",
        "        plt.text(j, i, f\"{cm[i, j]} ({cm_norm[i, j]*100:.1f}%)\",\n",
        "                 horizontalalignment=\"center\",\n",
        "                 color=\"white\" if cm[i, j] > threshold else \"black\",\n",
        "                 size=text_size)"
      ],
      "execution_count": 57,
      "outputs": []
    },
    {
      "cell_type": "code",
      "metadata": {
        "id": "9c0JLuE0lciO"
      },
      "source": [
        "predictions = tf.argmax(\n",
        "    question_category_model(test_features_padded),\n",
        "    axis=1\n",
        ").numpy()"
      ],
      "execution_count": 58,
      "outputs": []
    },
    {
      "cell_type": "code",
      "metadata": {
        "colab": {
          "base_uri": "https://localhost:8080/"
        },
        "id": "R9kb0t9dmNK0",
        "outputId": "f1800b21-7bae-4d87-d016-0a663b0dd66c"
      },
      "source": [
        "from matplotlib import pyplot as plt\n",
        "class_names"
      ],
      "execution_count": 59,
      "outputs": [
        {
          "output_type": "execute_result",
          "data": {
            "text/plain": [
              "array(['ABBREVIATION', 'DESCRIPTION', 'ENTITY', 'HUMAN', 'LOCATION',\n",
              "       'NUMERIC'], dtype=object)"
            ]
          },
          "metadata": {
            "tags": []
          },
          "execution_count": 59
        }
      ]
    },
    {
      "cell_type": "code",
      "metadata": {
        "colab": {
          "base_uri": "https://localhost:8080/",
          "height": 852
        },
        "id": "dqTmifROlX8N",
        "outputId": "e3abe903-5f0e-4ca2-b840-cb9a3d33f186"
      },
      "source": [
        "plot_confusion_matrix(test_labels, predictions, classes=class_names, figsize=(15, 15), text_size=16)"
      ],
      "execution_count": 60,
      "outputs": [
        {
          "output_type": "display_data",
          "data": {
            "image/png": "[encoded data removed]",
            "text/plain": [
              "<Figure size 1080x1080 with 2 Axes>"
            ]
          },
          "metadata": {
            "tags": [],
            "needs_background": "light"
          }
        }
      ]
    },
    {
      "cell_type": "markdown",
      "metadata": {
        "id": "095Bht5ulFXv"
      },
      "source": [
        "### Next.\n",
        "\n",
        "Next we are going to use the same dataset to make predictions on two labels using `RNN's`"
      ]
    },
    {
      "cell_type": "code",
      "metadata": {
        "id": "ohCvUHjMuMWj"
      },
      "source": [
        ""
      ],
      "execution_count": null,
      "outputs": []
    }
  ]
}