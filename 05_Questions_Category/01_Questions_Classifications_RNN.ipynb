{
  "nbformat": 4,
  "nbformat_minor": 0,
  "metadata": {
    "colab": {
      "name": "01_Questions_Classifications_RNN.ipynb",
      "provenance": [],
      "collapsed_sections": []
    },
    "kernelspec": {
      "name": "python3",
      "display_name": "Python 3"
    },
    "language_info": {
      "name": "python"
    },
    "accelerator": "GPU"
  },
  "cells": [
    {
      "cell_type": "markdown",
      "metadata": {
        "id": "GQdMCuw_7n9c"
      },
      "source": [
        "### Questions Type Categories\n",
        "\n",
        "In this notebook we are going to use this [dataset](https://www.kaggle.com/ananthu017/question-classification?rvi=1) from kaggle to perform question type classification.\n",
        "\n",
        "I've already downloaded the dataset and uploaded it on my google drive so that i can easly load it here in google colab.\n",
        "\n",
        "In this first notebook we are going to use `RNNs` to perform text classification with 1 label. Later on we will use Conv Nets to perform this task."
      ]
    },
    {
      "cell_type": "markdown",
      "metadata": {
        "id": "kWfE6YK-8vJ0"
      },
      "source": [
        "### Imports"
      ]
    },
    {
      "cell_type": "code",
      "metadata": {
        "colab": {
          "base_uri": "https://localhost:8080/",
          "height": 35
        },
        "id": "Tba-zWww7lCj",
        "outputId": "9e64d0d9-9c94-4813-9413-41d12936aa7f"
      },
      "source": [
        "import os\n",
        "import numpy as np\n",
        "import tensorflow as tf\n",
        "from tensorflow import keras\n",
        "import csv, json, time\n",
        "import pandas as pd\n",
        "\n",
        "from sklearn.model_selection import train_test_split\n",
        "from sklearn.preprocessing import LabelEncoder\n",
        "\n",
        "tf.__version__"
      ],
      "execution_count": 1,
      "outputs": [
        {
          "output_type": "execute_result",
          "data": {
            "application/vnd.google.colaboratory.intrinsic+json": {
              "type": "string"
            },
            "text/plain": [
              "'2.5.0'"
            ]
          },
          "metadata": {
            "tags": []
          },
          "execution_count": 1
        }
      ]
    },
    {
      "cell_type": "markdown",
      "metadata": {
        "id": "04w51ddo9eZ6"
      },
      "source": [
        "### GPU"
      ]
    },
    {
      "cell_type": "code",
      "metadata": {
        "colab": {
          "base_uri": "https://localhost:8080/"
        },
        "id": "En6QPjhE9idy",
        "outputId": "d63e709f-fbc8-4dd3-bddd-c7627500615d"
      },
      "source": [
        "devices = tf.config.list_physical_devices(\"GPU\")\n",
        "try:\n",
        "  tf.config.experimental.set_visible_devices(devices[0], \"GPU\")\n",
        "  print(\"GPU set\")\n",
        "except RuntimeError as e:\n",
        "  print(e)"
      ],
      "execution_count": 2,
      "outputs": [
        {
          "output_type": "stream",
          "text": [
            "GPU set\n"
          ],
          "name": "stdout"
        }
      ]
    },
    {
      "cell_type": "markdown",
      "metadata": {
        "id": "nJKnDsrA-DIa"
      },
      "source": [
        "### SEED"
      ]
    },
    {
      "cell_type": "code",
      "metadata": {
        "id": "qFNUg7KM7otT"
      },
      "source": [
        "SEED = 42\n",
        "tf.random.set_seed(\n",
        "    SEED\n",
        ")\n",
        "np.random.seed(SEED)"
      ],
      "execution_count": 3,
      "outputs": []
    },
    {
      "cell_type": "markdown",
      "metadata": {
        "id": "d1yJUQ93-mP5"
      },
      "source": [
        "### Mounting the google drive"
      ]
    },
    {
      "cell_type": "code",
      "metadata": {
        "id": "KB2TgepR7oqk"
      },
      "source": [
        "from google.colab import drive\n",
        "drive.mount('/content/drive')"
      ],
      "execution_count": null,
      "outputs": []
    },
    {
      "cell_type": "markdown",
      "metadata": {
        "id": "NhLek2KV--EB"
      },
      "source": [
        "### Data\n",
        "\n",
        "We will load the data from a single csv file. We are going to split that csv file into three file, the:\n",
        "```\n",
        "train.csv\n",
        "test.csv\n",
        "val.csv\n",
        "```\n",
        "And then save these files"
      ]
    },
    {
      "cell_type": "code",
      "metadata": {
        "id": "Cr2ecIEx_hDA",
        "colab": {
          "base_uri": "https://localhost:8080/"
        },
        "outputId": "0f6320ce-7aa6-400c-ecdf-3acd8ddbe3e0"
      },
      "source": [
        "base_path = '/content/drive/MyDrive/NLP Data/'\n",
        "os.listdir(base_path)"
      ],
      "execution_count": 5,
      "outputs": [
        {
          "output_type": "execute_result",
          "data": {
            "text/plain": [
              "['questions-classification']"
            ]
          },
          "metadata": {
            "tags": []
          },
          "execution_count": 5
        }
      ]
    },
    {
      "cell_type": "code",
      "metadata": {
        "colab": {
          "base_uri": "https://localhost:8080/"
        },
        "id": "y7VB4u0F7onc",
        "outputId": "62c1a723-7718-46c6-8cf7-31abed2d6e5c"
      },
      "source": [
        "data_path = os.path.join(base_path, 'questions-classification')\n",
        "os.listdir(data_path)"
      ],
      "execution_count": 6,
      "outputs": [
        {
          "output_type": "execute_result",
          "data": {
            "text/plain": [
              "['Question_Classification_Dataset.csv']"
            ]
          },
          "metadata": {
            "tags": []
          },
          "execution_count": 6
        }
      ]
    },
    {
      "cell_type": "code",
      "metadata": {
        "id": "XHITeXiK7okV"
      },
      "source": [
        "file_path = os.path.join(data_path, \"Question_Classification_Dataset.csv\")"
      ],
      "execution_count": 7,
      "outputs": []
    },
    {
      "cell_type": "markdown",
      "metadata": {
        "id": "sp20laPZAAm9"
      },
      "source": [
        "### Read the data into a dataframe"
      ]
    },
    {
      "cell_type": "code",
      "metadata": {
        "colab": {
          "base_uri": "https://localhost:8080/",
          "height": 204
        },
        "id": "CsNKN0to7ohD",
        "outputId": "e3fec80f-4c20-42fd-c8b0-2e6b047f480b"
      },
      "source": [
        "dataframe = pd.read_csv(file_path)\n",
        "dataframe.head()"
      ],
      "execution_count": 8,
      "outputs": [
        {
          "output_type": "execute_result",
          "data": {
            "text/html": [
              "<div>\n",
              "<style scoped>\n",
              "    .dataframe tbody tr th:only-of-type {\n",
              "        vertical-align: middle;\n",
              "    }\n",
              "\n",
              "    .dataframe tbody tr th {\n",
              "        vertical-align: top;\n",
              "    }\n",
              "\n",
              "    .dataframe thead th {\n",
              "        text-align: right;\n",
              "    }\n",
              "</style>\n",
              "<table border=\"1\" class=\"dataframe\">\n",
              "  <thead>\n",
              "    <tr style=\"text-align: right;\">\n",
              "      <th></th>\n",
              "      <th>Unnamed: 0</th>\n",
              "      <th>Questions</th>\n",
              "      <th>Category0</th>\n",
              "      <th>Category1</th>\n",
              "      <th>Category2</th>\n",
              "    </tr>\n",
              "  </thead>\n",
              "  <tbody>\n",
              "    <tr>\n",
              "      <th>0</th>\n",
              "      <td>0</td>\n",
              "      <td>How did serfdom develop in and then leave Russ...</td>\n",
              "      <td>DESCRIPTION</td>\n",
              "      <td>DESC</td>\n",
              "      <td>manner</td>\n",
              "    </tr>\n",
              "    <tr>\n",
              "      <th>1</th>\n",
              "      <td>1</td>\n",
              "      <td>What films featured the character Popeye Doyle ?</td>\n",
              "      <td>ENTITY</td>\n",
              "      <td>ENTY</td>\n",
              "      <td>cremat</td>\n",
              "    </tr>\n",
              "    <tr>\n",
              "      <th>2</th>\n",
              "      <td>2</td>\n",
              "      <td>How can I find a list of celebrities ' real na...</td>\n",
              "      <td>DESCRIPTION</td>\n",
              "      <td>DESC</td>\n",
              "      <td>manner</td>\n",
              "    </tr>\n",
              "    <tr>\n",
              "      <th>3</th>\n",
              "      <td>3</td>\n",
              "      <td>What fowl grabs the spotlight after the Chines...</td>\n",
              "      <td>ENTITY</td>\n",
              "      <td>ENTY</td>\n",
              "      <td>animal</td>\n",
              "    </tr>\n",
              "    <tr>\n",
              "      <th>4</th>\n",
              "      <td>4</td>\n",
              "      <td>What is the full form of .com ?</td>\n",
              "      <td>ABBREVIATION</td>\n",
              "      <td>ABBR</td>\n",
              "      <td>exp</td>\n",
              "    </tr>\n",
              "  </tbody>\n",
              "</table>\n",
              "</div>"
            ],
            "text/plain": [
              "   Unnamed: 0  ... Category2\n",
              "0           0  ...    manner\n",
              "1           1  ...    cremat\n",
              "2           2  ...    manner\n",
              "3           3  ...    animal\n",
              "4           4  ...       exp\n",
              "\n",
              "[5 rows x 5 columns]"
            ]
          },
          "metadata": {
            "tags": []
          },
          "execution_count": 8
        }
      ]
    },
    {
      "cell_type": "markdown",
      "metadata": {
        "id": "jKEGuDP8AfmB"
      },
      "source": [
        "### Checking for null values"
      ]
    },
    {
      "cell_type": "code",
      "metadata": {
        "colab": {
          "base_uri": "https://localhost:8080/"
        },
        "id": "HvBrTAUy7oeL",
        "outputId": "34fd6571-e637-4504-8ffe-8e1b94f4afdf"
      },
      "source": [
        "dataframe.isnull().any()"
      ],
      "execution_count": 9,
      "outputs": [
        {
          "output_type": "execute_result",
          "data": {
            "text/plain": [
              "Unnamed: 0    False\n",
              "Questions     False\n",
              "Category0     False\n",
              "Category1     False\n",
              "Category2     False\n",
              "dtype: bool"
            ]
          },
          "metadata": {
            "tags": []
          },
          "execution_count": 9
        }
      ]
    },
    {
      "cell_type": "markdown",
      "metadata": {
        "id": "G9tB4LgVApsQ"
      },
      "source": [
        "### Splitting the sets"
      ]
    },
    {
      "cell_type": "code",
      "metadata": {
        "id": "WDbXw4oN7obN"
      },
      "source": [
        "train, valid = train_test_split(dataframe, test_size=.2)\n",
        "train, test = train_test_split(train, test_size=.2)"
      ],
      "execution_count": 10,
      "outputs": []
    },
    {
      "cell_type": "code",
      "metadata": {
        "colab": {
          "base_uri": "https://localhost:8080/"
        },
        "id": "2cPxaCy_BRcg",
        "outputId": "fb280f46-f5fc-49b3-a5b5-0fac0ef5d284"
      },
      "source": [
        "len(train), len(test), len(valid)"
      ],
      "execution_count": 11,
      "outputs": [
        {
          "output_type": "execute_result",
          "data": {
            "text/plain": [
              "(3488, 873, 1091)"
            ]
          },
          "metadata": {
            "tags": []
          },
          "execution_count": 11
        }
      ]
    },
    {
      "cell_type": "markdown",
      "metadata": {
        "id": "xLODHfsnBbGT"
      },
      "source": [
        "Now we have `~3K` train data, `~800` test data and `~1K` validation data, Let's save this in separate files."
      ]
    },
    {
      "cell_type": "code",
      "metadata": {
        "colab": {
          "base_uri": "https://localhost:8080/"
        },
        "id": "IkYlg-2nBRaA",
        "outputId": "862588a0-eb63-4703-955a-2251e5166f7b"
      },
      "source": [
        "val_path = \"val.csv\"\n",
        "test_path = \"test.csv\"\n",
        "train_path = \"train.csv\"\n",
        "\n",
        "valid.to_csv(os.path.join(data_path, val_path), index=False)\n",
        "test.to_csv(os.path.join(data_path, test_path), index=False)\n",
        "train.to_csv(os.path.join(data_path, train_path), index=False)\n",
        "\n",
        "print(\"files saved\")"
      ],
      "execution_count": 12,
      "outputs": [
        {
          "output_type": "stream",
          "text": [
            "files saved\n"
          ],
          "name": "stdout"
        }
      ]
    },
    {
      "cell_type": "markdown",
      "metadata": {
        "id": "BkMpy0smDE74"
      },
      "source": [
        "### Loading the files"
      ]
    },
    {
      "cell_type": "code",
      "metadata": {
        "id": "zJW7hRlFBRW_"
      },
      "source": [
        "train_dataframe = pd.read_csv(\n",
        "    os.path.join(data_path, train_path)\n",
        ")\n",
        "val_dataframe = pd.read_csv(\n",
        "    os.path.join(data_path, val_path)\n",
        ")\n",
        "test_dataframe = pd.read_csv(\n",
        "    os.path.join(data_path, test_path)\n",
        ")"
      ],
      "execution_count": 13,
      "outputs": []
    },
    {
      "cell_type": "code",
      "metadata": {
        "colab": {
          "base_uri": "https://localhost:8080/"
        },
        "id": "CYfiIfwxBRUJ",
        "outputId": "efc15d48-c919-488d-d9c9-d9e0ea193181"
      },
      "source": [
        "train_dataframe.iloc[0]"
      ],
      "execution_count": 14,
      "outputs": [
        {
          "output_type": "execute_result",
          "data": {
            "text/plain": [
              "Unnamed: 0                                2306\n",
              "Questions     What does Salk vaccine prevent ?\n",
              "Category0                               ENTITY\n",
              "Category1                                 ENTY\n",
              "Category2                               dismed\n",
              "Name: 0, dtype: object"
            ]
          },
          "metadata": {
            "tags": []
          },
          "execution_count": 14
        }
      ]
    },
    {
      "cell_type": "markdown",
      "metadata": {
        "id": "bHW6hdTtEoIs"
      },
      "source": [
        "### Question Classes"
      ]
    },
    {
      "cell_type": "code",
      "metadata": {
        "colab": {
          "base_uri": "https://localhost:8080/"
        },
        "id": "N70ykjDWErrI",
        "outputId": "0f0374e2-96ea-4226-c9b1-e76ed2e5cbb4"
      },
      "source": [
        "train_dataframe.Category0.unique()"
      ],
      "execution_count": 15,
      "outputs": [
        {
          "output_type": "execute_result",
          "data": {
            "text/plain": [
              "array(['ENTITY', 'NUMERIC', 'HUMAN', 'LOCATION', 'DESCRIPTION',\n",
              "       'ABBREVIATION'], dtype=object)"
            ]
          },
          "metadata": {
            "tags": []
          },
          "execution_count": 15
        }
      ]
    },
    {
      "cell_type": "markdown",
      "metadata": {
        "id": "kK-ZY6iTE0gf"
      },
      "source": [
        "As you can see we have `6` different categories for these questions which are:\n",
        "```\n",
        "categories = ['ENTITY', 'DESCRIPTION', 'NUMERIC', 'HUMAN', 'LOCATION',\n",
        "       'ABBREVIATION']\n",
        "```"
      ]
    },
    {
      "cell_type": "markdown",
      "metadata": {
        "id": "mmKWlrTiDP_3"
      },
      "source": [
        "For now we are interested in the question and the class the question belongs to so we are going to target the following columns:\n",
        "\n",
        "```\n",
        "1. Questions\n",
        "2. Category0\n",
        "```"
      ]
    },
    {
      "cell_type": "markdown",
      "metadata": {
        "id": "nNkdkG-qDvv_"
      },
      "source": [
        "### Features and Labels"
      ]
    },
    {
      "cell_type": "code",
      "metadata": {
        "id": "bftB-ql3BRRb"
      },
      "source": [
        "train_features = train_dataframe.Questions.values\n",
        "train_labels = train_dataframe.Category0.values\n",
        "\n",
        "test_features = test_dataframe.Questions.values\n",
        "test_labels = test_dataframe.Category0.values\n",
        "\n",
        "val_features = val_dataframe.Questions.values\n",
        "val_labels = val_dataframe.Category0.values\n"
      ],
      "execution_count": 16,
      "outputs": []
    },
    {
      "cell_type": "markdown",
      "metadata": {
        "id": "2MSTPezSEIlP"
      },
      "source": [
        "### Label Encoding.\n",
        "\n",
        "We are going to create encode the labels to numerical represantation using the `sklearn` `LabelEncoder` class."
      ]
    },
    {
      "cell_type": "code",
      "metadata": {
        "colab": {
          "base_uri": "https://localhost:8080/"
        },
        "id": "Y5L5jkryBROc",
        "outputId": "48e52f5e-3f6a-4096-9e7b-45901f16f735"
      },
      "source": [
        "label_encoder = LabelEncoder()\n",
        "label_encoder.fit(train_labels)"
      ],
      "execution_count": 17,
      "outputs": [
        {
          "output_type": "execute_result",
          "data": {
            "text/plain": [
              "LabelEncoder()"
            ]
          },
          "metadata": {
            "tags": []
          },
          "execution_count": 17
        }
      ]
    },
    {
      "cell_type": "code",
      "metadata": {
        "id": "RvnD8udFEkXR"
      },
      "source": [
        "train_labels = label_encoder.transform(train_labels)\n",
        "test_labels = label_encoder.transform(test_labels)\n",
        "val_labels = label_encoder.transform(val_labels)"
      ],
      "execution_count": 18,
      "outputs": []
    },
    {
      "cell_type": "code",
      "metadata": {
        "colab": {
          "base_uri": "https://localhost:8080/"
        },
        "id": "vfgrW-wEFbTf",
        "outputId": "5655705e-a343-496e-c28e-085af5731d13"
      },
      "source": [
        "class_names = label_encoder.classes_\n",
        "class_names "
      ],
      "execution_count": 96,
      "outputs": [
        {
          "output_type": "execute_result",
          "data": {
            "text/plain": [
              "array(['ABBREVIATION', 'DESCRIPTION', 'ENTITY', 'HUMAN', 'LOCATION',\n",
              "       'NUMERIC'], dtype=object)"
            ]
          },
          "metadata": {
            "tags": []
          },
          "execution_count": 96
        }
      ]
    },
    {
      "cell_type": "code",
      "metadata": {
        "colab": {
          "base_uri": "https://localhost:8080/"
        },
        "id": "WtEkFYpFEkUd",
        "outputId": "4cd52467-968f-4e30-fe1e-806ffaef8a09"
      },
      "source": [
        "train_labels[:10]"
      ],
      "execution_count": 19,
      "outputs": [
        {
          "output_type": "execute_result",
          "data": {
            "text/plain": [
              "array([2, 5, 3, 3, 3, 2, 5, 5, 3, 4])"
            ]
          },
          "metadata": {
            "tags": []
          },
          "execution_count": 19
        }
      ]
    },
    {
      "cell_type": "markdown",
      "metadata": {
        "id": "OSvtocxDFpIC"
      },
      "source": [
        "### Next we are going to `one_hot_encode` labels.\n",
        "\n",
        "We are only going to `one_hot` encode the train and validation labels. The test set we don't even care about it since we will be using it for model inference. I'm going to use the `numpy` method `eye`. You can use the `sklearn` ``OneHotEncoder`` class or the `tensorflow` method `one_hot`. To make this simple i will create a helper function that will encode the labels to one hot for me. I will then map through labels applying the `one_hot()` function to each label in the labels list."
      ]
    },
    {
      "cell_type": "code",
      "metadata": {
        "colab": {
          "base_uri": "https://localhost:8080/"
        },
        "id": "98xpro7gEkRW",
        "outputId": "10c45776-ca19-4b5a-9e5a-af36ffdfbb7a"
      },
      "source": [
        "def one_hot(index, depth=6): # 6 classes\n",
        "  return np.eye(depth, dtype=np.float32)[index]\n",
        "\n",
        "one_hot(2)"
      ],
      "execution_count": 21,
      "outputs": [
        {
          "output_type": "execute_result",
          "data": {
            "text/plain": [
              "array([0., 0., 1., 0., 0., 0.], dtype=float32)"
            ]
          },
          "metadata": {
            "tags": []
          },
          "execution_count": 21
        }
      ]
    },
    {
      "cell_type": "code",
      "metadata": {
        "id": "JShSsfbNEkMu"
      },
      "source": [
        "train_labels_one_hot = np.array(list(map(one_hot, train_labels)))\n",
        "val_labels_one_hot = np.array(list(map(one_hot, val_labels)))"
      ],
      "execution_count": 22,
      "outputs": []
    },
    {
      "cell_type": "code",
      "metadata": {
        "colab": {
          "base_uri": "https://localhost:8080/"
        },
        "id": "ma1c02IgEkGm",
        "outputId": "c603ded9-1ae4-478e-97f5-e19adfa429cd"
      },
      "source": [
        "train_labels_one_hot[0]"
      ],
      "execution_count": 23,
      "outputs": [
        {
          "output_type": "execute_result",
          "data": {
            "text/plain": [
              "array([0., 0., 1., 0., 0., 0.], dtype=float32)"
            ]
          },
          "metadata": {
            "tags": []
          },
          "execution_count": 23
        }
      ]
    },
    {
      "cell_type": "markdown",
      "metadata": {
        "id": "j9VDpFIUHYve"
      },
      "source": [
        "### Features\n",
        "\n",
        " For now we are done with labels. In our case our feature is a question. All we need to do in this dataset is to create a helper function that will convert the text to lower case that's all we need. \n",
        "\n",
        " After that we will then prepare/preprocess the train and validation features for the model."
      ]
    },
    {
      "cell_type": "code",
      "metadata": {
        "id": "lepgcaB0Ej-m"
      },
      "source": [
        "to_lower = lambda sent: sent.lower()"
      ],
      "execution_count": 24,
      "outputs": []
    },
    {
      "cell_type": "code",
      "metadata": {
        "id": "F9TwFIXrH5DW"
      },
      "source": [
        "train_features = np.array(\n",
        "    list(\n",
        "        map(to_lower, train_features)\n",
        "    )\n",
        ")\n",
        "val_features= np.array(\n",
        "    list(\n",
        "        map(to_lower, val_features)\n",
        "    )\n",
        ")"
      ],
      "execution_count": 25,
      "outputs": []
    },
    {
      "cell_type": "code",
      "metadata": {
        "colab": {
          "base_uri": "https://localhost:8080/"
        },
        "id": "lZb6STrmH5Af",
        "outputId": "91713dfb-9186-477f-9de1-8d44a00b69b8"
      },
      "source": [
        "train_features[:2]"
      ],
      "execution_count": 26,
      "outputs": [
        {
          "output_type": "execute_result",
          "data": {
            "text/plain": [
              "array(['what does salk vaccine prevent ?',\n",
              "       \"how many times a day should you take a prescription marked `` q.i.d . '' ?\"],\n",
              "      dtype='<U196')"
            ]
          },
          "metadata": {
            "tags": []
          },
          "execution_count": 26
        }
      ]
    },
    {
      "cell_type": "markdown",
      "metadata": {
        "id": "URlFb83DIjR-"
      },
      "source": [
        "### Preprocessing Features(Questions)\n",
        "\n",
        "1. Create a vocabulary\n",
        "2. Create a `stoi` from each sentencs\n",
        "3. pad the sentences to have the same size\n",
        "\n",
        "**Note** - During creation of the vocabulary we are going to use the `train` set. The model should not have an idea about the validation set, because we want the validation set to represent the test set as mush as possible."
      ]
    },
    {
      "cell_type": "markdown",
      "metadata": {
        "id": "OeafBB2NJtKv"
      },
      "source": [
        "### Vocab size, (aka) the number of unique words.\n",
        "\n",
        "I'm going to use spacy to tokenize each sentence and then we count number of unique words in the train set."
      ]
    },
    {
      "cell_type": "code",
      "metadata": {
        "id": "MhSvXYM3H484"
      },
      "source": [
        "from collections import Counter\n",
        "from nltk.tokenize import word_tokenize"
      ],
      "execution_count": 27,
      "outputs": []
    },
    {
      "cell_type": "code",
      "metadata": {
        "colab": {
          "base_uri": "https://localhost:8080/"
        },
        "id": "-iw1bCFuahxd",
        "outputId": "5fbe9a1b-c0ed-43d2-b967-1aca373df187"
      },
      "source": [
        "import nltk\n",
        "nltk.download('punkt')"
      ],
      "execution_count": 34,
      "outputs": [
        {
          "output_type": "stream",
          "text": [
            "[nltk_data] Downloading package punkt to /root/nltk_data...\n",
            "[nltk_data]   Unzipping tokenizers/punkt.zip.\n"
          ],
          "name": "stdout"
        },
        {
          "output_type": "execute_result",
          "data": {
            "text/plain": [
              "True"
            ]
          },
          "metadata": {
            "tags": []
          },
          "execution_count": 34
        }
      ]
    },
    {
      "cell_type": "code",
      "metadata": {
        "colab": {
          "base_uri": "https://localhost:8080/",
          "height": 35
        },
        "id": "KUs78gVCK3oc",
        "outputId": "c62cfdb0-5581-4d41-a48e-339d7fd7e347"
      },
      "source": [
        "train_features[0]"
      ],
      "execution_count": 35,
      "outputs": [
        {
          "output_type": "execute_result",
          "data": {
            "application/vnd.google.colaboratory.intrinsic+json": {
              "type": "string"
            },
            "text/plain": [
              "'what does salk vaccine prevent ?'"
            ]
          },
          "metadata": {
            "tags": []
          },
          "execution_count": 35
        }
      ]
    },
    {
      "cell_type": "code",
      "metadata": {
        "colab": {
          "base_uri": "https://localhost:8080/"
        },
        "id": "OsGjWD5fH45o",
        "outputId": "4848f667-7c1a-4503-f161-f6647224d1ca"
      },
      "source": [
        "counter = Counter()\n",
        "for sent in list(train_features):\n",
        "  words = word_tokenize(sent)\n",
        "  for word in words:\n",
        "    counter[word] += 1\n",
        "counter.most_common(9)"
      ],
      "execution_count": 36,
      "outputs": [
        {
          "output_type": "execute_result",
          "data": {
            "text/plain": [
              "[('?', 3418),\n",
              " ('the', 2383),\n",
              " ('what', 2159),\n",
              " ('is', 1084),\n",
              " ('of', 988),\n",
              " ('in', 751),\n",
              " ('a', 675),\n",
              " ('how', 503),\n",
              " (\"'s\", 447)]"
            ]
          },
          "metadata": {
            "tags": []
          },
          "execution_count": 36
        }
      ]
    },
    {
      "cell_type": "code",
      "metadata": {
        "colab": {
          "base_uri": "https://localhost:8080/"
        },
        "id": "_QasvHrNH439",
        "outputId": "cb041d89-3fbb-44f0-cf33-37c4790c546a"
      },
      "source": [
        "counter.most_common(20)"
      ],
      "execution_count": 38,
      "outputs": [
        {
          "output_type": "execute_result",
          "data": {
            "text/plain": [
              "[('?', 3418),\n",
              " ('the', 2383),\n",
              " ('what', 2159),\n",
              " ('is', 1084),\n",
              " ('of', 988),\n",
              " ('in', 751),\n",
              " ('a', 675),\n",
              " ('how', 503),\n",
              " (\"'s\", 447),\n",
              " ('was', 416),\n",
              " ('to', 406),\n",
              " ('who', 399),\n",
              " (',', 370),\n",
              " ('for', 298),\n",
              " ('are', 275),\n",
              " ('and', 271),\n",
              " ('does', 255),\n",
              " (\"''\", 251),\n",
              " ('``', 249),\n",
              " ('did', 240)]"
            ]
          },
          "metadata": {
            "tags": []
          },
          "execution_count": 38
        }
      ]
    },
    {
      "cell_type": "code",
      "metadata": {
        "id": "4i4QuWnFH4zn"
      },
      "source": [
        "vocab_size = len(counter)\n",
        "vocab_size"
      ],
      "execution_count": null,
      "outputs": []
    },
    {
      "cell_type": "markdown",
      "metadata": {
        "id": "3Wt1l8iRNax1"
      },
      "source": [
        "We have `~6K` unique words in the train set. Next we are going to create word vectors.\n",
        "\n",
        "### Word vectors"
      ]
    },
    {
      "cell_type": "code",
      "metadata": {
        "id": "tBRz0Zy9NaUy"
      },
      "source": [
        "from tensorflow.keras.preprocessing.text import Tokenizer\n",
        "from tensorflow.keras.preprocessing.sequence import pad_sequences"
      ],
      "execution_count": 40,
      "outputs": []
    },
    {
      "cell_type": "code",
      "metadata": {
        "id": "VJQHeRXGH4wt"
      },
      "source": [
        "tokenizer = Tokenizer(num_words=vocab_size)\n",
        "tokenizer.fit_on_texts(train_features)"
      ],
      "execution_count": 41,
      "outputs": []
    },
    {
      "cell_type": "code",
      "metadata": {
        "id": "IROMgVyOOLx2"
      },
      "source": [
        "word_indices = tokenizer.word_index\n",
        "word_indices_reversed = dict([\n",
        "    (v, k) for (k, v) in word_indices.items()\n",
        "])"
      ],
      "execution_count": 42,
      "outputs": []
    },
    {
      "cell_type": "markdown",
      "metadata": {
        "id": "HrWXjlGBOq3K"
      },
      "source": [
        "### Helper functions\n",
        "\n",
        "We will create some helper function that converts sequences to text and text to sequences. These function will be used for inference later on."
      ]
    },
    {
      "cell_type": "code",
      "metadata": {
        "id": "nnvyz4D8OLv3"
      },
      "source": [
        "def seq_to_text(sequences):\n",
        "  return \" \".join(word_indices_reversed[i] for i in sequences )\n",
        "\n",
        "def text_to_seq(sent):\n",
        "  words = word_tokenize(sent.lower())\n",
        "  sequences = []\n",
        "  for word in words:\n",
        "    try:\n",
        "      sequences.append(word_indices[word])\n",
        "    except:\n",
        "      sequences.append(0)\n",
        "  return sequences"
      ],
      "execution_count": 43,
      "outputs": []
    },
    {
      "cell_type": "markdown",
      "metadata": {
        "id": "sCSLlCFUP6yN"
      },
      "source": [
        "### Pretrained embeding weights\n",
        "\n",
        "Since this model is using RNN's we are going to use the `pretrained glove.6B` word embeddings. I've already uploaded these word embedding on my google colab so that we can load them as follows"
      ]
    },
    {
      "cell_type": "code",
      "metadata": {
        "id": "4HD8kSN8OLrI"
      },
      "source": [
        "embedding_path = \"/content/drive/MyDrive/NLP Data/glove.6B/glove.6B.100d.txt\"\n"
      ],
      "execution_count": 47,
      "outputs": []
    },
    {
      "cell_type": "code",
      "metadata": {
        "id": "KhdEwrHqOLoP"
      },
      "source": [
        "embedding_dict = dict()\n",
        "with open(embedding_path, encoding=\"utf8\") as glove:\n",
        "  for line in glove:\n",
        "    records = line.split();\n",
        "    word = records[0]\n",
        "    vectors = np.asarray(records[1: ], dtype=np.float32)\n",
        "    embedding_dict[word] = vectors"
      ],
      "execution_count": 48,
      "outputs": []
    },
    {
      "cell_type": "code",
      "metadata": {
        "colab": {
          "base_uri": "https://localhost:8080/"
        },
        "id": "l0AtapypRfPo",
        "outputId": "7588329f-10ec-4668-cd3f-da47ae173838"
      },
      "source": [
        "print(len(embedding_dict))\n",
        "embedding_dict[\"what\"].shape"
      ],
      "execution_count": 49,
      "outputs": [
        {
          "output_type": "stream",
          "text": [
            "400000\n"
          ],
          "name": "stdout"
        },
        {
          "output_type": "execute_result",
          "data": {
            "text/plain": [
              "(100,)"
            ]
          },
          "metadata": {
            "tags": []
          },
          "execution_count": 49
        }
      ]
    },
    {
      "cell_type": "markdown",
      "metadata": {
        "id": "OzCbRVfISdvV"
      },
      "source": [
        "### But wait? `40000` words? Where are they comming from?\n",
        "Okay don't panic we will create the embedding matrix that will suit our vocab_size next."
      ]
    },
    {
      "cell_type": "markdown",
      "metadata": {
        "id": "RcLVeXuIRRJk"
      },
      "source": [
        "### Embedding matrix\n",
        "We will then create an embedding matrix that will suit our data."
      ]
    },
    {
      "cell_type": "code",
      "metadata": {
        "id": "lFtPge6SOLlh"
      },
      "source": [
        "embedding_matrix = np.zeros((vocab_size, 100))\n",
        "\n",
        "for word, index in word_indices.items():\n",
        "  vector = embedding_dict.get(word)\n",
        "  if vector is not None:\n",
        "    try:\n",
        "      embedding_matrix[index] = vector\n",
        "    except IndexError or Exception:\n",
        "      pass"
      ],
      "execution_count": 50,
      "outputs": []
    },
    {
      "cell_type": "code",
      "metadata": {
        "id": "xKXJINrqH4ss"
      },
      "source": [
        "len(embedding_matrix)"
      ],
      "execution_count": null,
      "outputs": []
    },
    {
      "cell_type": "markdown",
      "metadata": {
        "id": "gNSFvhDsSU1g"
      },
      "source": [
        "Now the `embedding_matrix` suits our data which has `6592` words."
      ]
    },
    {
      "cell_type": "markdown",
      "metadata": {
        "id": "IqimwH32S958"
      },
      "source": [
        "### Creating Sequences"
      ]
    },
    {
      "cell_type": "code",
      "metadata": {
        "id": "D3lV_wdAH4pu"
      },
      "source": [
        "train_sequences = tokenizer.texts_to_sequences(train_features)\n",
        "val_sequences = tokenizer.texts_to_sequences(val_features)"
      ],
      "execution_count": 52,
      "outputs": []
    },
    {
      "cell_type": "code",
      "metadata": {
        "colab": {
          "base_uri": "https://localhost:8080/"
        },
        "id": "6tLt3TE5TUBI",
        "outputId": "67052356-6423-4e61-a1f5-3e5aa7229111"
      },
      "source": [
        "val_sequences[0], val_features[0]"
      ],
      "execution_count": 53,
      "outputs": [
        {
          "output_type": "execute_result",
          "data": {
            "text/plain": [
              "([2, 39, 3, 364, 36, 401], 'what city is served by tempelhol airport ?')"
            ]
          },
          "metadata": {
            "tags": []
          },
          "execution_count": 53
        }
      ]
    },
    {
      "cell_type": "markdown",
      "metadata": {
        "id": "2Yhc5-uHTgMx"
      },
      "source": [
        "### Testing our helper functions"
      ]
    },
    {
      "cell_type": "code",
      "metadata": {
        "colab": {
          "base_uri": "https://localhost:8080/",
          "height": 35
        },
        "id": "6rqtbAGmTT8o",
        "outputId": "e80aa3c5-90f9-450e-d378-ef2d9d3f628e"
      },
      "source": [
        "seq_to_text(val_sequences[0])"
      ],
      "execution_count": 54,
      "outputs": [
        {
          "output_type": "execute_result",
          "data": {
            "application/vnd.google.colaboratory.intrinsic+json": {
              "type": "string"
            },
            "text/plain": [
              "'what city is served by airport'"
            ]
          },
          "metadata": {
            "tags": []
          },
          "execution_count": 54
        }
      ]
    },
    {
      "cell_type": "code",
      "metadata": {
        "colab": {
          "base_uri": "https://localhost:8080/"
        },
        "id": "5p2BcCG7TkzY",
        "outputId": "39dbcc0a-87e5-4dc7-ea95-cf002cc5b1cf"
      },
      "source": [
        "text_to_seq(\"this is why the unknownnnn word ?\")"
      ],
      "execution_count": 55,
      "outputs": [
        {
          "output_type": "execute_result",
          "data": {
            "text/plain": [
              "[456, 3, 45, 1, 0, 70, 0]"
            ]
          },
          "metadata": {
            "tags": []
          },
          "execution_count": 55
        }
      ]
    },
    {
      "cell_type": "markdown",
      "metadata": {
        "id": "8ZR5TZsrTkHh"
      },
      "source": [
        "### Pad sequences\n",
        "\n",
        "Our final step is to pad our suquences to have the same length. We are going to do this on the train and validation sets only."
      ]
    },
    {
      "cell_type": "code",
      "metadata": {
        "id": "oBLPnTTQTT4g"
      },
      "source": [
        "max_words = 100\n",
        "\n",
        "train_tokens_padded = pad_sequences(\n",
        "    train_sequences, \n",
        "    maxlen=max_words, \n",
        "    padding=\"post\", \n",
        "    truncating=\"post\"\n",
        ")\n",
        "val_tokens_padded = pad_sequences(\n",
        "    val_sequences, \n",
        "    maxlen=max_words, \n",
        "    padding=\"post\", \n",
        "    truncating=\"post\"\n",
        ")"
      ],
      "execution_count": 56,
      "outputs": []
    },
    {
      "cell_type": "markdown",
      "metadata": {
        "id": "g72XFW_vUz-C"
      },
      "source": [
        "### Building the model.\n",
        "\n",
        "Model Achitecture.\n",
        "\n",
        "````\n",
        "                [ Embedding Layer]\n",
        "                        |\n",
        "                        |\n",
        "[ LSTM ] <---- [Bidirectional Layer] ----> [GRU] (forward_layer)\n",
        " (backward_layer)       |\n",
        "                        |\n",
        "        [  Gated Recurrent Unit  (GRU)  ]\n",
        "                        |\n",
        "                        |\n",
        "        [ Long Short Term Memory (LSTM) ]\n",
        "                        |\n",
        "                        |\n",
        "                [ Flatten Layer / GlobalAveragePooling1D]\n",
        "                        |\n",
        "                        |\n",
        "                 [Dense Layer 1]\n",
        "                        |\n",
        "                        | \n",
        "                   [ Dropout ]\n",
        "                        |\n",
        "                        |   \n",
        "                 [Dense Layer 2]\n",
        "                        |\n",
        "                        | \n",
        "                   [ Dropout ]\n",
        "                        |\n",
        "                        |   \n",
        "                 [Dense Layer 3]\n",
        "                        |\n",
        "                        | \n",
        "                   [ Dropout ]\n",
        "                        |\n",
        "                        |\n",
        "                 [Dense Layer 3] (output [6 classes])\n",
        "````"
      ]
    },
    {
      "cell_type": "code",
      "metadata": {
        "id": "UM0f0fL-TTz7",
        "colab": {
          "base_uri": "https://localhost:8080/"
        },
        "outputId": "f23aec69-c1d0-419e-f766-ff53e99816e7"
      },
      "source": [
        "forward_layer = keras.layers.GRU(\n",
        "   128, return_sequences=True, dropout=.5,\n",
        "   name=\"gru_forward_layer\"\n",
        ")\n",
        "backward_layer = keras.layers.LSTM(\n",
        "   128, return_sequences=True, dropout=.5,\n",
        "   go_backwards=True, name=\"lstm_backward_layer\"\n",
        ")\n",
        "\n",
        "question_category_model = keras.Sequential([\n",
        "      keras.layers.Embedding(\n",
        "        vocab_size, 100, \n",
        "        input_length=max_words,\n",
        "        weights=[embedding_matrix], \n",
        "        trainable=True,\n",
        "        name = \"embedding_layer\"\n",
        "      ),\n",
        "      keras.layers.Bidirectional(\n",
        "        forward_layer,\n",
        "        backward_layer = backward_layer,\n",
        "        name= \"bidirectional_layer\"\n",
        "      ),\n",
        "      keras.layers.GRU(\n",
        "          512, return_sequences=True,\n",
        "          dropout=.5,\n",
        "          name= \"gru_layer\"\n",
        "      ),\n",
        "      keras.layers.LSTM(\n",
        "          512, return_sequences=True,\n",
        "          dropout=.5,\n",
        "          name=\"lstm_layer\"\n",
        "      ),\n",
        "      keras.layers.GlobalAveragePooling1D(\n",
        "          name=\"average_pooling_layer\"\n",
        "      ),\n",
        "      keras.layers.Dense(64, activation='relu', name=\"dense_1\"),\n",
        "      keras.layers.Dropout(rate= .5, name=\"dropout_layer\"),\n",
        "      keras.layers.Dense(512, activation='relu', name=\"dense_2\"),\n",
        "      keras.layers.Dropout(rate= .5, name=\"dropout_layer_1\"),\n",
        "      keras.layers.Dense(128, activation='relu', name=\"dense_3\"),\n",
        "      keras.layers.Dropout(rate= .5, name=\"dropout_layer_2\"),\n",
        "      keras.layers.Dense(6, activation='softmax', name=\"output\"),\n",
        "], name = \"question_category_model\")\n",
        "\n",
        "question_category_model.summary()"
      ],
      "execution_count": 65,
      "outputs": [
        {
          "output_type": "stream",
          "text": [
            "Model: \"question_category_model\"\n",
            "_________________________________________________________________\n",
            "Layer (type)                 Output Shape              Param #   \n",
            "=================================================================\n",
            "embedding_layer (Embedding)  (None, 100, 100)          656800    \n",
            "_________________________________________________________________\n",
            "bidirectional_layer (Bidirec (None, 100, 256)          205568    \n",
            "_________________________________________________________________\n",
            "gru_layer (GRU)              (None, 100, 512)          1182720   \n",
            "_________________________________________________________________\n",
            "lstm_layer (LSTM)            (None, 100, 512)          2099200   \n",
            "_________________________________________________________________\n",
            "average_pooling_layer (Globa (None, 512)               0         \n",
            "_________________________________________________________________\n",
            "dense_1 (Dense)              (None, 64)                32832     \n",
            "_________________________________________________________________\n",
            "dropout_layer (Dropout)      (None, 64)                0         \n",
            "_________________________________________________________________\n",
            "dense_2 (Dense)              (None, 512)               33280     \n",
            "_________________________________________________________________\n",
            "dropout_layer_1 (Dropout)    (None, 512)               0         \n",
            "_________________________________________________________________\n",
            "dense_3 (Dense)              (None, 128)               65664     \n",
            "_________________________________________________________________\n",
            "dropout_layer_2 (Dropout)    (None, 128)               0         \n",
            "_________________________________________________________________\n",
            "output (Dense)               (None, 6)                 774       \n",
            "=================================================================\n",
            "Total params: 4,276,838\n",
            "Trainable params: 4,276,838\n",
            "Non-trainable params: 0\n",
            "_________________________________________________________________\n"
          ],
          "name": "stdout"
        }
      ]
    },
    {
      "cell_type": "markdown",
      "metadata": {
        "id": "II8o2G6ka_YH"
      },
      "source": [
        "### Compiling the model\n",
        "\n",
        "Again we are going to compile our model and we will use the `EalyStopping` call back."
      ]
    },
    {
      "cell_type": "code",
      "metadata": {
        "id": "k51Yua1vTTw4"
      },
      "source": [
        "early_stopping = keras.callbacks.EarlyStopping(\n",
        "     monitor='val_loss',\n",
        "    min_delta=0,\n",
        "    patience=5,\n",
        "    verbose=1,\n",
        "    mode='auto',\n",
        "    baseline=None,\n",
        "    restore_best_weights=False,\n",
        ")\n",
        "\n",
        "question_category_model.compile(\n",
        "    loss = keras.losses.CategoricalCrossentropy(from_logits=False),\n",
        "    optimizer = keras.optimizers.Adam(1e-3, 0.5),\n",
        "    metrics = [\"accuracy\"]\n",
        ")"
      ],
      "execution_count": 66,
      "outputs": []
    },
    {
      "cell_type": "markdown",
      "metadata": {
        "id": "nufxR3sjh0ZI"
      },
      "source": [
        "### How long should we train the model?\n",
        "We are going to train the model for more epochs, as soon as the model loss stop decreasing we will stop."
      ]
    },
    {
      "cell_type": "code",
      "metadata": {
        "id": "JEvAF2NFTTtt",
        "colab": {
          "base_uri": "https://localhost:8080/"
        },
        "outputId": "641025ef-f38e-48da-9537-762c79f81397"
      },
      "source": [
        "EPOCHS = 50\n",
        "\n",
        "history = question_category_model.fit(\n",
        "    train_tokens_padded, train_labels_one_hot,\n",
        "    validation_data = (\n",
        "        val_tokens_padded, val_labels_one_hot\n",
        "    ),\n",
        "    verbose = 1,\n",
        "    epochs = EPOCHS,\n",
        "    batch_size = 64,\n",
        "    shuffle = True,\n",
        "    validation_batch_size = 16,\n",
        "    callbacks = [early_stopping]\n",
        ")"
      ],
      "execution_count": 68,
      "outputs": [
        {
          "output_type": "stream",
          "text": [
            "Epoch 1/50\n",
            "55/55 [==============================] - 6s 114ms/step - loss: 1.5900 - accuracy: 0.3177 - val_loss: 2.4893 - val_accuracy: 0.2704\n",
            "Epoch 2/50\n",
            "55/55 [==============================] - 5s 92ms/step - loss: 1.4482 - accuracy: 0.3896 - val_loss: 1.3856 - val_accuracy: 0.3749\n",
            "Epoch 3/50\n",
            "55/55 [==============================] - 5s 93ms/step - loss: 1.3469 - accuracy: 0.4429 - val_loss: 1.2271 - val_accuracy: 0.4436\n",
            "Epoch 4/50\n",
            "55/55 [==============================] - 5s 92ms/step - loss: 1.2188 - accuracy: 0.4974 - val_loss: 1.1495 - val_accuracy: 0.5362\n",
            "Epoch 5/50\n",
            "55/55 [==============================] - 5s 92ms/step - loss: 1.1205 - accuracy: 0.5783 - val_loss: 0.9194 - val_accuracy: 0.6645\n",
            "Epoch 6/50\n",
            "55/55 [==============================] - 5s 91ms/step - loss: 0.9137 - accuracy: 0.6884 - val_loss: 0.7636 - val_accuracy: 0.7424\n",
            "Epoch 7/50\n",
            "55/55 [==============================] - 5s 91ms/step - loss: 0.7651 - accuracy: 0.7509 - val_loss: 0.7852 - val_accuracy: 0.7516\n",
            "Epoch 8/50\n",
            "55/55 [==============================] - 5s 90ms/step - loss: 0.6637 - accuracy: 0.7904 - val_loss: 0.6537 - val_accuracy: 0.7764\n",
            "Epoch 9/50\n",
            "55/55 [==============================] - 5s 90ms/step - loss: 0.5623 - accuracy: 0.8220 - val_loss: 0.5224 - val_accuracy: 0.8405\n",
            "Epoch 10/50\n",
            "55/55 [==============================] - 5s 90ms/step - loss: 0.5400 - accuracy: 0.8406 - val_loss: 0.5290 - val_accuracy: 0.8387\n",
            "Epoch 11/50\n",
            "55/55 [==============================] - 5s 91ms/step - loss: 0.4676 - accuracy: 0.8612 - val_loss: 0.5490 - val_accuracy: 0.8387\n",
            "Epoch 12/50\n",
            "55/55 [==============================] - 5s 90ms/step - loss: 0.4391 - accuracy: 0.8741 - val_loss: 0.5265 - val_accuracy: 0.8460\n",
            "Epoch 13/50\n",
            "55/55 [==============================] - 5s 90ms/step - loss: 0.4082 - accuracy: 0.8833 - val_loss: 0.5040 - val_accuracy: 0.8423\n",
            "Epoch 14/50\n",
            "55/55 [==============================] - 5s 90ms/step - loss: 0.3536 - accuracy: 0.8982 - val_loss: 0.5070 - val_accuracy: 0.8533\n",
            "Epoch 15/50\n",
            "55/55 [==============================] - 5s 90ms/step - loss: 0.3424 - accuracy: 0.9022 - val_loss: 0.4776 - val_accuracy: 0.8662\n",
            "Epoch 16/50\n",
            "55/55 [==============================] - 5s 91ms/step - loss: 0.2993 - accuracy: 0.9108 - val_loss: 0.5217 - val_accuracy: 0.8533\n",
            "Epoch 17/50\n",
            "55/55 [==============================] - 5s 90ms/step - loss: 0.2909 - accuracy: 0.9174 - val_loss: 0.4716 - val_accuracy: 0.8616\n",
            "Epoch 18/50\n",
            "55/55 [==============================] - 5s 91ms/step - loss: 0.2423 - accuracy: 0.9321 - val_loss: 0.5284 - val_accuracy: 0.8671\n",
            "Epoch 19/50\n",
            "55/55 [==============================] - 5s 91ms/step - loss: 0.2365 - accuracy: 0.9326 - val_loss: 0.5335 - val_accuracy: 0.8744\n",
            "Epoch 20/50\n",
            "55/55 [==============================] - 5s 91ms/step - loss: 0.2094 - accuracy: 0.9372 - val_loss: 0.5968 - val_accuracy: 0.8717\n",
            "Epoch 21/50\n",
            "55/55 [==============================] - 5s 92ms/step - loss: 0.2153 - accuracy: 0.9407 - val_loss: 0.5300 - val_accuracy: 0.8772\n",
            "Epoch 22/50\n",
            "55/55 [==============================] - 5s 91ms/step - loss: 0.1850 - accuracy: 0.9490 - val_loss: 0.6361 - val_accuracy: 0.8781\n",
            "Epoch 00022: early stopping\n"
          ],
          "name": "stdout"
        }
      ]
    },
    {
      "cell_type": "markdown",
      "metadata": {
        "id": "vfH5l0XGBQ4v"
      },
      "source": [
        "### Evaluating the model.\n",
        "\n",
        "We are going to evaluate the model on the test data. Remeber in the evaluate method we need to pass the data in the same shape we trained on so the test features and labels need to be processed.\n",
        "\n",
        "### OneHot encode the test labels"
      ]
    },
    {
      "cell_type": "code",
      "metadata": {
        "id": "lEMl76TxdKJU"
      },
      "source": [
        "test_labels_one_hot = np.array(list(map(one_hot, test_labels)))"
      ],
      "execution_count": 69,
      "outputs": []
    },
    {
      "cell_type": "markdown",
      "metadata": {
        "id": "gROvNEuzdRU6"
      },
      "source": [
        "### Converting test data to numeric and then pad it."
      ]
    },
    {
      "cell_type": "code",
      "metadata": {
        "colab": {
          "base_uri": "https://localhost:8080/"
        },
        "id": "sJVm515sdYW0",
        "outputId": "9bab90ce-1821-4f7f-a55e-303af9949f92"
      },
      "source": [
        "def text_to_padded_sequences(sent):\n",
        "  tokens = text_to_seq(sent)\n",
        "  padded_tokens = pad_sequences([tokens], maxlen=max_words, padding=\"post\", truncating=\"post\")\n",
        "  return tf.squeeze(padded_tokens)\n",
        "\n",
        "test_features_padded =  np.array(list(map(text_to_padded_sequences, test_features)))\n",
        "\n",
        "question_category_model.evaluate(\n",
        "    test_features_padded,\n",
        "    test_labels_one_hot,\n",
        "    verbose = 1,\n",
        "    batch_size = 32\n",
        ")"
      ],
      "execution_count": 70,
      "outputs": [
        {
          "output_type": "stream",
          "text": [
            "28/28 [==============================] - 1s 23ms/step - loss: 0.5692 - accuracy: 0.8729\n"
          ],
          "name": "stdout"
        },
        {
          "output_type": "execute_result",
          "data": {
            "text/plain": [
              "[0.5691816210746765, 0.8728522062301636]"
            ]
          },
          "metadata": {
            "tags": []
          },
          "execution_count": 70
        }
      ]
    },
    {
      "cell_type": "markdown",
      "metadata": {
        "id": "RjPIx00ngxrr"
      },
      "source": [
        "As we can seee we are able to get an accuracy of `~88%` on the test data. Which can be improved "
      ]
    },
    {
      "cell_type": "markdown",
      "metadata": {
        "id": "kNWSIUk1eDU8"
      },
      "source": [
        "### Model inference (making predictions)"
      ]
    },
    {
      "cell_type": "code",
      "metadata": {
        "id": "ToEw318Pdd6k"
      },
      "source": [
        "from prettytable import PrettyTable"
      ],
      "execution_count": 45,
      "outputs": []
    },
    {
      "cell_type": "code",
      "metadata": {
        "id": "hiOn7Dlkdd3K"
      },
      "source": [
        "def tabulate(column_names, data, max_characters:int):\n",
        "  table = PrettyTable(column_names)\n",
        "  table.align[column_names[0]] = \"l\"\n",
        "  table.align[column_names[1]] = \"l\"\n",
        "  table.title = \"QUESTION CLASSIFICATION PREDICTION TABLE\"\n",
        "  table._max_width = {column_names[0] :max_characters, column_names[1] :max_characters}\n",
        "  for row in data:\n",
        "    table.add_row(row)\n",
        "  print(table)"
      ],
      "execution_count": 80,
      "outputs": []
    },
    {
      "cell_type": "code",
      "metadata": {
        "id": "Z8SxstX6ekHD"
      },
      "source": [
        "def predict(model, sent, real_label=None):\n",
        "  classes = class_names\n",
        "  tokens = text_to_seq(sent)\n",
        "  padded_tokens = pad_sequences([tokens], maxlen=max_words, \n",
        "                                padding=\"post\", truncating=\"post\")\n",
        "  probabilities = model.predict(padded_tokens)\n",
        "  prediction = tf.argmax(probabilities, axis=1).numpy()[0]\n",
        "  class_name = classes[prediction]\n",
        "  table_headers =[\"KEY\", \"VALUE\"]\n",
        "  table_data = [\n",
        "        [\"QUESTION\", sent],\n",
        "        [\"PREDICTED CLASS\",  prediction],\n",
        "        [\"PREDICTED CLASS NAME\",  class_name],\n",
        "        [\"REAL CLASS\",  real_label],\n",
        "        [\"REAL CLASS NAME\",  classes[real_label]],\n",
        "        [\"CONFIDENCE OVER OTHER CLASSES\", f'{probabilities[0][prediction] * 100:.2f}%'],\n",
        "             \n",
        "    ]\n",
        "  tabulate(table_headers, table_data, 50)"
      ],
      "execution_count": 85,
      "outputs": []
    },
    {
      "cell_type": "markdown",
      "metadata": {
        "id": "oGMjEW_lejc1"
      },
      "source": [
        "### Making predictions on the test data."
      ]
    },
    {
      "cell_type": "code",
      "metadata": {
        "colab": {
          "base_uri": "https://localhost:8080/"
        },
        "id": "zDBvpsJjjFKv",
        "outputId": "03442ac8-14c2-41dc-b4eb-f2769883f1f7"
      },
      "source": [
        "for label, sent in zip(test_labels[:10], test_features[:10]):\n",
        "  predict(question_category_model, sent, real_label=label)"
      ],
      "execution_count": 86,
      "outputs": [
        {
          "output_type": "stream",
          "text": [
            "+-------------------------------------------------------------------+\n",
            "|              QUESTION CLASSIFICATION PREDICTION TABLE             |\n",
            "+-------------------------------+-----------------------------------+\n",
            "| KEY                           | VALUE                             |\n",
            "+-------------------------------+-----------------------------------+\n",
            "| QUESTION                      | How many wings does a flea have ? |\n",
            "| PREDICTED CLASS               | 5                                 |\n",
            "| PREDICTED CLASS NAME          | NUMERIC                           |\n",
            "| REAL CLASS                    | 5                                 |\n",
            "| REAL CLASS NAME               | NUMERIC                           |\n",
            "| CONFIDENCE OVER OTHER CLASSES | 100.00%                           |\n",
            "+-------------------------------+-----------------------------------+\n",
            "+-----------------------------------------------------------+\n",
            "|          QUESTION CLASSIFICATION PREDICTION TABLE         |\n",
            "+-------------------------------+---------------------------+\n",
            "| KEY                           | VALUE                     |\n",
            "+-------------------------------+---------------------------+\n",
            "| QUESTION                      | Who is Samuel Pickering ? |\n",
            "| PREDICTED CLASS               | 3                         |\n",
            "| PREDICTED CLASS NAME          | HUMAN                     |\n",
            "| REAL CLASS                    | 3                         |\n",
            "| REAL CLASS NAME               | HUMAN                     |\n",
            "| CONFIDENCE OVER OTHER CLASSES | 99.73%                    |\n",
            "+-------------------------------+---------------------------+\n",
            "+------------------------------------------------------------------+\n",
            "|             QUESTION CLASSIFICATION PREDICTION TABLE             |\n",
            "+-------------------------------+----------------------------------+\n",
            "| KEY                           | VALUE                            |\n",
            "+-------------------------------+----------------------------------+\n",
            "| QUESTION                      | How many watts make a kilowatt ? |\n",
            "| PREDICTED CLASS               | 5                                |\n",
            "| PREDICTED CLASS NAME          | NUMERIC                          |\n",
            "| REAL CLASS                    | 5                                |\n",
            "| REAL CLASS NAME               | NUMERIC                          |\n",
            "| CONFIDENCE OVER OTHER CLASSES | 100.00%                          |\n",
            "+-------------------------------+----------------------------------+\n",
            "+------------------------------------------------------------------------------------+\n",
            "|                      QUESTION CLASSIFICATION PREDICTION TABLE                      |\n",
            "+-------------------------------+----------------------------------------------------+\n",
            "| KEY                           | VALUE                                              |\n",
            "+-------------------------------+----------------------------------------------------+\n",
            "| QUESTION                      | Independent silversmith 's account for what        |\n",
            "|                               | percentage of silver production ?                  |\n",
            "| PREDICTED CLASS               | 5                                                  |\n",
            "| PREDICTED CLASS NAME          | NUMERIC                                            |\n",
            "| REAL CLASS                    | 5                                                  |\n",
            "| REAL CLASS NAME               | NUMERIC                                            |\n",
            "| CONFIDENCE OVER OTHER CLASSES | 100.00%                                            |\n",
            "+-------------------------------+----------------------------------------------------+\n",
            "+------------------------------------------------------------------------------------+\n",
            "|                      QUESTION CLASSIFICATION PREDICTION TABLE                      |\n",
            "+-------------------------------+----------------------------------------------------+\n",
            "| KEY                           | VALUE                                              |\n",
            "+-------------------------------+----------------------------------------------------+\n",
            "| QUESTION                      | In the movie Groundshog Day what is the name of    |\n",
            "|                               | the character played by Andie MacDowell ?          |\n",
            "| PREDICTED CLASS               | 2                                                  |\n",
            "| PREDICTED CLASS NAME          | ENTITY                                             |\n",
            "| REAL CLASS                    | 3                                                  |\n",
            "| REAL CLASS NAME               | HUMAN                                              |\n",
            "| CONFIDENCE OVER OTHER CLASSES | 98.62%                                             |\n",
            "+-------------------------------+----------------------------------------------------+\n",
            "+--------------------------------------------------------------------+\n",
            "|              QUESTION CLASSIFICATION PREDICTION TABLE              |\n",
            "+-------------------------------+------------------------------------+\n",
            "| KEY                           | VALUE                              |\n",
            "+-------------------------------+------------------------------------+\n",
            "| QUESTION                      | When did they canonize the Bible ? |\n",
            "| PREDICTED CLASS               | 5                                  |\n",
            "| PREDICTED CLASS NAME          | NUMERIC                            |\n",
            "| REAL CLASS                    | 5                                  |\n",
            "| REAL CLASS NAME               | NUMERIC                            |\n",
            "| CONFIDENCE OVER OTHER CLASSES | 100.00%                            |\n",
            "+-------------------------------+------------------------------------+\n",
            "+----------------------------------------------------------------+\n",
            "|            QUESTION CLASSIFICATION PREDICTION TABLE            |\n",
            "+-------------------------------+--------------------------------+\n",
            "| KEY                           | VALUE                          |\n",
            "+-------------------------------+--------------------------------+\n",
            "| QUESTION                      | What is the root of all evil ? |\n",
            "| PREDICTED CLASS               | 1                              |\n",
            "| PREDICTED CLASS NAME          | DESCRIPTION                    |\n",
            "| REAL CLASS                    | 1                              |\n",
            "| REAL CLASS NAME               | DESCRIPTION                    |\n",
            "| CONFIDENCE OVER OTHER CLASSES | 99.88%                         |\n",
            "+-------------------------------+--------------------------------+\n",
            "+----------------------------------------------------------------------------+\n",
            "|                  QUESTION CLASSIFICATION PREDICTION TABLE                  |\n",
            "+-------------------------------+--------------------------------------------+\n",
            "| KEY                           | VALUE                                      |\n",
            "+-------------------------------+--------------------------------------------+\n",
            "| QUESTION                      | What are the largest libraries in the US ? |\n",
            "| PREDICTED CLASS               | 2                                          |\n",
            "| PREDICTED CLASS NAME          | ENTITY                                     |\n",
            "| REAL CLASS                    | 4                                          |\n",
            "| REAL CLASS NAME               | LOCATION                                   |\n",
            "| CONFIDENCE OVER OTHER CLASSES | 68.21%                                     |\n",
            "+-------------------------------+--------------------------------------------+\n",
            "+---------------------------------------------------------------------+\n",
            "|               QUESTION CLASSIFICATION PREDICTION TABLE              |\n",
            "+-------------------------------+-------------------------------------+\n",
            "| KEY                           | VALUE                               |\n",
            "+-------------------------------+-------------------------------------+\n",
            "| QUESTION                      | Who is John Macarthur , 1767-1834 ? |\n",
            "| PREDICTED CLASS               | 3                                   |\n",
            "| PREDICTED CLASS NAME          | HUMAN                               |\n",
            "| REAL CLASS                    | 3                                   |\n",
            "| REAL CLASS NAME               | HUMAN                               |\n",
            "| CONFIDENCE OVER OTHER CLASSES | 98.81%                              |\n",
            "+-------------------------------+-------------------------------------+\n",
            "+-------------------------------------------------------------------------------+\n",
            "|                    QUESTION CLASSIFICATION PREDICTION TABLE                   |\n",
            "+-------------------------------+-----------------------------------------------+\n",
            "| KEY                           | VALUE                                         |\n",
            "+-------------------------------+-----------------------------------------------+\n",
            "| QUESTION                      | Where can I find full written draft of CTBT ? |\n",
            "| PREDICTED CLASS               | 4                                             |\n",
            "| PREDICTED CLASS NAME          | LOCATION                                      |\n",
            "| REAL CLASS                    | 4                                             |\n",
            "| REAL CLASS NAME               | LOCATION                                      |\n",
            "| CONFIDENCE OVER OTHER CLASSES | 99.95%                                        |\n",
            "+-------------------------------+-----------------------------------------------+\n"
          ],
          "name": "stdout"
        }
      ]
    },
    {
      "cell_type": "markdown",
      "metadata": {
        "id": "PeLYMB9Z7m19"
      },
      "source": [
        "### Confusion matrix."
      ]
    },
    {
      "cell_type": "code",
      "metadata": {
        "id": "fViKUiIW7naU"
      },
      "source": [
        "import itertools\n",
        "from sklearn.metrics import confusion_matrix\n",
        "\n",
        "def plot_confusion_matrix(y_true, y_pred, classes=None, figsize=(5, 5), text_size=20):\n",
        "    cm = confusion_matrix(y_true, y_pred)\n",
        "    cm_norm = cm.astype(\"float\") / cm.sum(axis=1)[:, np.newaxis]\n",
        "    n_classes = cm.shape[0]\n",
        "\n",
        "    fig, ax = plt.subplots(figsize=figsize)\n",
        "    cax = ax.matshow(cm, cmap=plt.cm.Blues)\n",
        "    fig.colorbar(cax)\n",
        "\n",
        "    if classes.all():\n",
        "        labels = classes\n",
        "    else:\n",
        "        labels = np.arange(cm.shape[0])\n",
        "\n",
        "    ax.set(title=\"Confusion Matrix\",\n",
        "         xlabel=\"Predicted label\",\n",
        "         ylabel=\"True label\",\n",
        "         xticks=np.arange(n_classes),\n",
        "         yticks=np.arange(n_classes),\n",
        "         xticklabels=labels,\n",
        "         yticklabels=labels,\n",
        "          )\n",
        "    ax.yaxis.label.set_color('green')\n",
        "    ax.xaxis.label.set_color('green')\n",
        "\n",
        "\n",
        "    ax.xaxis.set_label_position(\"bottom\")\n",
        "    ax.xaxis.tick_bottom()\n",
        "\n",
        "    threshold = (cm.max() + cm.min()) / 2.\n",
        "    # Plot the text on each cell\n",
        "    for i, j in itertools.product(range(cm.shape[0]), range(cm.shape[1])):\n",
        "        plt.text(j, i, f\"{cm[i, j]} ({cm_norm[i, j]*100:.1f}%)\",\n",
        "                 horizontalalignment=\"center\",\n",
        "                 color=\"white\" if cm[i, j] > threshold else \"black\",\n",
        "                 size=text_size)"
      ],
      "execution_count": 100,
      "outputs": []
    },
    {
      "cell_type": "code",
      "metadata": {
        "id": "9c0JLuE0lciO"
      },
      "source": [
        "predictions = tf.argmax(\n",
        "    question_category_model(test_features_padded),\n",
        "    axis=1\n",
        ").numpy()"
      ],
      "execution_count": 101,
      "outputs": []
    },
    {
      "cell_type": "code",
      "metadata": {
        "colab": {
          "base_uri": "https://localhost:8080/"
        },
        "id": "R9kb0t9dmNK0",
        "outputId": "e7c3b4a7-2520-4bb0-9180-70e12b70f7f9"
      },
      "source": [
        "from matplotlib import pyplot as plt\n",
        "class_names"
      ],
      "execution_count": 102,
      "outputs": [
        {
          "output_type": "execute_result",
          "data": {
            "text/plain": [
              "array(['ABBREVIATION', 'DESCRIPTION', 'ENTITY', 'HUMAN', 'LOCATION',\n",
              "       'NUMERIC'], dtype=object)"
            ]
          },
          "metadata": {
            "tags": []
          },
          "execution_count": 102
        }
      ]
    },
    {
      "cell_type": "code",
      "metadata": {
        "colab": {
          "base_uri": "https://localhost:8080/",
          "height": 852
        },
        "id": "dqTmifROlX8N",
        "outputId": "7525c762-7f55-4342-9c87-47928138a2b6"
      },
      "source": [
        "plot_confusion_matrix(test_labels, predictions, classes=class_names, figsize=(15, 15), text_size=16)"
      ],
      "execution_count": 105,
      "outputs": [
        {
          "output_type": "display_data",
          "data": {
            "image/png": "[encoded data removed]",
            "text/plain": [
              "<Figure size 1080x1080 with 2 Axes>"
            ]
          },
          "metadata": {
            "tags": [],
            "needs_background": "light"
          }
        }
      ]
    },
    {
      "cell_type": "markdown",
      "metadata": {
        "id": "095Bht5ulFXv"
      },
      "source": [
        "### Next.\n",
        "\n",
        "We are going to use `Conv` nets to do this task."
      ]
    }
  ]
}